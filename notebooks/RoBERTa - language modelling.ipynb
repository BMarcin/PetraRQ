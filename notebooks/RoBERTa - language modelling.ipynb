{
 "cells": [
  {
   "cell_type": "markdown",
   "metadata": {},
   "source": [
    "# RoBERTa LM training"
   ]
  },
  {
   "cell_type": "code",
   "execution_count": 1,
   "metadata": {},
   "outputs": [
    {
     "name": "stderr",
     "output_type": "stream",
     "text": [
      "Failed to detect the name of this notebook, you can set it manually with the WANDB_NOTEBOOK_NAME environment variable to enable code saving.\n",
      "\u001b[34m\u001b[1mwandb\u001b[0m: Currently logged in as: \u001b[33mbmarcin\u001b[0m (use `wandb login --relogin` to force relogin)\n"
     ]
    },
    {
     "data": {
      "text/plain": [
       "True"
      ]
     },
     "execution_count": 1,
     "metadata": {},
     "output_type": "execute_result"
    }
   ],
   "source": [
    "import wandb\n",
    "wandb.login()"
   ]
  },
  {
   "cell_type": "code",
   "execution_count": 2,
   "metadata": {},
   "outputs": [],
   "source": [
    "import os\n",
    "os.environ['TOKENIZERS_PARALLELISM'] = 'true'"
   ]
  },
  {
   "cell_type": "code",
   "execution_count": 3,
   "metadata": {},
   "outputs": [],
   "source": [
    "vocab_size = 16_000"
   ]
  },
  {
   "cell_type": "code",
   "execution_count": 4,
   "metadata": {},
   "outputs": [],
   "source": [
    "special_tokens = [\n",
    "    '<url>',\n",
    "    '<email>',\n",
    "    '<number>',\n",
    "    '<date>', \n",
    "]"
   ]
  },
  {
   "cell_type": "code",
   "execution_count": 5,
   "metadata": {},
   "outputs": [],
   "source": [
    "import os"
   ]
  },
  {
   "cell_type": "code",
   "execution_count": 6,
   "metadata": {},
   "outputs": [],
   "source": [
    "dev_ds = \"../data/dev/lm.txt\"\n",
    "test_ds = \"../data/test/lm.txt\"\n",
    "train_ds = \"../data/train/lm.txt\"\n",
    "\n",
    "notebook_path_prefix = \"roberta_lm\""
   ]
  },
  {
   "cell_type": "markdown",
   "metadata": {},
   "source": [
    "## Building the tokenizer"
   ]
  },
  {
   "cell_type": "code",
   "execution_count": 7,
   "metadata": {},
   "outputs": [],
   "source": [
    "from tokenizers import ByteLevelBPETokenizer"
   ]
  },
  {
   "cell_type": "code",
   "execution_count": 8,
   "metadata": {},
   "outputs": [],
   "source": [
    "bpe = ByteLevelBPETokenizer()"
   ]
  },
  {
   "cell_type": "code",
   "execution_count": 9,
   "metadata": {},
   "outputs": [
    {
     "name": "stdout",
     "output_type": "stream",
     "text": [
      "\n",
      "\n",
      "\n"
     ]
    }
   ],
   "source": [
    "bpe.train(\n",
    "    files=[train_ds], \n",
    "    vocab_size=vocab_size, \n",
    "    min_frequency=2, \n",
    "    special_tokens=[\n",
    "        \"<s>\",\n",
    "        \"<pad>\",\n",
    "        \"</s>\",\n",
    "        \"<unk>\",\n",
    "        \"<mask>\",\n",
    "    ] + special_tokens\n",
    ")"
   ]
  },
  {
   "cell_type": "code",
   "execution_count": 10,
   "metadata": {},
   "outputs": [
    {
     "data": {
      "text/plain": [
       "['roberta_lm/vocab.json', 'roberta_lm/merges.txt']"
      ]
     },
     "execution_count": 10,
     "metadata": {},
     "output_type": "execute_result"
    }
   ],
   "source": [
    "os.makedirs(notebook_path_prefix, exist_ok=True)\n",
    "bpe.save_model(notebook_path_prefix)"
   ]
  },
  {
   "cell_type": "markdown",
   "metadata": {},
   "source": [
    "## Create the tokenizer"
   ]
  },
  {
   "cell_type": "code",
   "execution_count": 11,
   "metadata": {},
   "outputs": [],
   "source": [
    "from transformers import RobertaConfig, RobertaTokenizerFast"
   ]
  },
  {
   "cell_type": "code",
   "execution_count": 12,
   "metadata": {},
   "outputs": [
    {
     "name": "stderr",
     "output_type": "stream",
     "text": [
      "file roberta_lm/config.json not found\n",
      "file roberta_lm/config.json not found\n"
     ]
    }
   ],
   "source": [
    "tokenizer = RobertaTokenizerFast.from_pretrained(notebook_path_prefix, max_len=512, use_fast=True)"
   ]
  },
  {
   "cell_type": "code",
   "execution_count": 13,
   "metadata": {},
   "outputs": [
    {
     "data": {
      "text/plain": [
       "0"
      ]
     },
     "execution_count": 13,
     "metadata": {},
     "output_type": "execute_result"
    }
   ],
   "source": [
    "tokenizer.add_special_tokens({\n",
    "    'additional_special_tokens': special_tokens\n",
    "})"
   ]
  },
  {
   "cell_type": "code",
   "execution_count": 14,
   "metadata": {},
   "outputs": [
    {
     "data": {
      "text/plain": [
       "{'bos_token': '<s>',\n",
       " 'eos_token': '</s>',\n",
       " 'unk_token': '<unk>',\n",
       " 'sep_token': '</s>',\n",
       " 'pad_token': '<pad>',\n",
       " 'cls_token': '<s>',\n",
       " 'mask_token': '<mask>',\n",
       " 'additional_special_tokens': ['<url>', '<email>', '<number>', '<date>']}"
      ]
     },
     "execution_count": 14,
     "metadata": {},
     "output_type": "execute_result"
    }
   ],
   "source": [
    "tokenizer.special_tokens_map"
   ]
  },
  {
   "cell_type": "markdown",
   "metadata": {},
   "source": [
    "## Build dataset"
   ]
  },
  {
   "cell_type": "code",
   "execution_count": 15,
   "metadata": {},
   "outputs": [],
   "source": [
    "from datasets import load_dataset"
   ]
  },
  {
   "cell_type": "code",
   "execution_count": 16,
   "metadata": {},
   "outputs": [
    {
     "name": "stderr",
     "output_type": "stream",
     "text": [
      "Using custom data configuration default-799b7100722ede0b\n",
      "Reusing dataset text (/home/mborzymowski/.cache/huggingface/datasets/text/default-799b7100722ede0b/0.0.0/e16f44aa1b321ece1f87b07977cc5d70be93d69b20486d6dacd62e12cf25c9a5)\n"
     ]
    },
    {
     "data": {
      "application/vnd.jupyter.widget-view+json": {
       "model_id": "89c2f3e9b63f4edcac367d7d2b8069cb",
       "version_major": 2,
       "version_minor": 0
      },
      "text/plain": [
       "  0%|          | 0/3 [00:00<?, ?it/s]"
      ]
     },
     "metadata": {},
     "output_type": "display_data"
    }
   ],
   "source": [
    "dataset = load_dataset('text', data_files={'train': [train_ds], 'test': [test_ds], 'dev': [dev_ds]})"
   ]
  },
  {
   "cell_type": "code",
   "execution_count": 17,
   "metadata": {},
   "outputs": [],
   "source": [
    "def encode(examples):\n",
    "    return tokenizer(\n",
    "        examples[\"text\"],\n",
    "        padding=\"max_length\",\n",
    "        truncation=True,\n",
    "        max_length=512\n",
    "    )"
   ]
  },
  {
   "cell_type": "code",
   "execution_count": 18,
   "metadata": {},
   "outputs": [
    {
     "name": "stderr",
     "output_type": "stream",
     "text": [
      "Loading cached processed dataset at /home/mborzymowski/.cache/huggingface/datasets/text/default-799b7100722ede0b/0.0.0/e16f44aa1b321ece1f87b07977cc5d70be93d69b20486d6dacd62e12cf25c9a5/cache-a9f852216702fb6b.arrow\n",
      "Loading cached processed dataset at /home/mborzymowski/.cache/huggingface/datasets/text/default-799b7100722ede0b/0.0.0/e16f44aa1b321ece1f87b07977cc5d70be93d69b20486d6dacd62e12cf25c9a5/cache-94b0d63627c9f3f7.arrow\n",
      "Loading cached processed dataset at /home/mborzymowski/.cache/huggingface/datasets/text/default-799b7100722ede0b/0.0.0/e16f44aa1b321ece1f87b07977cc5d70be93d69b20486d6dacd62e12cf25c9a5/cache-29039055cb7e9074.arrow\n"
     ]
    }
   ],
   "source": [
    "tokenized_datasets = dataset.map(\n",
    "    encode,\n",
    "    batched=True,\n",
    "    remove_columns=['text'],\n",
    "    load_from_cache_file=True,\n",
    ")"
   ]
  },
  {
   "cell_type": "markdown",
   "metadata": {},
   "source": [
    "## DS collocator"
   ]
  },
  {
   "cell_type": "code",
   "execution_count": 19,
   "metadata": {},
   "outputs": [],
   "source": [
    "from transformers import DataCollatorForLanguageModeling"
   ]
  },
  {
   "cell_type": "code",
   "execution_count": 20,
   "metadata": {},
   "outputs": [],
   "source": [
    "data_collator = DataCollatorForLanguageModeling(\n",
    "    tokenizer=tokenizer, mlm=True, mlm_probability=0.2\n",
    ")"
   ]
  },
  {
   "cell_type": "markdown",
   "metadata": {},
   "source": [
    "## Build model"
   ]
  },
  {
   "cell_type": "code",
   "execution_count": 21,
   "metadata": {},
   "outputs": [],
   "source": [
    "import os\n",
    "os.environ[\"CUDA_VISIBLE_DEVICES\"]='3,4'"
   ]
  },
  {
   "cell_type": "code",
   "execution_count": 22,
   "metadata": {},
   "outputs": [],
   "source": [
    "from transformers import RobertaForMaskedLM"
   ]
  },
  {
   "cell_type": "code",
   "execution_count": 23,
   "metadata": {},
   "outputs": [],
   "source": [
    "config = RobertaConfig(\n",
    "    vocab_size=vocab_size,\n",
    "    max_position_embeddings=514,\n",
    "    num_attention_heads=12,\n",
    "    num_hidden_layers=12,\n",
    "    type_vocab_size=1,\n",
    "    layer_norm_eps=0.00001,\n",
    "    hidden_size=768,\n",
    "    hidden_dropout_prob=0.1\n",
    ")"
   ]
  },
  {
   "cell_type": "code",
   "execution_count": 24,
   "metadata": {},
   "outputs": [],
   "source": [
    "model = RobertaForMaskedLM(config=config)"
   ]
  },
  {
   "cell_type": "code",
   "execution_count": 25,
   "metadata": {},
   "outputs": [
    {
     "data": {
      "text/plain": [
       "98347648"
      ]
     },
     "execution_count": 25,
     "metadata": {},
     "output_type": "execute_result"
    }
   ],
   "source": [
    "model.num_parameters()"
   ]
  },
  {
   "cell_type": "markdown",
   "metadata": {},
   "source": [
    "## Training config"
   ]
  },
  {
   "cell_type": "code",
   "execution_count": 26,
   "metadata": {},
   "outputs": [
    {
     "data": {
      "text/plain": [
       "True"
      ]
     },
     "execution_count": 26,
     "metadata": {},
     "output_type": "execute_result"
    }
   ],
   "source": [
    "import torch\n",
    "torch.cuda.is_available()"
   ]
  },
  {
   "cell_type": "code",
   "execution_count": 27,
   "metadata": {},
   "outputs": [],
   "source": [
    "from transformers import Trainer, TrainingArguments"
   ]
  },
  {
   "cell_type": "code",
   "execution_count": 28,
   "metadata": {},
   "outputs": [],
   "source": [
    "training_args = TrainingArguments(\n",
    "    output_dir=notebook_path_prefix+\"_lm\",\n",
    "    overwrite_output_dir=True,\n",
    "    num_train_epochs=180,\n",
    "    per_device_train_batch_size=18,\n",
    "    per_device_eval_batch_size=32,\n",
    "    save_steps=10_000,\n",
    "    save_total_limit=3,\n",
    "    do_train=True,\n",
    "    do_eval=True,\n",
    "    no_cuda=False,\n",
    "    logging_steps=2500,\n",
    "    eval_steps=2500,\n",
    "    evaluation_strategy='steps',\n",
    "    report_to=\"wandb\",\n",
    "    run_name=\"roberta-lm\"\n",
    ")"
   ]
  },
  {
   "cell_type": "code",
   "execution_count": 29,
   "metadata": {},
   "outputs": [],
   "source": [
    "trainer = Trainer(\n",
    "    model=model,\n",
    "    tokenizer=tokenizer,\n",
    "    args=training_args,\n",
    "    data_collator=data_collator,\n",
    "    train_dataset=tokenized_datasets[\"train\"],\n",
    "    eval_dataset=tokenized_datasets['dev']\n",
    ")"
   ]
  },
  {
   "cell_type": "markdown",
   "metadata": {},
   "source": [
    "## Train"
   ]
  },
  {
   "cell_type": "code",
   "execution_count": 30,
   "metadata": {},
   "outputs": [
    {
     "name": "stderr",
     "output_type": "stream",
     "text": [
      "***** Running training *****\n",
      "  Num examples = 23999\n",
      "  Num Epochs = 180\n",
      "  Instantaneous batch size per device = 18\n",
      "  Total train batch size (w. parallel, distributed & accumulation) = 36\n",
      "  Gradient Accumulation steps = 1\n",
      "  Total optimization steps = 120060\n",
      "Automatic Weights & Biases logging enabled, to disable set os.environ[\"WANDB_DISABLED\"] = \"true\"\n"
     ]
    },
    {
     "data": {
      "text/html": [
       "\n",
       "                    Syncing run <strong><a href=\"https://wandb.ai/bmarcin/huggingface/runs/sops05k3\" target=\"_blank\">roberta-lm</a></strong> to <a href=\"https://wandb.ai/bmarcin/huggingface\" target=\"_blank\">Weights & Biases</a> (<a href=\"https://docs.wandb.com/integrations/jupyter.html\" target=\"_blank\">docs</a>).<br/>\n",
       "\n",
       "                "
      ],
      "text/plain": [
       "<IPython.core.display.HTML object>"
      ]
     },
     "metadata": {},
     "output_type": "display_data"
    },
    {
     "name": "stderr",
     "output_type": "stream",
     "text": [
      "/home/mborzymowski/.conda/envs/PetraRQ/lib/python3.8/site-packages/torch/nn/parallel/_functions.py:68: UserWarning: Was asked to gather along dimension 0, but all input tensors were scalars; will instead unsqueeze and return a vector.\n",
      "  warnings.warn('Was asked to gather along dimension 0, but all '\n"
     ]
    },
    {
     "data": {
      "text/html": [
       "\n",
       "    <div>\n",
       "      \n",
       "      <progress value='120060' max='120060' style='width:300px; height:20px; vertical-align: middle;'></progress>\n",
       "      [120060/120060 30:37:46, Epoch 180/180]\n",
       "    </div>\n",
       "    <table border=\"1\" class=\"dataframe\">\n",
       "  <thead>\n",
       "    <tr style=\"text-align: left;\">\n",
       "      <th>Step</th>\n",
       "      <th>Training Loss</th>\n",
       "      <th>Validation Loss</th>\n",
       "    </tr>\n",
       "  </thead>\n",
       "  <tbody>\n",
       "    <tr>\n",
       "      <td>2500</td>\n",
       "      <td>5.290500</td>\n",
       "      <td>3.825563</td>\n",
       "    </tr>\n",
       "    <tr>\n",
       "      <td>5000</td>\n",
       "      <td>3.383100</td>\n",
       "      <td>2.457770</td>\n",
       "    </tr>\n",
       "    <tr>\n",
       "      <td>7500</td>\n",
       "      <td>2.436200</td>\n",
       "      <td>1.921545</td>\n",
       "    </tr>\n",
       "    <tr>\n",
       "      <td>10000</td>\n",
       "      <td>1.948900</td>\n",
       "      <td>1.533559</td>\n",
       "    </tr>\n",
       "    <tr>\n",
       "      <td>12500</td>\n",
       "      <td>1.616200</td>\n",
       "      <td>1.340742</td>\n",
       "    </tr>\n",
       "    <tr>\n",
       "      <td>15000</td>\n",
       "      <td>1.433600</td>\n",
       "      <td>1.228006</td>\n",
       "    </tr>\n",
       "    <tr>\n",
       "      <td>17500</td>\n",
       "      <td>1.312600</td>\n",
       "      <td>1.154202</td>\n",
       "    </tr>\n",
       "    <tr>\n",
       "      <td>20000</td>\n",
       "      <td>1.220500</td>\n",
       "      <td>1.086407</td>\n",
       "    </tr>\n",
       "    <tr>\n",
       "      <td>22500</td>\n",
       "      <td>1.151100</td>\n",
       "      <td>1.040299</td>\n",
       "    </tr>\n",
       "    <tr>\n",
       "      <td>25000</td>\n",
       "      <td>1.089400</td>\n",
       "      <td>0.998654</td>\n",
       "    </tr>\n",
       "    <tr>\n",
       "      <td>27500</td>\n",
       "      <td>1.040400</td>\n",
       "      <td>0.969790</td>\n",
       "    </tr>\n",
       "    <tr>\n",
       "      <td>30000</td>\n",
       "      <td>0.996600</td>\n",
       "      <td>0.946310</td>\n",
       "    </tr>\n",
       "    <tr>\n",
       "      <td>32500</td>\n",
       "      <td>0.957500</td>\n",
       "      <td>0.926476</td>\n",
       "    </tr>\n",
       "    <tr>\n",
       "      <td>35000</td>\n",
       "      <td>0.923000</td>\n",
       "      <td>0.907087</td>\n",
       "    </tr>\n",
       "    <tr>\n",
       "      <td>37500</td>\n",
       "      <td>0.892700</td>\n",
       "      <td>0.881389</td>\n",
       "    </tr>\n",
       "    <tr>\n",
       "      <td>40000</td>\n",
       "      <td>0.865000</td>\n",
       "      <td>0.874909</td>\n",
       "    </tr>\n",
       "    <tr>\n",
       "      <td>42500</td>\n",
       "      <td>0.840800</td>\n",
       "      <td>0.860218</td>\n",
       "    </tr>\n",
       "    <tr>\n",
       "      <td>45000</td>\n",
       "      <td>0.815200</td>\n",
       "      <td>0.851509</td>\n",
       "    </tr>\n",
       "    <tr>\n",
       "      <td>47500</td>\n",
       "      <td>0.795600</td>\n",
       "      <td>0.835916</td>\n",
       "    </tr>\n",
       "    <tr>\n",
       "      <td>50000</td>\n",
       "      <td>0.774900</td>\n",
       "      <td>0.830197</td>\n",
       "    </tr>\n",
       "    <tr>\n",
       "      <td>52500</td>\n",
       "      <td>0.754900</td>\n",
       "      <td>0.822191</td>\n",
       "    </tr>\n",
       "    <tr>\n",
       "      <td>55000</td>\n",
       "      <td>0.737900</td>\n",
       "      <td>0.808013</td>\n",
       "    </tr>\n",
       "    <tr>\n",
       "      <td>57500</td>\n",
       "      <td>0.720300</td>\n",
       "      <td>0.808034</td>\n",
       "    </tr>\n",
       "    <tr>\n",
       "      <td>60000</td>\n",
       "      <td>0.706400</td>\n",
       "      <td>0.795214</td>\n",
       "    </tr>\n",
       "    <tr>\n",
       "      <td>62500</td>\n",
       "      <td>0.690800</td>\n",
       "      <td>0.784791</td>\n",
       "    </tr>\n",
       "    <tr>\n",
       "      <td>65000</td>\n",
       "      <td>0.679200</td>\n",
       "      <td>0.785798</td>\n",
       "    </tr>\n",
       "    <tr>\n",
       "      <td>67500</td>\n",
       "      <td>0.666000</td>\n",
       "      <td>0.781490</td>\n",
       "    </tr>\n",
       "    <tr>\n",
       "      <td>70000</td>\n",
       "      <td>0.651900</td>\n",
       "      <td>0.782429</td>\n",
       "    </tr>\n",
       "    <tr>\n",
       "      <td>72500</td>\n",
       "      <td>0.641700</td>\n",
       "      <td>0.768700</td>\n",
       "    </tr>\n",
       "    <tr>\n",
       "      <td>75000</td>\n",
       "      <td>0.630400</td>\n",
       "      <td>0.769520</td>\n",
       "    </tr>\n",
       "    <tr>\n",
       "      <td>77500</td>\n",
       "      <td>0.619600</td>\n",
       "      <td>0.770383</td>\n",
       "    </tr>\n",
       "    <tr>\n",
       "      <td>80000</td>\n",
       "      <td>0.610300</td>\n",
       "      <td>0.766156</td>\n",
       "    </tr>\n",
       "    <tr>\n",
       "      <td>82500</td>\n",
       "      <td>0.599700</td>\n",
       "      <td>0.753995</td>\n",
       "    </tr>\n",
       "    <tr>\n",
       "      <td>85000</td>\n",
       "      <td>0.591000</td>\n",
       "      <td>0.755766</td>\n",
       "    </tr>\n",
       "    <tr>\n",
       "      <td>87500</td>\n",
       "      <td>0.582100</td>\n",
       "      <td>0.758696</td>\n",
       "    </tr>\n",
       "    <tr>\n",
       "      <td>90000</td>\n",
       "      <td>0.575400</td>\n",
       "      <td>0.759485</td>\n",
       "    </tr>\n",
       "    <tr>\n",
       "      <td>92500</td>\n",
       "      <td>0.567500</td>\n",
       "      <td>0.753683</td>\n",
       "    </tr>\n",
       "    <tr>\n",
       "      <td>95000</td>\n",
       "      <td>0.560500</td>\n",
       "      <td>0.748113</td>\n",
       "    </tr>\n",
       "    <tr>\n",
       "      <td>97500</td>\n",
       "      <td>0.555200</td>\n",
       "      <td>0.744720</td>\n",
       "    </tr>\n",
       "    <tr>\n",
       "      <td>100000</td>\n",
       "      <td>0.547400</td>\n",
       "      <td>0.745114</td>\n",
       "    </tr>\n",
       "    <tr>\n",
       "      <td>102500</td>\n",
       "      <td>0.542400</td>\n",
       "      <td>0.740757</td>\n",
       "    </tr>\n",
       "    <tr>\n",
       "      <td>105000</td>\n",
       "      <td>0.537200</td>\n",
       "      <td>0.741307</td>\n",
       "    </tr>\n",
       "    <tr>\n",
       "      <td>107500</td>\n",
       "      <td>0.533500</td>\n",
       "      <td>0.741551</td>\n",
       "    </tr>\n",
       "    <tr>\n",
       "      <td>110000</td>\n",
       "      <td>0.529200</td>\n",
       "      <td>0.738246</td>\n",
       "    </tr>\n",
       "    <tr>\n",
       "      <td>112500</td>\n",
       "      <td>0.525300</td>\n",
       "      <td>0.740493</td>\n",
       "    </tr>\n",
       "    <tr>\n",
       "      <td>115000</td>\n",
       "      <td>0.523100</td>\n",
       "      <td>0.740806</td>\n",
       "    </tr>\n",
       "    <tr>\n",
       "      <td>117500</td>\n",
       "      <td>0.517500</td>\n",
       "      <td>0.732663</td>\n",
       "    </tr>\n",
       "    <tr>\n",
       "      <td>120000</td>\n",
       "      <td>0.518000</td>\n",
       "      <td>0.733457</td>\n",
       "    </tr>\n",
       "  </tbody>\n",
       "</table><p>"
      ],
      "text/plain": [
       "<IPython.core.display.HTML object>"
      ]
     },
     "metadata": {},
     "output_type": "display_data"
    },
    {
     "name": "stderr",
     "output_type": "stream",
     "text": [
      "***** Running Evaluation *****\n",
      "  Num examples = 3427\n",
      "  Batch size = 64\n",
      "***** Running Evaluation *****\n",
      "  Num examples = 3427\n",
      "  Batch size = 64\n",
      "***** Running Evaluation *****\n",
      "  Num examples = 3427\n",
      "  Batch size = 64\n",
      "***** Running Evaluation *****\n",
      "  Num examples = 3427\n",
      "  Batch size = 64\n",
      "Saving model checkpoint to roberta_lm_lm/checkpoint-10000\n",
      "Configuration saved in roberta_lm_lm/checkpoint-10000/config.json\n",
      "Model weights saved in roberta_lm_lm/checkpoint-10000/pytorch_model.bin\n",
      "tokenizer config file saved in roberta_lm_lm/checkpoint-10000/tokenizer_config.json\n",
      "Special tokens file saved in roberta_lm_lm/checkpoint-10000/special_tokens_map.json\n",
      "/home/mborzymowski/.conda/envs/PetraRQ/lib/python3.8/site-packages/torch/nn/parallel/_functions.py:68: UserWarning: Was asked to gather along dimension 0, but all input tensors were scalars; will instead unsqueeze and return a vector.\n",
      "  warnings.warn('Was asked to gather along dimension 0, but all '\n",
      "***** Running Evaluation *****\n",
      "  Num examples = 3427\n",
      "  Batch size = 64\n",
      "***** Running Evaluation *****\n",
      "  Num examples = 3427\n",
      "  Batch size = 64\n",
      "***** Running Evaluation *****\n",
      "  Num examples = 3427\n",
      "  Batch size = 64\n",
      "***** Running Evaluation *****\n",
      "  Num examples = 3427\n",
      "  Batch size = 64\n",
      "Saving model checkpoint to roberta_lm_lm/checkpoint-20000\n",
      "Configuration saved in roberta_lm_lm/checkpoint-20000/config.json\n",
      "Model weights saved in roberta_lm_lm/checkpoint-20000/pytorch_model.bin\n",
      "tokenizer config file saved in roberta_lm_lm/checkpoint-20000/tokenizer_config.json\n",
      "Special tokens file saved in roberta_lm_lm/checkpoint-20000/special_tokens_map.json\n",
      "/home/mborzymowski/.conda/envs/PetraRQ/lib/python3.8/site-packages/torch/nn/parallel/_functions.py:68: UserWarning: Was asked to gather along dimension 0, but all input tensors were scalars; will instead unsqueeze and return a vector.\n",
      "  warnings.warn('Was asked to gather along dimension 0, but all '\n",
      "***** Running Evaluation *****\n",
      "  Num examples = 3427\n",
      "  Batch size = 64\n",
      "***** Running Evaluation *****\n",
      "  Num examples = 3427\n",
      "  Batch size = 64\n",
      "***** Running Evaluation *****\n",
      "  Num examples = 3427\n",
      "  Batch size = 64\n",
      "***** Running Evaluation *****\n",
      "  Num examples = 3427\n",
      "  Batch size = 64\n",
      "Saving model checkpoint to roberta_lm_lm/checkpoint-30000\n",
      "Configuration saved in roberta_lm_lm/checkpoint-30000/config.json\n",
      "Model weights saved in roberta_lm_lm/checkpoint-30000/pytorch_model.bin\n",
      "tokenizer config file saved in roberta_lm_lm/checkpoint-30000/tokenizer_config.json\n",
      "Special tokens file saved in roberta_lm_lm/checkpoint-30000/special_tokens_map.json\n",
      "/home/mborzymowski/.conda/envs/PetraRQ/lib/python3.8/site-packages/torch/nn/parallel/_functions.py:68: UserWarning: Was asked to gather along dimension 0, but all input tensors were scalars; will instead unsqueeze and return a vector.\n",
      "  warnings.warn('Was asked to gather along dimension 0, but all '\n",
      "***** Running Evaluation *****\n",
      "  Num examples = 3427\n",
      "  Batch size = 64\n",
      "***** Running Evaluation *****\n",
      "  Num examples = 3427\n",
      "  Batch size = 64\n",
      "***** Running Evaluation *****\n",
      "  Num examples = 3427\n",
      "  Batch size = 64\n",
      "***** Running Evaluation *****\n",
      "  Num examples = 3427\n",
      "  Batch size = 64\n",
      "Saving model checkpoint to roberta_lm_lm/checkpoint-40000\n",
      "Configuration saved in roberta_lm_lm/checkpoint-40000/config.json\n",
      "Model weights saved in roberta_lm_lm/checkpoint-40000/pytorch_model.bin\n",
      "tokenizer config file saved in roberta_lm_lm/checkpoint-40000/tokenizer_config.json\n",
      "Special tokens file saved in roberta_lm_lm/checkpoint-40000/special_tokens_map.json\n",
      "Deleting older checkpoint [roberta_lm_lm/checkpoint-10000] due to args.save_total_limit\n",
      "/home/mborzymowski/.conda/envs/PetraRQ/lib/python3.8/site-packages/torch/nn/parallel/_functions.py:68: UserWarning: Was asked to gather along dimension 0, but all input tensors were scalars; will instead unsqueeze and return a vector.\n",
      "  warnings.warn('Was asked to gather along dimension 0, but all '\n",
      "***** Running Evaluation *****\n",
      "  Num examples = 3427\n",
      "  Batch size = 64\n",
      "***** Running Evaluation *****\n",
      "  Num examples = 3427\n",
      "  Batch size = 64\n",
      "***** Running Evaluation *****\n",
      "  Num examples = 3427\n",
      "  Batch size = 64\n",
      "***** Running Evaluation *****\n",
      "  Num examples = 3427\n",
      "  Batch size = 64\n",
      "Saving model checkpoint to roberta_lm_lm/checkpoint-50000\n",
      "Configuration saved in roberta_lm_lm/checkpoint-50000/config.json\n",
      "Model weights saved in roberta_lm_lm/checkpoint-50000/pytorch_model.bin\n",
      "tokenizer config file saved in roberta_lm_lm/checkpoint-50000/tokenizer_config.json\n",
      "Special tokens file saved in roberta_lm_lm/checkpoint-50000/special_tokens_map.json\n",
      "Deleting older checkpoint [roberta_lm_lm/checkpoint-20000] due to args.save_total_limit\n",
      "/home/mborzymowski/.conda/envs/PetraRQ/lib/python3.8/site-packages/torch/nn/parallel/_functions.py:68: UserWarning: Was asked to gather along dimension 0, but all input tensors were scalars; will instead unsqueeze and return a vector.\n",
      "  warnings.warn('Was asked to gather along dimension 0, but all '\n",
      "***** Running Evaluation *****\n",
      "  Num examples = 3427\n",
      "  Batch size = 64\n",
      "***** Running Evaluation *****\n",
      "  Num examples = 3427\n",
      "  Batch size = 64\n",
      "***** Running Evaluation *****\n",
      "  Num examples = 3427\n",
      "  Batch size = 64\n",
      "***** Running Evaluation *****\n",
      "  Num examples = 3427\n",
      "  Batch size = 64\n",
      "Saving model checkpoint to roberta_lm_lm/checkpoint-60000\n",
      "Configuration saved in roberta_lm_lm/checkpoint-60000/config.json\n",
      "Model weights saved in roberta_lm_lm/checkpoint-60000/pytorch_model.bin\n",
      "tokenizer config file saved in roberta_lm_lm/checkpoint-60000/tokenizer_config.json\n",
      "Special tokens file saved in roberta_lm_lm/checkpoint-60000/special_tokens_map.json\n",
      "Deleting older checkpoint [roberta_lm_lm/checkpoint-30000] due to args.save_total_limit\n",
      "/home/mborzymowski/.conda/envs/PetraRQ/lib/python3.8/site-packages/torch/nn/parallel/_functions.py:68: UserWarning: Was asked to gather along dimension 0, but all input tensors were scalars; will instead unsqueeze and return a vector.\n",
      "  warnings.warn('Was asked to gather along dimension 0, but all '\n",
      "***** Running Evaluation *****\n",
      "  Num examples = 3427\n",
      "  Batch size = 64\n",
      "***** Running Evaluation *****\n",
      "  Num examples = 3427\n",
      "  Batch size = 64\n",
      "***** Running Evaluation *****\n",
      "  Num examples = 3427\n",
      "  Batch size = 64\n",
      "***** Running Evaluation *****\n",
      "  Num examples = 3427\n",
      "  Batch size = 64\n",
      "Saving model checkpoint to roberta_lm_lm/checkpoint-70000\n",
      "Configuration saved in roberta_lm_lm/checkpoint-70000/config.json\n",
      "Model weights saved in roberta_lm_lm/checkpoint-70000/pytorch_model.bin\n",
      "tokenizer config file saved in roberta_lm_lm/checkpoint-70000/tokenizer_config.json\n",
      "Special tokens file saved in roberta_lm_lm/checkpoint-70000/special_tokens_map.json\n",
      "Deleting older checkpoint [roberta_lm_lm/checkpoint-40000] due to args.save_total_limit\n",
      "/home/mborzymowski/.conda/envs/PetraRQ/lib/python3.8/site-packages/torch/nn/parallel/_functions.py:68: UserWarning: Was asked to gather along dimension 0, but all input tensors were scalars; will instead unsqueeze and return a vector.\n",
      "  warnings.warn('Was asked to gather along dimension 0, but all '\n",
      "***** Running Evaluation *****\n",
      "  Num examples = 3427\n",
      "  Batch size = 64\n",
      "***** Running Evaluation *****\n",
      "  Num examples = 3427\n",
      "  Batch size = 64\n",
      "***** Running Evaluation *****\n",
      "  Num examples = 3427\n",
      "  Batch size = 64\n",
      "***** Running Evaluation *****\n",
      "  Num examples = 3427\n",
      "  Batch size = 64\n",
      "Saving model checkpoint to roberta_lm_lm/checkpoint-80000\n",
      "Configuration saved in roberta_lm_lm/checkpoint-80000/config.json\n",
      "Model weights saved in roberta_lm_lm/checkpoint-80000/pytorch_model.bin\n",
      "tokenizer config file saved in roberta_lm_lm/checkpoint-80000/tokenizer_config.json\n",
      "Special tokens file saved in roberta_lm_lm/checkpoint-80000/special_tokens_map.json\n",
      "Deleting older checkpoint [roberta_lm_lm/checkpoint-50000] due to args.save_total_limit\n",
      "/home/mborzymowski/.conda/envs/PetraRQ/lib/python3.8/site-packages/torch/nn/parallel/_functions.py:68: UserWarning: Was asked to gather along dimension 0, but all input tensors were scalars; will instead unsqueeze and return a vector.\n",
      "  warnings.warn('Was asked to gather along dimension 0, but all '\n",
      "***** Running Evaluation *****\n",
      "  Num examples = 3427\n",
      "  Batch size = 64\n",
      "***** Running Evaluation *****\n",
      "  Num examples = 3427\n",
      "  Batch size = 64\n",
      "***** Running Evaluation *****\n",
      "  Num examples = 3427\n",
      "  Batch size = 64\n",
      "***** Running Evaluation *****\n",
      "  Num examples = 3427\n",
      "  Batch size = 64\n",
      "Saving model checkpoint to roberta_lm_lm/checkpoint-90000\n",
      "Configuration saved in roberta_lm_lm/checkpoint-90000/config.json\n",
      "Model weights saved in roberta_lm_lm/checkpoint-90000/pytorch_model.bin\n",
      "tokenizer config file saved in roberta_lm_lm/checkpoint-90000/tokenizer_config.json\n",
      "Special tokens file saved in roberta_lm_lm/checkpoint-90000/special_tokens_map.json\n",
      "Deleting older checkpoint [roberta_lm_lm/checkpoint-60000] due to args.save_total_limit\n",
      "/home/mborzymowski/.conda/envs/PetraRQ/lib/python3.8/site-packages/torch/nn/parallel/_functions.py:68: UserWarning: Was asked to gather along dimension 0, but all input tensors were scalars; will instead unsqueeze and return a vector.\n",
      "  warnings.warn('Was asked to gather along dimension 0, but all '\n",
      "***** Running Evaluation *****\n",
      "  Num examples = 3427\n",
      "  Batch size = 64\n",
      "***** Running Evaluation *****\n",
      "  Num examples = 3427\n",
      "  Batch size = 64\n",
      "***** Running Evaluation *****\n",
      "  Num examples = 3427\n",
      "  Batch size = 64\n",
      "***** Running Evaluation *****\n",
      "  Num examples = 3427\n",
      "  Batch size = 64\n",
      "Saving model checkpoint to roberta_lm_lm/checkpoint-100000\n",
      "Configuration saved in roberta_lm_lm/checkpoint-100000/config.json\n",
      "Model weights saved in roberta_lm_lm/checkpoint-100000/pytorch_model.bin\n",
      "tokenizer config file saved in roberta_lm_lm/checkpoint-100000/tokenizer_config.json\n",
      "Special tokens file saved in roberta_lm_lm/checkpoint-100000/special_tokens_map.json\n",
      "Deleting older checkpoint [roberta_lm_lm/checkpoint-70000] due to args.save_total_limit\n",
      "/home/mborzymowski/.conda/envs/PetraRQ/lib/python3.8/site-packages/torch/nn/parallel/_functions.py:68: UserWarning: Was asked to gather along dimension 0, but all input tensors were scalars; will instead unsqueeze and return a vector.\n",
      "  warnings.warn('Was asked to gather along dimension 0, but all '\n",
      "***** Running Evaluation *****\n",
      "  Num examples = 3427\n",
      "  Batch size = 64\n",
      "***** Running Evaluation *****\n",
      "  Num examples = 3427\n",
      "  Batch size = 64\n",
      "***** Running Evaluation *****\n",
      "  Num examples = 3427\n",
      "  Batch size = 64\n",
      "***** Running Evaluation *****\n",
      "  Num examples = 3427\n",
      "  Batch size = 64\n",
      "Saving model checkpoint to roberta_lm_lm/checkpoint-110000\n",
      "Configuration saved in roberta_lm_lm/checkpoint-110000/config.json\n",
      "Model weights saved in roberta_lm_lm/checkpoint-110000/pytorch_model.bin\n",
      "tokenizer config file saved in roberta_lm_lm/checkpoint-110000/tokenizer_config.json\n",
      "Special tokens file saved in roberta_lm_lm/checkpoint-110000/special_tokens_map.json\n",
      "Deleting older checkpoint [roberta_lm_lm/checkpoint-80000] due to args.save_total_limit\n",
      "/home/mborzymowski/.conda/envs/PetraRQ/lib/python3.8/site-packages/torch/nn/parallel/_functions.py:68: UserWarning: Was asked to gather along dimension 0, but all input tensors were scalars; will instead unsqueeze and return a vector.\n",
      "  warnings.warn('Was asked to gather along dimension 0, but all '\n",
      "***** Running Evaluation *****\n",
      "  Num examples = 3427\n",
      "  Batch size = 64\n",
      "***** Running Evaluation *****\n",
      "  Num examples = 3427\n",
      "  Batch size = 64\n",
      "***** Running Evaluation *****\n",
      "  Num examples = 3427\n",
      "  Batch size = 64\n",
      "***** Running Evaluation *****\n",
      "  Num examples = 3427\n",
      "  Batch size = 64\n",
      "Saving model checkpoint to roberta_lm_lm/checkpoint-120000\n",
      "Configuration saved in roberta_lm_lm/checkpoint-120000/config.json\n",
      "Model weights saved in roberta_lm_lm/checkpoint-120000/pytorch_model.bin\n",
      "tokenizer config file saved in roberta_lm_lm/checkpoint-120000/tokenizer_config.json\n",
      "Special tokens file saved in roberta_lm_lm/checkpoint-120000/special_tokens_map.json\n",
      "Deleting older checkpoint [roberta_lm_lm/checkpoint-90000] due to args.save_total_limit\n",
      "/home/mborzymowski/.conda/envs/PetraRQ/lib/python3.8/site-packages/torch/nn/parallel/_functions.py:68: UserWarning: Was asked to gather along dimension 0, but all input tensors were scalars; will instead unsqueeze and return a vector.\n",
      "  warnings.warn('Was asked to gather along dimension 0, but all '\n",
      "\n",
      "\n",
      "Training completed. Do not forget to share your model on huggingface.co/models =)\n",
      "\n",
      "\n"
     ]
    },
    {
     "data": {
      "text/plain": [
       "TrainOutput(global_step=120060, training_loss=0.9726481260547196, metrics={'train_runtime': 110275.0351, 'train_samples_per_second': 39.173, 'train_steps_per_second': 1.089, 'total_flos': 1.1368047004169011e+18, 'train_loss': 0.9726481260547196, 'epoch': 180.0})"
      ]
     },
     "execution_count": 30,
     "metadata": {},
     "output_type": "execute_result"
    }
   ],
   "source": [
    "trainer.train()"
   ]
  },
  {
   "cell_type": "code",
   "execution_count": 31,
   "metadata": {},
   "outputs": [
    {
     "name": "stderr",
     "output_type": "stream",
     "text": [
      "***** Running Evaluation *****\n",
      "  Num examples = 6858\n",
      "  Batch size = 64\n"
     ]
    },
    {
     "data": {
      "text/html": [
       "\n",
       "    <div>\n",
       "      \n",
       "      <progress value='108' max='108' style='width:300px; height:20px; vertical-align: middle;'></progress>\n",
       "      [108/108 01:06]\n",
       "    </div>\n",
       "    "
      ],
      "text/plain": [
       "<IPython.core.display.HTML object>"
      ]
     },
     "metadata": {},
     "output_type": "display_data"
    },
    {
     "data": {
      "text/plain": [
       "{'eval_loss': 0.8390029668807983,\n",
       " 'eval_runtime': 67.215,\n",
       " 'eval_samples_per_second': 102.031,\n",
       " 'eval_steps_per_second': 1.607,\n",
       " 'epoch': 180.0}"
      ]
     },
     "execution_count": 31,
     "metadata": {},
     "output_type": "execute_result"
    }
   ],
   "source": [
    "eval_output = trainer.evaluate(tokenized_datasets[\"test\"]); eval_output"
   ]
  },
  {
   "cell_type": "code",
   "execution_count": 32,
   "metadata": {},
   "outputs": [
    {
     "name": "stderr",
     "output_type": "stream",
     "text": [
      "Saving model checkpoint to roberta_lm_lm\n",
      "Configuration saved in roberta_lm_lm/config.json\n",
      "Model weights saved in roberta_lm_lm/pytorch_model.bin\n",
      "tokenizer config file saved in roberta_lm_lm/tokenizer_config.json\n",
      "Special tokens file saved in roberta_lm_lm/special_tokens_map.json\n"
     ]
    }
   ],
   "source": [
    "trainer.save_model()"
   ]
  },
  {
   "cell_type": "markdown",
   "metadata": {},
   "source": [
    "## Perplexity"
   ]
  },
  {
   "cell_type": "code",
   "execution_count": 34,
   "metadata": {},
   "outputs": [],
   "source": [
    "import math"
   ]
  },
  {
   "cell_type": "code",
   "execution_count": 35,
   "metadata": {},
   "outputs": [
    {
     "name": "stdout",
     "output_type": "stream",
     "text": [
      "2.314058633127775\n"
     ]
    }
   ],
   "source": [
    "perplexity = math.exp(eval_output[\"eval_loss\"])\n",
    "print(perplexity) #2.373339808006104"
   ]
  },
  {
   "cell_type": "code",
   "execution_count": 36,
   "metadata": {},
   "outputs": [
    {
     "name": "stderr",
     "output_type": "stream",
     "text": [
      "loading configuration file roberta_lm_lm/config.json\n",
      "Model config RobertaConfig {\n",
      "  \"architectures\": [\n",
      "    \"RobertaForMaskedLM\"\n",
      "  ],\n",
      "  \"attention_probs_dropout_prob\": 0.1,\n",
      "  \"bos_token_id\": 0,\n",
      "  \"classifier_dropout\": null,\n",
      "  \"eos_token_id\": 2,\n",
      "  \"hidden_act\": \"gelu\",\n",
      "  \"hidden_dropout_prob\": 0.1,\n",
      "  \"hidden_size\": 768,\n",
      "  \"initializer_range\": 0.02,\n",
      "  \"intermediate_size\": 3072,\n",
      "  \"layer_norm_eps\": 1e-05,\n",
      "  \"max_position_embeddings\": 514,\n",
      "  \"model_type\": \"roberta\",\n",
      "  \"num_attention_heads\": 12,\n",
      "  \"num_hidden_layers\": 12,\n",
      "  \"pad_token_id\": 1,\n",
      "  \"position_embedding_type\": \"absolute\",\n",
      "  \"torch_dtype\": \"float32\",\n",
      "  \"transformers_version\": \"4.11.3\",\n",
      "  \"type_vocab_size\": 1,\n",
      "  \"use_cache\": true,\n",
      "  \"vocab_size\": 16000\n",
      "}\n",
      "\n",
      "loading configuration file roberta_lm_lm/config.json\n",
      "Model config RobertaConfig {\n",
      "  \"architectures\": [\n",
      "    \"RobertaForMaskedLM\"\n",
      "  ],\n",
      "  \"attention_probs_dropout_prob\": 0.1,\n",
      "  \"bos_token_id\": 0,\n",
      "  \"classifier_dropout\": null,\n",
      "  \"eos_token_id\": 2,\n",
      "  \"hidden_act\": \"gelu\",\n",
      "  \"hidden_dropout_prob\": 0.1,\n",
      "  \"hidden_size\": 768,\n",
      "  \"initializer_range\": 0.02,\n",
      "  \"intermediate_size\": 3072,\n",
      "  \"layer_norm_eps\": 1e-05,\n",
      "  \"max_position_embeddings\": 514,\n",
      "  \"model_type\": \"roberta\",\n",
      "  \"num_attention_heads\": 12,\n",
      "  \"num_hidden_layers\": 12,\n",
      "  \"pad_token_id\": 1,\n",
      "  \"position_embedding_type\": \"absolute\",\n",
      "  \"torch_dtype\": \"float32\",\n",
      "  \"transformers_version\": \"4.11.3\",\n",
      "  \"type_vocab_size\": 1,\n",
      "  \"use_cache\": true,\n",
      "  \"vocab_size\": 16000\n",
      "}\n",
      "\n",
      "loading weights file roberta_lm_lm/pytorch_model.bin\n",
      "All model checkpoint weights were used when initializing RobertaForMaskedLM.\n",
      "\n",
      "All the weights of RobertaForMaskedLM were initialized from the model checkpoint at roberta_lm_lm.\n",
      "If your task is similar to the task the model of the checkpoint was trained on, you can already use RobertaForMaskedLM for predictions without further training.\n",
      "Didn't find file roberta_lm_lm/added_tokens.json. We won't load it.\n",
      "loading file roberta_lm_lm/vocab.json\n",
      "loading file roberta_lm_lm/merges.txt\n",
      "loading file roberta_lm_lm/tokenizer.json\n",
      "loading file None\n",
      "loading file roberta_lm_lm/special_tokens_map.json\n",
      "loading file roberta_lm_lm/tokenizer_config.json\n"
     ]
    }
   ],
   "source": [
    "from transformers import pipeline\n",
    "\n",
    "fill_mask = pipeline(\n",
    "    \"fill-mask\",\n",
    "    model=notebook_path_prefix+\"_lm\",\n",
    "    tokenizer=notebook_path_prefix+\"_lm\"\n",
    ")"
   ]
  },
  {
   "cell_type": "code",
   "execution_count": 37,
   "metadata": {},
   "outputs": [
    {
     "data": {
      "text/plain": [
       "[{'sequence': 'Hello impact.',\n",
       "  'score': 0.15509869158267975,\n",
       "  'token': 1036,\n",
       "  'token_str': ' impact'},\n",
       " {'sequence': 'Helloticle.',\n",
       "  'score': 0.10845522582530975,\n",
       "  'token': 7591,\n",
       "  'token_str': 'ticle'},\n",
       " {'sequence': 'Helloex.',\n",
       "  'score': 0.09869387745857239,\n",
       "  'token': 572,\n",
       "  'token_str': 'ex'},\n",
       " {'sequence': 'Hellotices.',\n",
       "  'score': 0.06232593581080437,\n",
       "  'token': 2233,\n",
       "  'token_str': 'tices'},\n",
       " {'sequence': 'Hello ex.',\n",
       "  'score': 0.043094780296087265,\n",
       "  'token': 376,\n",
       "  'token_str': ' ex'}]"
      ]
     },
     "execution_count": 37,
     "metadata": {},
     "output_type": "execute_result"
    }
   ],
   "source": [
    "fill_mask(\"Hello <mask>.\")"
   ]
  },
  {
   "cell_type": "code",
   "execution_count": 38,
   "metadata": {},
   "outputs": [
    {
     "data": {
      "text/plain": [
       "[{'sequence': 'European ex.',\n",
       "  'score': 0.4437962770462036,\n",
       "  'token': 376,\n",
       "  'token_str': ' ex'},\n",
       " {'sequence': 'European post.',\n",
       "  'score': 0.09270468354225159,\n",
       "  'token': 2084,\n",
       "  'token_str': ' post'},\n",
       " {'sequence': 'European ante.',\n",
       "  'score': 0.052729833871126175,\n",
       "  'token': 6676,\n",
       "  'token_str': ' ante'},\n",
       " {'sequence': 'European n.',\n",
       "  'score': 0.029660899192094803,\n",
       "  'token': 322,\n",
       "  'token_str': ' n'},\n",
       " {'sequence': 'European no.',\n",
       "  'score': 0.011745907366275787,\n",
       "  'token': 651,\n",
       "  'token_str': ' no'}]"
      ]
     },
     "execution_count": 38,
     "metadata": {},
     "output_type": "execute_result"
    }
   ],
   "source": [
    "fill_mask(\"European <mask>.\")"
   ]
  },
  {
   "cell_type": "code",
   "execution_count": null,
   "metadata": {},
   "outputs": [],
   "source": []
  }
 ],
 "metadata": {
  "kernelspec": {
   "display_name": "Python 3 (ipykernel)",
   "language": "python",
   "name": "python3"
  },
  "language_info": {
   "codemirror_mode": {
    "name": "ipython",
    "version": 3
   },
   "file_extension": ".py",
   "mimetype": "text/x-python",
   "name": "python",
   "nbconvert_exporter": "python",
   "pygments_lexer": "ipython3",
   "version": "3.8.12"
  }
 },
 "nbformat": 4,
 "nbformat_minor": 4
}
