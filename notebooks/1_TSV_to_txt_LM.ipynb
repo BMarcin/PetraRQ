{
 "cells": [
  {
   "cell_type": "code",
   "execution_count": 1,
   "id": "af542eec-3d68-4925-bcb2-a2b2588e473b",
   "metadata": {},
   "outputs": [
    {
     "name": "stderr",
     "output_type": "stream",
     "text": [
      "Since the GPL-licensed package `unidecode` is not installed, using Python's `unicodedata` package which yields worse results.\n"
     ]
    }
   ],
   "source": [
    "import csv\n",
    "import pandas as pd\n",
    "\n",
    "from tqdm.auto import tqdm\n",
    "\n",
    "from MordinezNLP.processors import BasicProcessor"
   ]
  },
  {
   "cell_type": "code",
   "execution_count": 2,
   "id": "a59c313f-e081-4dd6-86b1-8ab04d007c5a",
   "metadata": {},
   "outputs": [],
   "source": [
    "dev_in = pd.read_csv(\"../data/dev/in.tsv\", delimiter='\\t', header=None, encoding=\"utf8\")\n",
    "test_in = pd.read_csv(\"../data/test/in.tsv\", delimiter='\\t', header=None, encoding=\"utf8\")\n",
    "train_in = pd.read_csv(\"../data/train/in.tsv\", delimiter='\\t', header=None, encoding=\"utf8\")"
   ]
  },
  {
   "cell_type": "code",
   "execution_count": 3,
   "id": "bbbb0694-a97d-4b39-abad-dce4f6b3cd4a",
   "metadata": {},
   "outputs": [
    {
     "data": {
      "text/html": [
       "<div>\n",
       "<style scoped>\n",
       "    .dataframe tbody tr th:only-of-type {\n",
       "        vertical-align: middle;\n",
       "    }\n",
       "\n",
       "    .dataframe tbody tr th {\n",
       "        vertical-align: top;\n",
       "    }\n",
       "\n",
       "    .dataframe thead th {\n",
       "        text-align: right;\n",
       "    }\n",
       "</style>\n",
       "<table border=\"1\" class=\"dataframe\">\n",
       "  <thead>\n",
       "    <tr style=\"text-align: right;\">\n",
       "      <th></th>\n",
       "      <th>0</th>\n",
       "    </tr>\n",
       "  </thead>\n",
       "  <tbody>\n",
       "    <tr>\n",
       "      <th>0</th>\n",
       "      <td>28.11.2014 EN Official Journal of the European...</td>\n",
       "    </tr>\n",
       "    <tr>\n",
       "      <th>1</th>\n",
       "      <td>5.11.2016 EN Official Journal of the European ...</td>\n",
       "    </tr>\n",
       "    <tr>\n",
       "      <th>2</th>\n",
       "      <td>12.10.2016 EN Official Journal of the European...</td>\n",
       "    </tr>\n",
       "    <tr>\n",
       "      <th>3</th>\n",
       "      <td>L 334/40 EN Official Journal of the European U...</td>\n",
       "    </tr>\n",
       "    <tr>\n",
       "      <th>4</th>\n",
       "      <td>20.11.2014 EN Official Journal of the European...</td>\n",
       "    </tr>\n",
       "  </tbody>\n",
       "</table>\n",
       "</div>"
      ],
      "text/plain": [
       "                                                   0\n",
       "0  28.11.2014 EN Official Journal of the European...\n",
       "1  5.11.2016 EN Official Journal of the European ...\n",
       "2  12.10.2016 EN Official Journal of the European...\n",
       "3  L 334/40 EN Official Journal of the European U...\n",
       "4  20.11.2014 EN Official Journal of the European..."
      ]
     },
     "execution_count": 3,
     "metadata": {},
     "output_type": "execute_result"
    }
   ],
   "source": [
    "dev_in.head()"
   ]
  },
  {
   "cell_type": "code",
   "execution_count": 4,
   "id": "9b7caef6-01e2-4042-8af0-be962d3fad1a",
   "metadata": {},
   "outputs": [
    {
     "data": {
      "text/html": [
       "<div>\n",
       "<style scoped>\n",
       "    .dataframe tbody tr th:only-of-type {\n",
       "        vertical-align: middle;\n",
       "    }\n",
       "\n",
       "    .dataframe tbody tr th {\n",
       "        vertical-align: top;\n",
       "    }\n",
       "\n",
       "    .dataframe thead th {\n",
       "        text-align: right;\n",
       "    }\n",
       "</style>\n",
       "<table border=\"1\" class=\"dataframe\">\n",
       "  <thead>\n",
       "    <tr style=\"text-align: right;\">\n",
       "      <th></th>\n",
       "      <th>0</th>\n",
       "    </tr>\n",
       "  </thead>\n",
       "  <tbody>\n",
       "    <tr>\n",
       "      <th>0</th>\n",
       "      <td>8.4.2020 EN Official Journal of the European U...</td>\n",
       "    </tr>\n",
       "    <tr>\n",
       "      <th>1</th>\n",
       "      <td>C 390/108 EN Official Journal of the European ...</td>\n",
       "    </tr>\n",
       "    <tr>\n",
       "      <th>2</th>\n",
       "      <td>C 433/128 EN Official Journal of the European ...</td>\n",
       "    </tr>\n",
       "    <tr>\n",
       "      <th>3</th>\n",
       "      <td>23.12.2019 EN Official Journal of the European...</td>\n",
       "    </tr>\n",
       "    <tr>\n",
       "      <th>4</th>\n",
       "      <td>C 463/56 EN Official Journal of the European U...</td>\n",
       "    </tr>\n",
       "  </tbody>\n",
       "</table>\n",
       "</div>"
      ],
      "text/plain": [
       "                                                   0\n",
       "0  8.4.2020 EN Official Journal of the European U...\n",
       "1  C 390/108 EN Official Journal of the European ...\n",
       "2  C 433/128 EN Official Journal of the European ...\n",
       "3  23.12.2019 EN Official Journal of the European...\n",
       "4  C 463/56 EN Official Journal of the European U..."
      ]
     },
     "execution_count": 4,
     "metadata": {},
     "output_type": "execute_result"
    }
   ],
   "source": [
    "test_in.head()"
   ]
  },
  {
   "cell_type": "code",
   "execution_count": 5,
   "id": "0c3e0c12-0fab-4d44-b82b-2a53716408f5",
   "metadata": {},
   "outputs": [
    {
     "data": {
      "text/html": [
       "<div>\n",
       "<style scoped>\n",
       "    .dataframe tbody tr th:only-of-type {\n",
       "        vertical-align: middle;\n",
       "    }\n",
       "\n",
       "    .dataframe tbody tr th {\n",
       "        vertical-align: top;\n",
       "    }\n",
       "\n",
       "    .dataframe thead th {\n",
       "        text-align: right;\n",
       "    }\n",
       "</style>\n",
       "<table border=\"1\" class=\"dataframe\">\n",
       "  <thead>\n",
       "    <tr style=\"text-align: right;\">\n",
       "      <th></th>\n",
       "      <th>0</th>\n",
       "    </tr>\n",
       "  </thead>\n",
       "  <tbody>\n",
       "    <tr>\n",
       "      <th>0</th>\n",
       "      <td>EUROPEAN COMMISSION Brussels, 15.5.2014 COM(20...</td>\n",
       "    </tr>\n",
       "    <tr>\n",
       "      <th>1</th>\n",
       "      <td>EUROPEAN COMMISSION Brussels, 28.5.2014 COM(20...</td>\n",
       "    </tr>\n",
       "    <tr>\n",
       "      <th>2</th>\n",
       "      <td>EUROPEAN COMMISSION Brussels, 11.6.2014 COM(20...</td>\n",
       "    </tr>\n",
       "    <tr>\n",
       "      <th>3</th>\n",
       "      <td>EUROPEAN COMMISSION Brussels, 28.5.2014 COM(20...</td>\n",
       "    </tr>\n",
       "    <tr>\n",
       "      <th>4</th>\n",
       "      <td>EUROPEAN COMMISSION Brussels, 28.5.2014 COM(20...</td>\n",
       "    </tr>\n",
       "  </tbody>\n",
       "</table>\n",
       "</div>"
      ],
      "text/plain": [
       "                                                   0\n",
       "0  EUROPEAN COMMISSION Brussels, 15.5.2014 COM(20...\n",
       "1  EUROPEAN COMMISSION Brussels, 28.5.2014 COM(20...\n",
       "2  EUROPEAN COMMISSION Brussels, 11.6.2014 COM(20...\n",
       "3  EUROPEAN COMMISSION Brussels, 28.5.2014 COM(20...\n",
       "4  EUROPEAN COMMISSION Brussels, 28.5.2014 COM(20..."
      ]
     },
     "execution_count": 5,
     "metadata": {},
     "output_type": "execute_result"
    }
   ],
   "source": [
    "train_in.head()"
   ]
  },
  {
   "cell_type": "code",
   "execution_count": 6,
   "id": "00884d74-49bf-4cde-b02e-ee6c04042b02",
   "metadata": {},
   "outputs": [],
   "source": [
    "def processing_func(texts_list):\n",
    "    return bp.process(\n",
    "        texts_list, \n",
    "        language='en',\n",
    "        fix_unicode=True,\n",
    "        lower=False,\n",
    "        no_line_breaks=True,\n",
    "        no_urls=True,\n",
    "        no_emails=True,\n",
    "        no_phone_numbers=False,\n",
    "        no_numbers=True,\n",
    "        no_digits=True,\n",
    "        no_currency_symbols=False,\n",
    "        no_punct=False,\n",
    "        no_math=False,\n",
    "        no_dates=True,\n",
    "        no_lists=False,\n",
    "        no_brackets=False,\n",
    "        no_multiple_chars=False,\n",
    "        use_pos_tagging=False,\n",
    "        list_processing_threads=50,\n",
    "        tokenizer_threads=50\n",
    "    )"
   ]
  },
  {
   "cell_type": "code",
   "execution_count": 7,
   "id": "c64b965d-4d0a-422f-ae82-f1be3c950684",
   "metadata": {},
   "outputs": [],
   "source": [
    "bp = BasicProcessor()"
   ]
  },
  {
   "cell_type": "code",
   "execution_count": 8,
   "id": "676dba72-e973-450f-be51-6ef74c35a430",
   "metadata": {},
   "outputs": [
    {
     "data": {
      "application/vnd.jupyter.widget-view+json": {
       "model_id": "71214c2b3c5f4ca89a5722499ed3f5b8",
       "version_major": 2,
       "version_minor": 0
      },
      "text/plain": [
       "Processing text list:   0%|          | 0/3427 [00:00<?, ?it/s]"
      ]
     },
     "metadata": {},
     "output_type": "display_data"
    }
   ],
   "source": [
    "texts_dev_in = processing_func(dev_in[0])"
   ]
  },
  {
   "cell_type": "code",
   "execution_count": 9,
   "id": "bb0b7d47-e265-42a2-9937-ab6494fd4224",
   "metadata": {},
   "outputs": [
    {
     "data": {
      "application/vnd.jupyter.widget-view+json": {
       "model_id": "cfbcf3e7a8f947f085432b71bfa4b818",
       "version_major": 2,
       "version_minor": 0
      },
      "text/plain": [
       "Processing text list:   0%|          | 0/6858 [00:00<?, ?it/s]"
      ]
     },
     "metadata": {},
     "output_type": "display_data"
    }
   ],
   "source": [
    "texts_test_in = processing_func(test_in[0])"
   ]
  },
  {
   "cell_type": "code",
   "execution_count": 10,
   "id": "0473d70b-52d2-4d51-a40e-4cbc9dd17776",
   "metadata": {},
   "outputs": [
    {
     "data": {
      "application/vnd.jupyter.widget-view+json": {
       "model_id": "474f6fde4fd74133a53155c8a9389b4c",
       "version_major": 2,
       "version_minor": 0
      },
      "text/plain": [
       "Processing text list:   0%|          | 0/23999 [00:00<?, ?it/s]"
      ]
     },
     "metadata": {},
     "output_type": "display_data"
    }
   ],
   "source": [
    "texts_train_in = processing_func(train_in[0])"
   ]
  },
  {
   "cell_type": "code",
   "execution_count": 11,
   "id": "d7c09905-dd70-4d78-bc04-bcea004bc1ce",
   "metadata": {},
   "outputs": [
    {
     "data": {
      "application/vnd.jupyter.widget-view+json": {
       "model_id": "2bd50fdf1a4742f194fc4b87f293b757",
       "version_major": 2,
       "version_minor": 0
      },
      "text/plain": [
       "  0%|          | 0/3427 [00:00<?, ?it/s]"
      ]
     },
     "metadata": {},
     "output_type": "display_data"
    }
   ],
   "source": [
    "with open(\"../data/dev/lm.txt\", \"w\", encoding=\"utf8\") as f:\n",
    "    for item in tqdm(texts_dev_in):\n",
    "        f.write(item + '\\n')"
   ]
  },
  {
   "cell_type": "code",
   "execution_count": 12,
   "id": "174b98d0-d14f-4897-9363-722aad14bfba",
   "metadata": {},
   "outputs": [
    {
     "data": {
      "application/vnd.jupyter.widget-view+json": {
       "model_id": "9ee94ba089cc4685a00be6be94091acc",
       "version_major": 2,
       "version_minor": 0
      },
      "text/plain": [
       "  0%|          | 0/6858 [00:00<?, ?it/s]"
      ]
     },
     "metadata": {},
     "output_type": "display_data"
    }
   ],
   "source": [
    "with open(\"../data/test/lm.txt\", \"w\", encoding=\"utf8\") as f:\n",
    "    for item in tqdm(texts_test_in):\n",
    "        f.write(item + '\\n')"
   ]
  },
  {
   "cell_type": "code",
   "execution_count": 13,
   "id": "3ffb7fb5-52c6-4946-a946-2c3aa8cdbd0d",
   "metadata": {},
   "outputs": [
    {
     "data": {
      "application/vnd.jupyter.widget-view+json": {
       "model_id": "b96273d7d39b4191ab52d0df1369119f",
       "version_major": 2,
       "version_minor": 0
      },
      "text/plain": [
       "  0%|          | 0/23999 [00:00<?, ?it/s]"
      ]
     },
     "metadata": {},
     "output_type": "display_data"
    }
   ],
   "source": [
    "with open(\"../data/train/lm.txt\", \"w\", encoding=\"utf8\") as f:\n",
    "    for item in tqdm(texts_train_in):\n",
    "        f.write(item + '\\n')"
   ]
  },
  {
   "cell_type": "code",
   "execution_count": 14,
   "id": "b189392b-eec6-4873-a49d-61fc3680daeb",
   "metadata": {},
   "outputs": [
    {
     "data": {
      "text/plain": [
       "['<url>',\n",
       " '<email>',\n",
       " '<phone>',\n",
       " '<number>',\n",
       " '0',\n",
       " '<currency>',\n",
       " '<date>',\n",
       " '<bracket>',\n",
       " '<more>',\n",
       " '<less>']"
      ]
     },
     "execution_count": 14,
     "metadata": {},
     "output_type": "execute_result"
    }
   ],
   "source": [
    "bp.get_special_tokens()"
   ]
  },
  {
   "cell_type": "code",
   "execution_count": null,
   "id": "dfccbd5d-2e18-4a93-8a3a-0a3b3e57a991",
   "metadata": {},
   "outputs": [],
   "source": []
  }
 ],
 "metadata": {
  "kernelspec": {
   "display_name": "Python 3 (ipykernel)",
   "language": "python",
   "name": "python3"
  },
  "language_info": {
   "codemirror_mode": {
    "name": "ipython",
    "version": 3
   },
   "file_extension": ".py",
   "mimetype": "text/x-python",
   "name": "python",
   "nbconvert_exporter": "python",
   "pygments_lexer": "ipython3",
   "version": "3.8.12"
  }
 },
 "nbformat": 4,
 "nbformat_minor": 5
}
