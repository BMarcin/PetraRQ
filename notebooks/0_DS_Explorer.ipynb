{
 "cells": [
  {
   "cell_type": "markdown",
   "id": "2cabad73-d430-418b-bf7a-e8da5871867d",
   "metadata": {},
   "source": [
    "# Dataset exploration"
   ]
  },
  {
   "cell_type": "code",
   "execution_count": 2,
   "id": "fd0fe4e0-05e2-4af0-9431-5875966a2293",
   "metadata": {},
   "outputs": [],
   "source": [
    "import pandas as pd\n",
    "from collections import Counter\n",
    "from nltk.tokenize import TweetTokenizer\n",
    "from tqdm.auto import tqdm\n",
    "import nltk\n",
    "from nltk.corpus import stopwords\n",
    "\n",
    "import matplotlib\n",
    "import matplotlib.pyplot as plt\n",
    "from datetime import datetime"
   ]
  },
  {
   "cell_type": "code",
   "execution_count": 3,
   "id": "00f31315-247b-4df2-8ef2-53ee78b76bf1",
   "metadata": {},
   "outputs": [],
   "source": [
    "stop_words = stopwords.words('english')"
   ]
  },
  {
   "cell_type": "markdown",
   "id": "5bc21f4a-c496-4382-8be9-fd0e1f5686e7",
   "metadata": {},
   "source": [
    "## Read text data"
   ]
  },
  {
   "cell_type": "code",
   "execution_count": 3,
   "id": "d1b8d37b-26c7-47c6-8da0-e2d689762049",
   "metadata": {},
   "outputs": [],
   "source": [
    "data1 = pd.read_csv(\"../data/dev/in.tsv\", delimiter='\\t', header=None, encoding=\"utf8\")\n",
    "data2 = pd.read_csv(\"../data/test/in.tsv\", delimiter='\\t', header=None, encoding=\"utf8\")\n",
    "data3 = pd.read_csv(\"../data/train/in.tsv\", delimiter='\\t', header=None, encoding=\"utf8\")\n",
    "\n",
    "data = pd.concat([data1, data2, data3])"
   ]
  },
  {
   "cell_type": "code",
   "execution_count": 4,
   "id": "e74c6a7b-dd77-40e5-9381-948b38c26256",
   "metadata": {},
   "outputs": [
    {
     "data": {
      "text/html": [
       "<div>\n",
       "<style scoped>\n",
       "    .dataframe tbody tr th:only-of-type {\n",
       "        vertical-align: middle;\n",
       "    }\n",
       "\n",
       "    .dataframe tbody tr th {\n",
       "        vertical-align: top;\n",
       "    }\n",
       "\n",
       "    .dataframe thead th {\n",
       "        text-align: right;\n",
       "    }\n",
       "</style>\n",
       "<table border=\"1\" class=\"dataframe\">\n",
       "  <thead>\n",
       "    <tr style=\"text-align: right;\">\n",
       "      <th></th>\n",
       "      <th>0</th>\n",
       "      <th>1</th>\n",
       "    </tr>\n",
       "  </thead>\n",
       "  <tbody>\n",
       "    <tr>\n",
       "      <th>0</th>\n",
       "      <td>26.11.2014</td>\n",
       "      <td>28.11.2014 EN Official Journal of the European...</td>\n",
       "    </tr>\n",
       "    <tr>\n",
       "      <th>1</th>\n",
       "      <td>03.11.2016</td>\n",
       "      <td>5.11.2016 EN Official Journal of the European ...</td>\n",
       "    </tr>\n",
       "    <tr>\n",
       "      <th>2</th>\n",
       "      <td>10.10.2016</td>\n",
       "      <td>12.10.2016 EN Official Journal of the European...</td>\n",
       "    </tr>\n",
       "    <tr>\n",
       "      <th>3</th>\n",
       "      <td>07.12.2016</td>\n",
       "      <td>L 334/40 EN Official Journal of the European U...</td>\n",
       "    </tr>\n",
       "    <tr>\n",
       "      <th>4</th>\n",
       "      <td>18.11.2014</td>\n",
       "      <td>20.11.2014 EN Official Journal of the European...</td>\n",
       "    </tr>\n",
       "  </tbody>\n",
       "</table>\n",
       "</div>"
      ],
      "text/plain": [
       "            0                                                  1\n",
       "0  26.11.2014  28.11.2014 EN Official Journal of the European...\n",
       "1  03.11.2016  5.11.2016 EN Official Journal of the European ...\n",
       "2  10.10.2016  12.10.2016 EN Official Journal of the European...\n",
       "3  07.12.2016  L 334/40 EN Official Journal of the European U...\n",
       "4  18.11.2014  20.11.2014 EN Official Journal of the European..."
      ]
     },
     "execution_count": 4,
     "metadata": {},
     "output_type": "execute_result"
    }
   ],
   "source": [
    "data.head()"
   ]
  },
  {
   "cell_type": "markdown",
   "id": "fc74a401-4e81-417f-857e-3a6f9022e6c4",
   "metadata": {},
   "source": [
    "## Read labels"
   ]
  },
  {
   "cell_type": "code",
   "execution_count": 5,
   "id": "27d8b1d0-9afd-45d8-8742-aaa2daa01e87",
   "metadata": {},
   "outputs": [],
   "source": [
    "labels1 = pd.read_csv(\"../data/dev/expected.tsv\", delimiter='\\t', header=None, encoding=\"utf8\")\n",
    "labels2 = pd.read_csv(\"../data/test/expected.tsv\", delimiter='\\t', header=None, encoding=\"utf8\")\n",
    "labels3 = pd.read_csv(\"../data/train/expected.tsv\", delimiter='\\t', header=None, encoding=\"utf8\")\n",
    "\n",
    "labels = pd.concat([labels1, labels2, labels3])"
   ]
  },
  {
   "cell_type": "code",
   "execution_count": 6,
   "id": "5abef1b9-44b2-444b-9314-5ade004cc1f0",
   "metadata": {},
   "outputs": [
    {
     "data": {
      "text/html": [
       "<div>\n",
       "<style scoped>\n",
       "    .dataframe tbody tr th:only-of-type {\n",
       "        vertical-align: middle;\n",
       "    }\n",
       "\n",
       "    .dataframe tbody tr th {\n",
       "        vertical-align: top;\n",
       "    }\n",
       "\n",
       "    .dataframe thead th {\n",
       "        text-align: right;\n",
       "    }\n",
       "</style>\n",
       "<table border=\"1\" class=\"dataframe\">\n",
       "  <thead>\n",
       "    <tr style=\"text-align: right;\">\n",
       "      <th></th>\n",
       "      <th>0</th>\n",
       "    </tr>\n",
       "  </thead>\n",
       "  <tbody>\n",
       "    <tr>\n",
       "      <th>0</th>\n",
       "      <td>Taxes,State, public authorities</td>\n",
       "    </tr>\n",
       "    <tr>\n",
       "      <th>1</th>\n",
       "      <td>State, public authorities,State, public author...</td>\n",
       "    </tr>\n",
       "    <tr>\n",
       "      <th>2</th>\n",
       "      <td>European Union</td>\n",
       "    </tr>\n",
       "    <tr>\n",
       "      <th>3</th>\n",
       "      <td>Law</td>\n",
       "    </tr>\n",
       "    <tr>\n",
       "      <th>4</th>\n",
       "      <td>Agriculture,Law</td>\n",
       "    </tr>\n",
       "    <tr>\n",
       "      <th>...</th>\n",
       "      <td>...</td>\n",
       "    </tr>\n",
       "    <tr>\n",
       "      <th>23998</th>\n",
       "      <td>Law,Law</td>\n",
       "    </tr>\n",
       "    <tr>\n",
       "      <th>23999</th>\n",
       "      <td>Environment</td>\n",
       "    </tr>\n",
       "    <tr>\n",
       "      <th>24000</th>\n",
       "      <td>Economy,Foreign policy,Science, research and t...</td>\n",
       "    </tr>\n",
       "    <tr>\n",
       "      <th>24001</th>\n",
       "      <td>Environment</td>\n",
       "    </tr>\n",
       "    <tr>\n",
       "      <th>24002</th>\n",
       "      <td>Agriculture,Economy,Foreign policy</td>\n",
       "    </tr>\n",
       "  </tbody>\n",
       "</table>\n",
       "<p>34290 rows × 1 columns</p>\n",
       "</div>"
      ],
      "text/plain": [
       "                                                       0\n",
       "0                        Taxes,State, public authorities\n",
       "1      State, public authorities,State, public author...\n",
       "2                                         European Union\n",
       "3                                                    Law\n",
       "4                                        Agriculture,Law\n",
       "...                                                  ...\n",
       "23998                                            Law,Law\n",
       "23999                                        Environment\n",
       "24000  Economy,Foreign policy,Science, research and t...\n",
       "24001                                        Environment\n",
       "24002                 Agriculture,Economy,Foreign policy\n",
       "\n",
       "[34290 rows x 1 columns]"
      ]
     },
     "execution_count": 6,
     "metadata": {},
     "output_type": "execute_result"
    }
   ],
   "source": [
    "labels"
   ]
  },
  {
   "cell_type": "code",
   "execution_count": 7,
   "id": "44d3dabb-4881-489f-87d3-557272ebf385",
   "metadata": {},
   "outputs": [],
   "source": [
    "labels_counter = Counter()\n",
    "for row in labels.iterrows():\n",
    "    for label in row[1][0].split(\",\"):\n",
    "        lab = label.strip().lower()\n",
    "        labels_counter[lab] += 1"
   ]
  },
  {
   "cell_type": "code",
   "execution_count": 8,
   "id": "86b47e77-e297-4da1-a93b-3a347d53ebe6",
   "metadata": {},
   "outputs": [
    {
     "data": {
      "text/plain": [
       "[('economy', 16240),\n",
       " ('law', 13884),\n",
       " ('foreign policy', 6498),\n",
       " ('agriculture', 6029),\n",
       " ('environment', 3824),\n",
       " ('social policy', 3038),\n",
       " ('state', 2092),\n",
       " ('public authorities', 2092),\n",
       " ('taxes', 1855),\n",
       " ('transport', 1826),\n",
       " ('science', 1617),\n",
       " ('research and technology', 1617),\n",
       " ('european union', 957),\n",
       " ('work and employment', 813),\n",
       " ('health', 788),\n",
       " ('education', 176),\n",
       " ('industry', 107),\n",
       " ('sports', 32)]"
      ]
     },
     "execution_count": 8,
     "metadata": {},
     "output_type": "execute_result"
    }
   ],
   "source": [
    "labels_counter.most_common()"
   ]
  },
  {
   "cell_type": "code",
   "execution_count": 9,
   "id": "49819150-95b3-49f4-a0e6-6dc5e4a856d6",
   "metadata": {},
   "outputs": [],
   "source": [
    "tknzr = TweetTokenizer()"
   ]
  },
  {
   "cell_type": "code",
   "execution_count": 10,
   "id": "0e175a6e-5394-46ba-bcac-91d2c82d8911",
   "metadata": {},
   "outputs": [
    {
     "name": "stdout",
     "output_type": "stream",
     "text": [
      "Total examples: 34290\n"
     ]
    }
   ],
   "source": [
    "print('Total examples: {}'.format(str(len(data))))"
   ]
  },
  {
   "cell_type": "code",
   "execution_count": 16,
   "id": "ea698128-521e-4cde-b5c9-3c5ac87f49e8",
   "metadata": {},
   "outputs": [
    {
     "data": {
      "application/vnd.jupyter.widget-view+json": {
       "model_id": "b6e0c9a284a74cb48c1f5d621b80fa6e",
       "version_major": 2,
       "version_minor": 0
      },
      "text/plain": [
       "  0%|          | 0/34290 [00:00<?, ?it/s]"
      ]
     },
     "metadata": {},
     "output_type": "display_data"
    }
   ],
   "source": [
    "tokens_counter = Counter()\n",
    "words_counter = Counter()\n",
    "bigrams_counter = Counter()\n",
    "tokens_without_numbers = Counter()\n",
    "\n",
    "with tqdm(total=data.shape[0]) as pbar:\n",
    "    for index, example in data.iterrows():\n",
    "        tokenized = tknzr.tokenize(example[1])\n",
    "\n",
    "        tokens_len = len(tokenized)\n",
    "        tokens_counter[tokens_len] += 1\n",
    "        \n",
    "        tokens_without_numbers[len(['' for token in tokenized if not token.isnumeric()])] += 1\n",
    "\n",
    "        bigram = []\n",
    "        for i, token in enumerate(tokenized):\n",
    "            token = token.lower()\n",
    "            if token.isalnum():\n",
    "                if token not in stop_words:\n",
    "                    words_counter[token.lower()] += 1\n",
    "\n",
    "                    bigram.append(token.lower())\n",
    "\n",
    "                if len(bigram) == 2:\n",
    "                    bigrams_counter[\" \".join(bigram)] += 1\n",
    "                    bigram = bigram[1:]\n",
    "        pbar.update(1)"
   ]
  },
  {
   "cell_type": "markdown",
   "id": "45850dee-1166-4adc-a5e0-7e49e9cbf068",
   "metadata": {},
   "source": [
    "### TOP 10 most common texts lengths by tokens"
   ]
  },
  {
   "cell_type": "code",
   "execution_count": 17,
   "id": "6a41b244-a8d5-44c4-95ff-f599acc0c485",
   "metadata": {},
   "outputs": [
    {
     "data": {
      "text/plain": [
       "[227, 228, 230, 412, 229, 245, 414, 226, 416, 410]"
      ]
     },
     "execution_count": 17,
     "metadata": {},
     "output_type": "execute_result"
    }
   ],
   "source": [
    "[i[0] for i in tokens_counter.most_common(10)]"
   ]
  },
  {
   "cell_type": "markdown",
   "id": "48ae851b-f0c8-43c1-89ca-a06039c512d5",
   "metadata": {},
   "source": [
    "### TOP 10 longest texts by tokens"
   ]
  },
  {
   "cell_type": "code",
   "execution_count": 18,
   "id": "22cb564a-6e85-44b5-98c2-ec5372c6a51e",
   "metadata": {},
   "outputs": [
    {
     "data": {
      "text/plain": [
       "[1506049,\n",
       " 618478,\n",
       " 531048,\n",
       " 531045,\n",
       " 522041,\n",
       " 480465,\n",
       " 454959,\n",
       " 447956,\n",
       " 434491,\n",
       " 431205]"
      ]
     },
     "execution_count": 18,
     "metadata": {},
     "output_type": "execute_result"
    }
   ],
   "source": [
    "[i[0] for i in sorted(tokens_counter.items(), key=lambda i: i[0], reverse=True)[:10]]"
   ]
  },
  {
   "cell_type": "code",
   "execution_count": 21,
   "id": "0c112961-5ea7-45e4-95c9-5302fdf766bb",
   "metadata": {},
   "outputs": [
    {
     "data": {
      "text/plain": [
       "[1459759,\n",
       " 565140,\n",
       " 513059,\n",
       " 513056,\n",
       " 504056,\n",
       " 468334,\n",
       " 412059,\n",
       " 408146,\n",
       " 381075,\n",
       " 376955]"
      ]
     },
     "execution_count": 21,
     "metadata": {},
     "output_type": "execute_result"
    }
   ],
   "source": [
    "[i[0] for i in sorted(tokens_without_numbers.items(), key=lambda i: i[0], reverse=True)[:10]]"
   ]
  },
  {
   "cell_type": "markdown",
   "id": "776da5eb-f4a6-492d-8677-6f439a831c26",
   "metadata": {},
   "source": [
    "### TOP 20 most common tokens"
   ]
  },
  {
   "cell_type": "code",
   "execution_count": 19,
   "id": "ed37af74-65e2-415a-b862-6b95b7b12323",
   "metadata": {},
   "outputs": [
    {
     "data": {
      "text/plain": [
       "['1',\n",
       " 'eu',\n",
       " 'article',\n",
       " '2',\n",
       " 'european',\n",
       " 'commission',\n",
       " 'c',\n",
       " 'regulation',\n",
       " 'member',\n",
       " '3',\n",
       " 'union',\n",
       " 'shall',\n",
       " 'states',\n",
       " '4',\n",
       " 'en',\n",
       " 'l',\n",
       " '0',\n",
       " '5',\n",
       " 'directive',\n",
       " 'e']"
      ]
     },
     "execution_count": 19,
     "metadata": {},
     "output_type": "execute_result"
    }
   ],
   "source": [
    "[i[0] for i in words_counter.most_common(20)]"
   ]
  },
  {
   "cell_type": "markdown",
   "id": "9d5360c4-406d-41ab-95ee-8ba78c26b67b",
   "metadata": {},
   "source": [
    "### TOP 20 most common bigrams"
   ]
  },
  {
   "cell_type": "code",
   "execution_count": 20,
   "id": "7482ad65-7ea4-4f8e-a3d2-45d05ed1a821",
   "metadata": {},
   "outputs": [
    {
     "data": {
      "text/plain": [
       "['member states',\n",
       " 'european union',\n",
       " 'member state',\n",
       " 'regulation eu',\n",
       " 'eu c',\n",
       " 'official journal',\n",
       " 'journal european',\n",
       " 'en official',\n",
       " 'european parliament',\n",
       " '0 0',\n",
       " 'parliament council',\n",
       " 'regulation ec',\n",
       " 'oj l',\n",
       " 'european commission',\n",
       " 'ecli eu',\n",
       " 'en en',\n",
       " 'directive ec',\n",
       " 'c eu',\n",
       " 'c paragraph',\n",
       " '1 2']"
      ]
     },
     "execution_count": 20,
     "metadata": {},
     "output_type": "execute_result"
    }
   ],
   "source": [
    "[i[0] for i in bigrams_counter.most_common(20)]"
   ]
  },
  {
   "cell_type": "code",
   "execution_count": null,
   "id": "c58a893f-aa37-4356-8a96-400e99e7a99a",
   "metadata": {},
   "outputs": [],
   "source": []
  }
 ],
 "metadata": {
  "kernelspec": {
   "display_name": "Python 3 (ipykernel)",
   "language": "python",
   "name": "python3"
  },
  "language_info": {
   "codemirror_mode": {
    "name": "ipython",
    "version": 3
   },
   "file_extension": ".py",
   "mimetype": "text/x-python",
   "name": "python",
   "nbconvert_exporter": "python",
   "pygments_lexer": "ipython3",
   "version": "3.8.11"
  }
 },
 "nbformat": 4,
 "nbformat_minor": 5
}
