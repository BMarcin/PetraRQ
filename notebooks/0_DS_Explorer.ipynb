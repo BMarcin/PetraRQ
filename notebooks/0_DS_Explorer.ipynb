{
 "cells": [
  {
   "cell_type": "markdown",
   "id": "2cabad73-d430-418b-bf7a-e8da5871867d",
   "metadata": {},
   "source": [
    "# Dataset exploration"
   ]
  },
  {
   "cell_type": "code",
   "execution_count": 1,
   "id": "fd0fe4e0-05e2-4af0-9431-5875966a2293",
   "metadata": {},
   "outputs": [],
   "source": [
    "import pandas as pd\n",
    "from collections import Counter\n",
    "from nltk.tokenize import TweetTokenizer\n",
    "from tqdm.auto import tqdm\n",
    "import nltk\n",
    "from nltk.corpus import stopwords\n",
    "\n",
    "import matplotlib\n",
    "import matplotlib.pyplot as plt\n",
    "from datetime import datetime"
   ]
  },
  {
   "cell_type": "code",
   "execution_count": 2,
   "id": "00f31315-247b-4df2-8ef2-53ee78b76bf1",
   "metadata": {},
   "outputs": [],
   "source": [
    "stop_words = stopwords.words('english')"
   ]
  },
  {
   "cell_type": "markdown",
   "id": "5bc21f4a-c496-4382-8be9-fd0e1f5686e7",
   "metadata": {},
   "source": [
    "## Read text data"
   ]
  },
  {
   "cell_type": "code",
   "execution_count": 3,
   "id": "d1b8d37b-26c7-47c6-8da0-e2d689762049",
   "metadata": {},
   "outputs": [],
   "source": [
    "data1 = pd.read_csv(\"../data/dev/in.tsv\", delimiter='\\t', header=None, encoding=\"utf8\")\n",
    "data2 = pd.read_csv(\"../data/test/in.tsv\", delimiter='\\t', header=None, encoding=\"utf8\")\n",
    "data3 = pd.read_csv(\"../data/train/in.tsv\", delimiter='\\t', header=None, encoding=\"utf8\")\n",
    "\n",
    "data = pd.concat([data1, data2, data3])"
   ]
  },
  {
   "cell_type": "code",
   "execution_count": 4,
   "id": "e74c6a7b-dd77-40e5-9381-948b38c26256",
   "metadata": {},
   "outputs": [
    {
     "data": {
      "text/html": [
       "<div>\n",
       "<style scoped>\n",
       "    .dataframe tbody tr th:only-of-type {\n",
       "        vertical-align: middle;\n",
       "    }\n",
       "\n",
       "    .dataframe tbody tr th {\n",
       "        vertical-align: top;\n",
       "    }\n",
       "\n",
       "    .dataframe thead th {\n",
       "        text-align: right;\n",
       "    }\n",
       "</style>\n",
       "<table border=\"1\" class=\"dataframe\">\n",
       "  <thead>\n",
       "    <tr style=\"text-align: right;\">\n",
       "      <th></th>\n",
       "      <th>0</th>\n",
       "      <th>1</th>\n",
       "    </tr>\n",
       "  </thead>\n",
       "  <tbody>\n",
       "    <tr>\n",
       "      <th>0</th>\n",
       "      <td>COMVIISSION OF THE EUROPEAN COMMUNITIES C0M(93...</td>\n",
       "      <td>1993-06-17</td>\n",
       "    </tr>\n",
       "    <tr>\n",
       "      <th>1</th>\n",
       "      <td>Avis juridique important \\n \\n \\n \\n \\n | \\n \\...</td>\n",
       "      <td>1993-06-17</td>\n",
       "    </tr>\n",
       "    <tr>\n",
       "      <th>2</th>\n",
       "      <td>Avis juridique important \\n \\n \\n \\n \\n | \\n \\...</td>\n",
       "      <td>1993-06-18</td>\n",
       "    </tr>\n",
       "    <tr>\n",
       "      <th>3</th>\n",
       "      <td>Avis juridique important \\n \\n \\n \\n \\n | \\n \\...</td>\n",
       "      <td>1993-06-18</td>\n",
       "    </tr>\n",
       "    <tr>\n",
       "      <th>4</th>\n",
       "      <td>Avis juridique important \\n \\n \\n \\n \\n | \\n \\...</td>\n",
       "      <td>1993-06-18</td>\n",
       "    </tr>\n",
       "  </tbody>\n",
       "</table>\n",
       "</div>"
      ],
      "text/plain": [
       "                                                   0           1\n",
       "0  COMVIISSION OF THE EUROPEAN COMMUNITIES C0M(93...  1993-06-17\n",
       "1  Avis juridique important \\n \\n \\n \\n \\n | \\n \\...  1993-06-17\n",
       "2  Avis juridique important \\n \\n \\n \\n \\n | \\n \\...  1993-06-18\n",
       "3  Avis juridique important \\n \\n \\n \\n \\n | \\n \\...  1993-06-18\n",
       "4  Avis juridique important \\n \\n \\n \\n \\n | \\n \\...  1993-06-18"
      ]
     },
     "execution_count": 4,
     "metadata": {},
     "output_type": "execute_result"
    }
   ],
   "source": [
    "data.head()"
   ]
  },
  {
   "cell_type": "markdown",
   "id": "fc74a401-4e81-417f-857e-3a6f9022e6c4",
   "metadata": {},
   "source": [
    "## Read labels"
   ]
  },
  {
   "cell_type": "code",
   "execution_count": 5,
   "id": "27d8b1d0-9afd-45d8-8742-aaa2daa01e87",
   "metadata": {},
   "outputs": [],
   "source": [
    "labels1 = pd.read_csv(\"../data/dev/expected.tsv\", delimiter='\\t', header=None, encoding=\"utf8\")\n",
    "labels2 = pd.read_csv(\"../data/test/expected.tsv\", delimiter='\\t', header=None, encoding=\"utf8\")\n",
    "labels3 = pd.read_csv(\"../data/train/expected.tsv\", delimiter='\\t', header=None, encoding=\"utf8\")\n",
    "\n",
    "labels = pd.concat([labels1, labels2, labels3])"
   ]
  },
  {
   "cell_type": "code",
   "execution_count": 6,
   "id": "5abef1b9-44b2-444b-9314-5ade004cc1f0",
   "metadata": {},
   "outputs": [
    {
     "data": {
      "text/html": [
       "<div>\n",
       "<style scoped>\n",
       "    .dataframe tbody tr th:only-of-type {\n",
       "        vertical-align: middle;\n",
       "    }\n",
       "\n",
       "    .dataframe tbody tr th {\n",
       "        vertical-align: top;\n",
       "    }\n",
       "\n",
       "    .dataframe thead th {\n",
       "        text-align: right;\n",
       "    }\n",
       "</style>\n",
       "<table border=\"1\" class=\"dataframe\">\n",
       "  <thead>\n",
       "    <tr style=\"text-align: right;\">\n",
       "      <th></th>\n",
       "      <th>0</th>\n",
       "    </tr>\n",
       "  </thead>\n",
       "  <tbody>\n",
       "    <tr>\n",
       "      <th>0</th>\n",
       "      <td>social_life law environment</td>\n",
       "    </tr>\n",
       "    <tr>\n",
       "      <th>1</th>\n",
       "      <td>agriculture</td>\n",
       "    </tr>\n",
       "    <tr>\n",
       "      <th>2</th>\n",
       "      <td>industry law</td>\n",
       "    </tr>\n",
       "    <tr>\n",
       "      <th>3</th>\n",
       "      <td>agriculture</td>\n",
       "    </tr>\n",
       "    <tr>\n",
       "      <th>4</th>\n",
       "      <td>industry law</td>\n",
       "    </tr>\n",
       "    <tr>\n",
       "      <th>...</th>\n",
       "      <td>...</td>\n",
       "    </tr>\n",
       "    <tr>\n",
       "      <th>85078</th>\n",
       "      <td>internal_security social_life</td>\n",
       "    </tr>\n",
       "    <tr>\n",
       "      <th>85079</th>\n",
       "      <td>foreign_policy</td>\n",
       "    </tr>\n",
       "    <tr>\n",
       "      <th>85080</th>\n",
       "      <td>european_union law</td>\n",
       "    </tr>\n",
       "    <tr>\n",
       "      <th>85081</th>\n",
       "      <td>agriculture</td>\n",
       "    </tr>\n",
       "    <tr>\n",
       "      <th>85082</th>\n",
       "      <td>european_union</td>\n",
       "    </tr>\n",
       "  </tbody>\n",
       "</table>\n",
       "<p>100097 rows × 1 columns</p>\n",
       "</div>"
      ],
      "text/plain": [
       "                                   0\n",
       "0        social_life law environment\n",
       "1                        agriculture\n",
       "2                       industry law\n",
       "3                        agriculture\n",
       "4                       industry law\n",
       "...                              ...\n",
       "85078  internal_security social_life\n",
       "85079                 foreign_policy\n",
       "85080             european_union law\n",
       "85081                    agriculture\n",
       "85082                 european_union\n",
       "\n",
       "[100097 rows x 1 columns]"
      ]
     },
     "execution_count": 6,
     "metadata": {},
     "output_type": "execute_result"
    }
   ],
   "source": [
    "labels"
   ]
  },
  {
   "cell_type": "code",
   "execution_count": 7,
   "id": "44d3dabb-4881-489f-87d3-557272ebf385",
   "metadata": {},
   "outputs": [],
   "source": [
    "labels_counter = Counter()\n",
    "for row in labels.iterrows():\n",
    "    for label in row[1][0].split(\" \"):\n",
    "        lab = label.strip().lower()\n",
    "        labels_counter[lab] += 1"
   ]
  },
  {
   "cell_type": "code",
   "execution_count": 8,
   "id": "86b47e77-e297-4da1-a93b-3a347d53ebe6",
   "metadata": {},
   "outputs": [
    {
     "data": {
      "text/plain": [
       "[('agriculture', 42820),\n",
       " ('law', 31655),\n",
       " ('european_union', 23105),\n",
       " ('economy', 16010),\n",
       " ('industry', 13719),\n",
       " ('foreign_policy', 12954),\n",
       " ('social_life', 4683),\n",
       " ('environment', 4594),\n",
       " ('taxes', 3993),\n",
       " ('transportation', 3722),\n",
       " ('media_informations', 2951),\n",
       " ('research_science_and_technology', 2158),\n",
       " ('energy', 1723),\n",
       " ('work_and_employment', 1656),\n",
       " ('health', 1479),\n",
       " ('internal_security', 1404),\n",
       " ('education', 476),\n",
       " ('politics_political_parties', 33),\n",
       " ('sports', 18)]"
      ]
     },
     "execution_count": 8,
     "metadata": {},
     "output_type": "execute_result"
    }
   ],
   "source": [
    "labels_counter.most_common()"
   ]
  },
  {
   "cell_type": "code",
   "execution_count": 9,
   "id": "49819150-95b3-49f4-a0e6-6dc5e4a856d6",
   "metadata": {},
   "outputs": [],
   "source": [
    "tknzr = TweetTokenizer()"
   ]
  },
  {
   "cell_type": "code",
   "execution_count": 10,
   "id": "0e175a6e-5394-46ba-bcac-91d2c82d8911",
   "metadata": {},
   "outputs": [
    {
     "name": "stdout",
     "output_type": "stream",
     "text": [
      "Total examples: 100097\n"
     ]
    }
   ],
   "source": [
    "print('Total examples: {}'.format(str(len(data))))"
   ]
  },
  {
   "cell_type": "code",
   "execution_count": 11,
   "id": "ea698128-521e-4cde-b5c9-3c5ac87f49e8",
   "metadata": {},
   "outputs": [
    {
     "data": {
      "application/vnd.jupyter.widget-view+json": {
       "model_id": "ca3e8156e14d4df0b909717a0e8053ad",
       "version_major": 2,
       "version_minor": 0
      },
      "text/plain": [
       "  0%|          | 0/100097 [00:00<?, ?it/s]"
      ]
     },
     "metadata": {},
     "output_type": "display_data"
    }
   ],
   "source": [
    "tokens_counter = Counter()\n",
    "words_counter = Counter()\n",
    "bigrams_counter = Counter()\n",
    "tokens_without_numbers = Counter()\n",
    "\n",
    "with tqdm(total=data.shape[0]) as pbar:\n",
    "    for index, example in data.iterrows():\n",
    "        tokenized = tknzr.tokenize(example[0])\n",
    "\n",
    "        tokens_len = len(tokenized)\n",
    "        tokens_counter[tokens_len] += 1\n",
    "        \n",
    "        tokens_without_numbers[len(['' for token in tokenized if not token.isnumeric()])] += 1\n",
    "\n",
    "        bigram = []\n",
    "        for i, token in enumerate(tokenized):\n",
    "            token = token.lower()\n",
    "            if token.isalnum():\n",
    "                if token not in stop_words:\n",
    "                    words_counter[token.lower()] += 1\n",
    "\n",
    "                    bigram.append(token.lower())\n",
    "\n",
    "                if len(bigram) == 2:\n",
    "                    bigrams_counter[\" \".join(bigram)] += 1\n",
    "                    bigram = bigram[1:]\n",
    "        pbar.update(1)"
   ]
  },
  {
   "cell_type": "markdown",
   "id": "45850dee-1166-4adc-a5e0-7e49e9cbf068",
   "metadata": {},
   "source": [
    "### TOP 10 most common texts lengths by tokens"
   ]
  },
  {
   "cell_type": "code",
   "execution_count": 12,
   "id": "6a41b244-a8d5-44c4-95ff-f599acc0c485",
   "metadata": {},
   "outputs": [
    {
     "data": {
      "text/plain": [
       "[279, 490, 593, 281, 280, 282, 596, 611, 606, 575]"
      ]
     },
     "execution_count": 12,
     "metadata": {},
     "output_type": "execute_result"
    }
   ],
   "source": [
    "[i[0] for i in tokens_counter.most_common(10)]"
   ]
  },
  {
   "cell_type": "markdown",
   "id": "48ae851b-f0c8-43c1-89ca-a06039c512d5",
   "metadata": {},
   "source": [
    "### TOP 10 longest texts by tokens"
   ]
  },
  {
   "cell_type": "code",
   "execution_count": 13,
   "id": "22cb564a-6e85-44b5-98c2-ec5372c6a51e",
   "metadata": {},
   "outputs": [
    {
     "data": {
      "text/plain": [
       "[2448938,\n",
       " 2004043,\n",
       " 2003779,\n",
       " 1518051,\n",
       " 1500007,\n",
       " 1453381,\n",
       " 1452788,\n",
       " 1444420,\n",
       " 1357714,\n",
       " 1357031]"
      ]
     },
     "execution_count": 13,
     "metadata": {},
     "output_type": "execute_result"
    }
   ],
   "source": [
    "[i[0] for i in sorted(tokens_counter.items(), key=lambda i: i[0], reverse=True)[:10]]"
   ]
  },
  {
   "cell_type": "code",
   "execution_count": 14,
   "id": "0c112961-5ea7-45e4-95c9-5302fdf766bb",
   "metadata": {},
   "outputs": [
    {
     "data": {
      "text/plain": [
       "[2393774,\n",
       " 1941129,\n",
       " 1940879,\n",
       " 1483532,\n",
       " 1462978,\n",
       " 1401385,\n",
       " 1388070,\n",
       " 1387504,\n",
       " 1343173,\n",
       " 1342523]"
      ]
     },
     "execution_count": 14,
     "metadata": {},
     "output_type": "execute_result"
    }
   ],
   "source": [
    "[i[0] for i in sorted(tokens_without_numbers.items(), key=lambda i: i[0], reverse=True)[:10]]"
   ]
  },
  {
   "cell_type": "code",
   "execution_count": 17,
   "id": "c66d87aa-9c25-4e13-94a8-b4618bd110d5",
   "metadata": {},
   "outputs": [
    {
     "data": {
      "text/plain": [
       "[57, 78, 81, 95, 102, 107, 115, 117, 121, 124]"
      ]
     },
     "execution_count": 17,
     "metadata": {},
     "output_type": "execute_result"
    }
   ],
   "source": [
    "[i[0] for i in sorted(tokens_without_numbers.items(), key=lambda i: i[0], reverse=False)[:10]]"
   ]
  },
  {
   "cell_type": "markdown",
   "id": "776da5eb-f4a6-492d-8677-6f439a831c26",
   "metadata": {},
   "source": [
    "### TOP 20 most common tokens"
   ]
  },
  {
   "cell_type": "code",
   "execution_count": 15,
   "id": "ed37af74-65e2-415a-b862-6b95b7b12323",
   "metadata": {},
   "outputs": [
    {
     "data": {
      "text/plain": [
       "['n',\n",
       " '1',\n",
       " '2',\n",
       " 'article',\n",
       " 'commission',\n",
       " 'shall',\n",
       " 'regulation',\n",
       " '3',\n",
       " 'member',\n",
       " 'european',\n",
       " 'states',\n",
       " 'eu',\n",
       " '4',\n",
       " '5',\n",
       " 'market',\n",
       " 'council',\n",
       " 'community',\n",
       " 'ec',\n",
       " 'may',\n",
       " '10']"
      ]
     },
     "execution_count": 15,
     "metadata": {},
     "output_type": "execute_result"
    }
   ],
   "source": [
    "[i[0] for i in words_counter.most_common(20)]"
   ]
  },
  {
   "cell_type": "markdown",
   "id": "9d5360c4-406d-41ab-95ee-8ba78c26b67b",
   "metadata": {},
   "source": [
    "### TOP 20 most common bigrams"
   ]
  },
  {
   "cell_type": "code",
   "execution_count": 16,
   "id": "7482ad65-7ea4-4f8e-a3d2-45d05ed1a821",
   "metadata": {},
   "outputs": [
    {
     "data": {
      "text/plain": [
       "['n n',\n",
       " 'member states',\n",
       " 'n 1',\n",
       " '1 n',\n",
       " 'n 2',\n",
       " 'oj l',\n",
       " '0 n',\n",
       " '2 n',\n",
       " 'regulation ec',\n",
       " 'n 3',\n",
       " 'regulation eec',\n",
       " 'n 0',\n",
       " 'member state',\n",
       " '3 n',\n",
       " 'n article',\n",
       " 'n 4',\n",
       " 'european union',\n",
       " 'european parliament',\n",
       " 'n 5',\n",
       " 'council regulation']"
      ]
     },
     "execution_count": 16,
     "metadata": {},
     "output_type": "execute_result"
    }
   ],
   "source": [
    "[i[0] for i in bigrams_counter.most_common(20)]"
   ]
  },
  {
   "cell_type": "code",
   "execution_count": null,
   "id": "c58a893f-aa37-4356-8a96-400e99e7a99a",
   "metadata": {},
   "outputs": [],
   "source": []
  }
 ],
 "metadata": {
  "kernelspec": {
   "display_name": "Python 3 (ipykernel)",
   "language": "python",
   "name": "python3"
  },
  "language_info": {
   "codemirror_mode": {
    "name": "ipython",
    "version": 3
   },
   "file_extension": ".py",
   "mimetype": "text/x-python",
   "name": "python",
   "nbconvert_exporter": "python",
   "pygments_lexer": "ipython3",
   "version": "3.8.10"
  }
 },
 "nbformat": 4,
 "nbformat_minor": 5
}
