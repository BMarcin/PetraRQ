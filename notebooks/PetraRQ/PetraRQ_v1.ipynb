{
 "cells": [
  {
   "cell_type": "code",
   "execution_count": 4,
   "id": "03b40d02-8879-45d5-930c-ebfb260cc2ff",
   "metadata": {},
   "outputs": [],
   "source": [
    "import torch"
   ]
  },
  {
   "cell_type": "code",
   "execution_count": 25,
   "id": "f33e706f-75be-4e2e-9d36-d2b596fdafa6",
   "metadata": {},
   "outputs": [],
   "source": [
    "v1 = torch.tensor([[1,1], [2,2]])\n",
    "v2 = torch.tensor([[1,1], [7,8]])"
   ]
  },
  {
   "cell_type": "code",
   "execution_count": 27,
   "id": "f9948518-b7ab-4c8c-9c64-e96465e3891e",
   "metadata": {},
   "outputs": [
    {
     "data": {
      "text/plain": [
       "tensor([[[ 8,  9],\n",
       "         [ 8,  9]],\n",
       "\n",
       "        [[16, 18],\n",
       "         [16, 18]]])"
      ]
     },
     "execution_count": 27,
     "metadata": {},
     "output_type": "execute_result"
    }
   ],
   "source": [
    "torch.einsum(\"ai,bj->aij\", v1, v2)"
   ]
  },
  {
   "cell_type": "code",
   "execution_count": 58,
   "id": "9b04ab13-0ed0-482f-b90a-1cad980c2a77",
   "metadata": {},
   "outputs": [
    {
     "data": {
      "text/plain": [
       "tensor([[1., 1., 1.],\n",
       "        [1., 1., 1.],\n",
       "        [1., 1., 1.],\n",
       "        [1., 1., 1.],\n",
       "        [1., 1., 1.]])"
      ]
     },
     "execution_count": 58,
     "metadata": {},
     "output_type": "execute_result"
    }
   ],
   "source": [
    "torch.einsum(\"ij,ji\", torch.ones(5,3), torch.ones(3,5))"
   ]
  },
  {
   "cell_type": "code",
   "execution_count": 67,
   "id": "c8feadd1-535e-4696-80ab-b22824284ba6",
   "metadata": {},
   "outputs": [],
   "source": [
    "t1 = torch.tensor([1, 2])\n",
    "\n",
    "tok_emb = torch.nn.Embedding(4, 3)\n",
    "pos_emb = torch.nn.Embedding(4, 3)\n",
    "\n",
    "x = tok_emb(t1)"
   ]
  },
  {
   "cell_type": "code",
   "execution_count": 68,
   "id": "af580ea3-5734-4982-98a0-bd704f8c93dc",
   "metadata": {},
   "outputs": [
    {
     "data": {
      "text/plain": [
       "tensor([[-1.1631,  1.7612,  0.6772],\n",
       "        [ 0.6548, -0.2796, -0.7234]], grad_fn=<EmbeddingBackward0>)"
      ]
     },
     "execution_count": 68,
     "metadata": {},
     "output_type": "execute_result"
    }
   ],
   "source": [
    "x"
   ]
  },
  {
   "cell_type": "code",
   "execution_count": 72,
   "id": "3a48800e-8304-4883-8cf8-d8b21c9c0980",
   "metadata": {},
   "outputs": [
    {
     "data": {
      "text/plain": [
       "tensor([0, 1])"
      ]
     },
     "execution_count": 72,
     "metadata": {},
     "output_type": "execute_result"
    }
   ],
   "source": [
    "torch.arange(x.shape[0])"
   ]
  },
  {
   "cell_type": "code",
   "execution_count": 73,
   "id": "3d36a414-bde2-4dce-9af6-f28e9560aa18",
   "metadata": {},
   "outputs": [
    {
     "data": {
      "text/plain": [
       "tensor([[ 0.5055,  0.8334, -1.1761],\n",
       "        [ 1.3236, -0.3857, -0.9314]], grad_fn=<AddBackward0>)"
      ]
     },
     "execution_count": 73,
     "metadata": {},
     "output_type": "execute_result"
    }
   ],
   "source": [
    "pos_emb(torch.arange(x.shape[0])) + x"
   ]
  },
  {
   "cell_type": "code",
   "execution_count": 80,
   "id": "148928b4-c3db-4cfc-951c-fdc6659cdcb2",
   "metadata": {},
   "outputs": [
    {
     "data": {
      "text/plain": [
       "tensor([1, 2, 3, 4, 5, 6, 7])"
      ]
     },
     "execution_count": 80,
     "metadata": {},
     "output_type": "execute_result"
    }
   ],
   "source": [
    "torch.arange(1, 8)"
   ]
  },
  {
   "cell_type": "code",
   "execution_count": 82,
   "id": "59d89b4b-fbdb-4aca-802f-e81e89a62a47",
   "metadata": {},
   "outputs": [
    {
     "data": {
      "text/plain": [
       "tensor([[ 0,  1,  2,  3,  4],\n",
       "        [ 5,  6,  7,  8,  9],\n",
       "        [10, 11, 12, 13, 14]])"
      ]
     },
     "execution_count": 82,
     "metadata": {},
     "output_type": "execute_result"
    }
   ],
   "source": [
    "xx = torch.arange(15).reshape(3,-1); xx"
   ]
  },
  {
   "cell_type": "code",
   "execution_count": 85,
   "id": "24416195-233c-43bb-b6b8-00acf2450971",
   "metadata": {},
   "outputs": [
    {
     "data": {
      "text/plain": [
       "tensor([1, 2, 3])"
      ]
     },
     "execution_count": 85,
     "metadata": {},
     "output_type": "execute_result"
    }
   ],
   "source": [
    "idx = torch.tensor([1,2,3]); idx"
   ]
  },
  {
   "cell_type": "code",
   "execution_count": 86,
   "id": "61704e74-0bf0-476e-8a9a-973a927eca35",
   "metadata": {},
   "outputs": [
    {
     "data": {
      "text/plain": [
       "tensor([[1, 2],\n",
       "        [2, 3],\n",
       "        [3, 4]])"
      ]
     },
     "execution_count": 86,
     "metadata": {},
     "output_type": "execute_result"
    }
   ],
   "source": [
    "idx = torch.column_stack([idx, idx+1]); idx"
   ]
  },
  {
   "cell_type": "code",
   "execution_count": 88,
   "id": "ba1ea1f2-3d83-4e5c-aa9e-1b3bf34dd2f3",
   "metadata": {},
   "outputs": [
    {
     "data": {
      "text/plain": [
       "tensor([[ 1,  2],\n",
       "        [ 7,  8],\n",
       "        [13, 14]])"
      ]
     },
     "execution_count": 88,
     "metadata": {},
     "output_type": "execute_result"
    }
   ],
   "source": [
    "torch.gather(xx, 1, idx)"
   ]
  },
  {
   "cell_type": "code",
   "execution_count": null,
   "id": "e4eed849-4a42-44f3-879c-3be9389ba7ff",
   "metadata": {},
   "outputs": [],
   "source": []
  },
  {
   "cell_type": "code",
   "execution_count": 2,
   "id": "1374d68c-d798-461e-b9d8-7e4075eadcf7",
   "metadata": {},
   "outputs": [],
   "source": [
    "import math\n",
    "def tensor_std_initializer(tensor):\n",
    "    dim = tensor.shape[-1]\n",
    "    std = 1 / math.sqrt(dim)\n",
    "    tensor.uniform_(-std, std)\n",
    "    return tensor"
   ]
  },
  {
   "cell_type": "code",
   "execution_count": 116,
   "id": "8482e3d8-2af1-4f7e-bde8-21389ab8b67e",
   "metadata": {},
   "outputs": [],
   "source": [
    "param = torch.nn.Parameter(tensor_std_initializer(torch.zeros(8)))"
   ]
  },
  {
   "cell_type": "code",
   "execution_count": 117,
   "id": "e5230776-685d-4958-8f8b-148f85d93acc",
   "metadata": {},
   "outputs": [
    {
     "data": {
      "text/plain": [
       "Parameter containing:\n",
       "tensor([-0.0275, -0.1622,  0.0255, -0.2832, -0.0382,  0.2067, -0.2260, -0.2070],\n",
       "       requires_grad=True)"
      ]
     },
     "execution_count": 117,
     "metadata": {},
     "output_type": "execute_result"
    }
   ],
   "source": [
    "param"
   ]
  },
  {
   "cell_type": "code",
   "execution_count": 118,
   "id": "48733c87-b667-458c-8641-d5ea82ae14c5",
   "metadata": {},
   "outputs": [],
   "source": [
    "idx = torch.tensor([0, 2])"
   ]
  },
  {
   "cell_type": "code",
   "execution_count": 119,
   "id": "0e0c0f10-5fa4-4719-8a17-f4ad4e1fbeda",
   "metadata": {},
   "outputs": [],
   "source": [
    "inputs = torch.tensor([\n",
    "    [1, 2, 3, 4],\n",
    "    [3, 4, 5, 6]\n",
    "])"
   ]
  },
  {
   "cell_type": "code",
   "execution_count": 121,
   "id": "f9c4441d-605f-49db-8ea4-64db3112b8bf",
   "metadata": {},
   "outputs": [
    {
     "data": {
      "text/plain": [
       "tensor([4, 6])"
      ]
     },
     "execution_count": 121,
     "metadata": {},
     "output_type": "execute_result"
    }
   ],
   "source": [
    "fullfiled_tensor = idx + inputs.shape[1]; fullfiled_tensor"
   ]
  },
  {
   "cell_type": "code",
   "execution_count": 124,
   "id": "8d05dba5-eeef-4e5d-a6d8-da7a538aa57c",
   "metadata": {},
   "outputs": [
    {
     "data": {
      "text/plain": [
       "tensor([[0, 4],\n",
       "        [2, 6]])"
      ]
     },
     "execution_count": 124,
     "metadata": {},
     "output_type": "execute_result"
    }
   ],
   "source": [
    "stacked = torch.column_stack((idx, fullfiled_tensor)); stacked"
   ]
  },
  {
   "cell_type": "code",
   "execution_count": 145,
   "id": "9c0d60db-1f92-47c8-ab3f-ec90bc8b5d87",
   "metadata": {},
   "outputs": [
    {
     "data": {
      "text/plain": [
       "(tensor([[0, 0, 0, 0],\n",
       "         [1, 1, 1, 1],\n",
       "         [2, 2, 2, 2],\n",
       "         [3, 3, 3, 3]]),\n",
       " tensor([[0, 1, 2, 3],\n",
       "         [0, 1, 2, 3],\n",
       "         [0, 1, 2, 3],\n",
       "         [0, 1, 2, 3]]))"
      ]
     },
     "execution_count": 145,
     "metadata": {},
     "output_type": "execute_result"
    }
   ],
   "source": [
    "torch.meshgrid(torch.arange(4), torch.arange(4))"
   ]
  },
  {
   "cell_type": "code",
   "execution_count": 147,
   "id": "ddeb65eb-c622-49c0-8ac9-f21418a23d9f",
   "metadata": {},
   "outputs": [
    {
     "data": {
      "text/plain": [
       "tensor([[0, 1, 2, 3],\n",
       "        [0, 1, 2, 3]])"
      ]
     },
     "execution_count": 147,
     "metadata": {},
     "output_type": "execute_result"
    }
   ],
   "source": [
    "torch.tensor([[0, 1, 2, 3], [2, 3, 4, 5]]) - torch.tensor([[0], [2]])"
   ]
  },
  {
   "cell_type": "code",
   "execution_count": 3,
   "id": "50b235bb-8323-49c6-b8e7-3454bd9f3f4a",
   "metadata": {},
   "outputs": [],
   "source": [
    "x = torch.randint(0, 20000, (1, 4096))"
   ]
  },
  {
   "cell_type": "code",
   "execution_count": 4,
   "id": "710eea29-d10e-4606-8c4d-c902caa63c9e",
   "metadata": {},
   "outputs": [
    {
     "data": {
      "text/plain": [
       "torch.Size([1, 4096])"
      ]
     },
     "execution_count": 4,
     "metadata": {},
     "output_type": "execute_result"
    }
   ],
   "source": [
    "x.shape"
   ]
  },
  {
   "cell_type": "code",
   "execution_count": 6,
   "id": "572716b6-461e-4827-9438-a5c2ea492cb8",
   "metadata": {},
   "outputs": [],
   "source": [
    "t1 = torch.rand((64, 128, 16000))"
   ]
  },
  {
   "cell_type": "code",
   "execution_count": 35,
   "id": "dcf8bbf5-5201-49c8-8200-b74ce5717496",
   "metadata": {},
   "outputs": [
    {
     "data": {
      "text/plain": [
       "torch.Size([64, 2, 16000])"
      ]
     },
     "execution_count": 35,
     "metadata": {},
     "output_type": "execute_result"
    }
   ],
   "source": [
    "t1[:, [0, 1]].shape"
   ]
  },
  {
   "cell_type": "code",
   "execution_count": 93,
   "id": "a6b78a30-c57a-4ab9-b79a-de0cbd99ebb3",
   "metadata": {},
   "outputs": [],
   "source": [
    "tt = torch.rand((3, 10, 5))"
   ]
  },
  {
   "cell_type": "code",
   "execution_count": 105,
   "id": "406370a5-7e84-4a32-b46c-0e18ed90e8e4",
   "metadata": {},
   "outputs": [
    {
     "data": {
      "text/plain": [
       "tensor([[[0.2181, 0.3376, 0.6219, 0.1264, 0.4071],\n",
       "         [0.2398, 0.0297, 0.2066, 0.8164, 0.7588],\n",
       "         [0.6755, 0.7354, 0.1052, 0.4080, 0.2711],\n",
       "         [0.0194, 0.3017, 0.9820, 0.2460, 0.9478],\n",
       "         [0.2271, 0.0133, 0.2926, 0.6449, 0.9037],\n",
       "         [0.1984, 0.0303, 0.9473, 0.8658, 0.2887],\n",
       "         [0.1719, 0.6540, 0.9580, 0.7246, 0.0206],\n",
       "         [0.1976, 0.8516, 0.1744, 0.1311, 0.8105],\n",
       "         [0.3270, 0.3667, 0.1138, 0.4204, 0.0257],\n",
       "         [0.2108, 0.0624, 0.0423, 0.3055, 0.0166]],\n",
       "\n",
       "        [[0.4053, 0.5178, 0.3697, 0.3693, 0.4647],\n",
       "         [0.9675, 0.9931, 0.6052, 0.4798, 0.0804],\n",
       "         [0.3981, 0.9178, 0.9082, 0.3196, 0.5936],\n",
       "         [0.6091, 0.8199, 0.2036, 0.0519, 0.3734],\n",
       "         [0.2035, 0.8440, 0.1679, 0.6288, 0.0857],\n",
       "         [0.1903, 0.0849, 0.3841, 0.3666, 0.6707],\n",
       "         [0.4992, 0.7932, 0.4743, 0.7007, 0.1502],\n",
       "         [0.0126, 0.2148, 0.1293, 0.1901, 0.9462],\n",
       "         [0.8544, 0.5140, 0.3393, 0.8512, 0.6036],\n",
       "         [0.9553, 0.7192, 0.3478, 0.1000, 0.8169]],\n",
       "\n",
       "        [[0.9381, 0.0308, 0.4366, 0.4243, 0.3921],\n",
       "         [0.4451, 0.0137, 0.4617, 0.8696, 0.5015],\n",
       "         [0.2984, 0.8129, 0.9393, 0.6295, 0.1002],\n",
       "         [0.7334, 0.1176, 0.4807, 0.8407, 0.1158],\n",
       "         [0.0260, 0.7961, 0.6516, 0.5755, 0.9695],\n",
       "         [0.7736, 0.6477, 0.9156, 0.6546, 0.9337],\n",
       "         [0.9256, 0.5208, 0.9765, 0.7541, 0.2222],\n",
       "         [0.1078, 0.2899, 0.3907, 0.2389, 0.4122],\n",
       "         [0.0877, 0.4726, 0.9573, 0.3235, 0.8733],\n",
       "         [0.4617, 0.1375, 0.6575, 0.8408, 0.7328]]])"
      ]
     },
     "execution_count": 105,
     "metadata": {},
     "output_type": "execute_result"
    }
   ],
   "source": [
    "tt"
   ]
  },
  {
   "cell_type": "code",
   "execution_count": 106,
   "id": "756df33a-5145-4884-860b-cc6e5c006bc6",
   "metadata": {},
   "outputs": [
    {
     "data": {
      "text/plain": [
       "[0, 1, 2]"
      ]
     },
     "execution_count": 106,
     "metadata": {},
     "output_type": "execute_result"
    }
   ],
   "source": [
    "list(range(3))"
   ]
  },
  {
   "cell_type": "code",
   "execution_count": 107,
   "id": "684049c0-6cec-4ded-8c7c-7099b50bb5f0",
   "metadata": {},
   "outputs": [
    {
     "data": {
      "text/plain": [
       "tensor([[0.2181, 0.3376, 0.6219, 0.1264, 0.4071],\n",
       "        [0.9675, 0.9931, 0.6052, 0.4798, 0.0804],\n",
       "        [0.9381, 0.0308, 0.4366, 0.4243, 0.3921]])"
      ]
     },
     "execution_count": 107,
     "metadata": {},
     "output_type": "execute_result"
    }
   ],
   "source": [
    "tt[range(3), [0, 1, 0], :]"
   ]
  },
  {
   "cell_type": "code",
   "execution_count": 108,
   "id": "00574d81-480b-4429-8584-2b2668493592",
   "metadata": {},
   "outputs": [],
   "source": [
    "ttt = torch.full((3, 10, 5), -100).float()"
   ]
  },
  {
   "cell_type": "code",
   "execution_count": 109,
   "id": "4dcfb53a-214d-4b49-a069-15542e3a2232",
   "metadata": {},
   "outputs": [
    {
     "data": {
      "text/plain": [
       "tensor([[[-100., -100., -100., -100., -100.],\n",
       "         [-100., -100., -100., -100., -100.],\n",
       "         [-100., -100., -100., -100., -100.],\n",
       "         [-100., -100., -100., -100., -100.],\n",
       "         [-100., -100., -100., -100., -100.],\n",
       "         [-100., -100., -100., -100., -100.],\n",
       "         [-100., -100., -100., -100., -100.],\n",
       "         [-100., -100., -100., -100., -100.],\n",
       "         [-100., -100., -100., -100., -100.],\n",
       "         [-100., -100., -100., -100., -100.]],\n",
       "\n",
       "        [[-100., -100., -100., -100., -100.],\n",
       "         [-100., -100., -100., -100., -100.],\n",
       "         [-100., -100., -100., -100., -100.],\n",
       "         [-100., -100., -100., -100., -100.],\n",
       "         [-100., -100., -100., -100., -100.],\n",
       "         [-100., -100., -100., -100., -100.],\n",
       "         [-100., -100., -100., -100., -100.],\n",
       "         [-100., -100., -100., -100., -100.],\n",
       "         [-100., -100., -100., -100., -100.],\n",
       "         [-100., -100., -100., -100., -100.]],\n",
       "\n",
       "        [[-100., -100., -100., -100., -100.],\n",
       "         [-100., -100., -100., -100., -100.],\n",
       "         [-100., -100., -100., -100., -100.],\n",
       "         [-100., -100., -100., -100., -100.],\n",
       "         [-100., -100., -100., -100., -100.],\n",
       "         [-100., -100., -100., -100., -100.],\n",
       "         [-100., -100., -100., -100., -100.],\n",
       "         [-100., -100., -100., -100., -100.],\n",
       "         [-100., -100., -100., -100., -100.],\n",
       "         [-100., -100., -100., -100., -100.]]])"
      ]
     },
     "execution_count": 109,
     "metadata": {},
     "output_type": "execute_result"
    }
   ],
   "source": [
    "ttt"
   ]
  },
  {
   "cell_type": "code",
   "execution_count": 114,
   "id": "edb0c5c7-64fc-4a97-a2fe-ff649c7f27f1",
   "metadata": {},
   "outputs": [
    {
     "data": {
      "text/plain": [
       "tensor([[[ 2.1082e-01,  6.2428e-02,  4.2283e-02,  3.0552e-01,  1.6618e-02],\n",
       "         [-1.0000e+02, -1.0000e+02, -1.0000e+02, -1.0000e+02, -1.0000e+02],\n",
       "         [-1.0000e+02, -1.0000e+02, -1.0000e+02, -1.0000e+02, -1.0000e+02],\n",
       "         [-1.0000e+02, -1.0000e+02, -1.0000e+02, -1.0000e+02, -1.0000e+02],\n",
       "         [-1.0000e+02, -1.0000e+02, -1.0000e+02, -1.0000e+02, -1.0000e+02],\n",
       "         [-1.0000e+02, -1.0000e+02, -1.0000e+02, -1.0000e+02, -1.0000e+02],\n",
       "         [-1.0000e+02, -1.0000e+02, -1.0000e+02, -1.0000e+02, -1.0000e+02],\n",
       "         [-1.0000e+02, -1.0000e+02, -1.0000e+02, -1.0000e+02, -1.0000e+02],\n",
       "         [-1.0000e+02, -1.0000e+02, -1.0000e+02, -1.0000e+02, -1.0000e+02],\n",
       "         [-1.0000e+02, -1.0000e+02, -1.0000e+02, -1.0000e+02, -1.0000e+02]],\n",
       "\n",
       "        [[ 9.5530e-01,  7.1922e-01,  3.4777e-01,  9.9972e-02,  8.1694e-01],\n",
       "         [-1.0000e+02, -1.0000e+02, -1.0000e+02, -1.0000e+02, -1.0000e+02],\n",
       "         [-1.0000e+02, -1.0000e+02, -1.0000e+02, -1.0000e+02, -1.0000e+02],\n",
       "         [-1.0000e+02, -1.0000e+02, -1.0000e+02, -1.0000e+02, -1.0000e+02],\n",
       "         [-1.0000e+02, -1.0000e+02, -1.0000e+02, -1.0000e+02, -1.0000e+02],\n",
       "         [-1.0000e+02, -1.0000e+02, -1.0000e+02, -1.0000e+02, -1.0000e+02],\n",
       "         [-1.0000e+02, -1.0000e+02, -1.0000e+02, -1.0000e+02, -1.0000e+02],\n",
       "         [-1.0000e+02, -1.0000e+02, -1.0000e+02, -1.0000e+02, -1.0000e+02],\n",
       "         [-1.0000e+02, -1.0000e+02, -1.0000e+02, -1.0000e+02, -1.0000e+02],\n",
       "         [-1.0000e+02, -1.0000e+02, -1.0000e+02, -1.0000e+02, -1.0000e+02]],\n",
       "\n",
       "        [[ 4.6167e-01,  1.3746e-01,  6.5747e-01,  8.4084e-01,  7.3280e-01],\n",
       "         [-1.0000e+02, -1.0000e+02, -1.0000e+02, -1.0000e+02, -1.0000e+02],\n",
       "         [-1.0000e+02, -1.0000e+02, -1.0000e+02, -1.0000e+02, -1.0000e+02],\n",
       "         [-1.0000e+02, -1.0000e+02, -1.0000e+02, -1.0000e+02, -1.0000e+02],\n",
       "         [-1.0000e+02, -1.0000e+02, -1.0000e+02, -1.0000e+02, -1.0000e+02],\n",
       "         [-1.0000e+02, -1.0000e+02, -1.0000e+02, -1.0000e+02, -1.0000e+02],\n",
       "         [-1.0000e+02, -1.0000e+02, -1.0000e+02, -1.0000e+02, -1.0000e+02],\n",
       "         [-1.0000e+02, -1.0000e+02, -1.0000e+02, -1.0000e+02, -1.0000e+02],\n",
       "         [-1.0000e+02, -1.0000e+02, -1.0000e+02, -1.0000e+02, -1.0000e+02],\n",
       "         [-1.0000e+02, -1.0000e+02, -1.0000e+02, -1.0000e+02, -1.0000e+02]]])"
      ]
     },
     "execution_count": 114,
     "metadata": {},
     "output_type": "execute_result"
    }
   ],
   "source": [
    "ttt.index_copy(1, torch.tensor([0, 0, 0, 0, 0, 0, 0, 0, 0, 0,]), tt)"
   ]
  },
  {
   "cell_type": "code",
   "execution_count": null,
   "id": "f5003cb8-fae7-4681-ab9a-3e9587bc5fd1",
   "metadata": {},
   "outputs": [],
   "source": []
  },
  {
   "cell_type": "code",
   "execution_count": null,
   "id": "daf45d2f-0c50-484c-9353-94fe8e901b91",
   "metadata": {},
   "outputs": [],
   "source": []
  },
  {
   "cell_type": "code",
   "execution_count": 22,
   "id": "dd874ecf-6152-45e4-8751-1a4b1e132596",
   "metadata": {},
   "outputs": [],
   "source": [
    "testowy = torch.rand((2, 3, 4, 8))"
   ]
  },
  {
   "cell_type": "code",
   "execution_count": 26,
   "id": "fb742e2d-221a-47ac-9a76-6bf8d6002d63",
   "metadata": {},
   "outputs": [],
   "source": [
    "vals = torch.tensor([2, 3, 4, 4])"
   ]
  },
  {
   "cell_type": "code",
   "execution_count": 27,
   "id": "2459a350-cf28-49e1-83b9-fdac7a44e5b5",
   "metadata": {},
   "outputs": [
    {
     "data": {
      "text/plain": [
       "tensor([[[0.0314, 0.4292, 0.3018, 0.4525, 0.7511, 0.2335, 0.3730, 0.9406],\n",
       "         [0.2074, 0.3084, 0.0860, 0.8985, 0.3136, 0.3661, 0.8801, 0.9172],\n",
       "         [0.6727, 0.7599, 0.6952, 0.4621, 0.6008, 0.0804, 0.7354, 0.2909],\n",
       "         [0.6689, 0.7606, 0.6701, 0.7380, 0.4213, 0.7754, 0.1712, 0.4032]],\n",
       "\n",
       "        [[0.2782, 0.4197, 0.7602, 0.2318, 0.0856, 0.0077, 0.9155, 0.6249],\n",
       "         [0.0602, 0.6482, 0.6538, 0.8103, 0.5456, 0.0035, 0.9932, 0.1430],\n",
       "         [0.7079, 0.5854, 0.4642, 0.7289, 0.6902, 0.2738, 0.6928, 0.5350],\n",
       "         [0.9038, 0.3708, 0.3720, 0.3848, 0.4236, 0.0294, 0.9486, 0.2240]],\n",
       "\n",
       "        [[0.4173, 0.0849, 0.4014, 0.8701, 0.9374, 0.2984, 0.9546, 0.7127],\n",
       "         [0.8730, 0.4784, 0.0856, 0.7420, 0.5100, 0.7488, 0.3747, 0.6961],\n",
       "         [0.9118, 0.4901, 0.3021, 0.6493, 0.2851, 0.0822, 0.3662, 0.3327],\n",
       "         [0.1878, 0.2679, 0.0076, 0.7587, 0.7731, 0.7455, 0.5688, 0.3064]]])"
      ]
     },
     "execution_count": 27,
     "metadata": {},
     "output_type": "execute_result"
    }
   ],
   "source": [
    "testowy[0]"
   ]
  },
  {
   "cell_type": "code",
   "execution_count": 30,
   "id": "2d474e62-a9d7-4408-a3a2-e12b144365f8",
   "metadata": {},
   "outputs": [
    {
     "data": {
      "text/plain": [
       "tensor([[[0.0627, 0.8585, 0.6036, 0.9050, 1.5021, 0.4670, 0.7461, 1.8811],\n",
       "         [0.6222, 0.9253, 0.2580, 2.6956, 0.9409, 1.0983, 2.6404, 2.7515],\n",
       "         [2.6908, 3.0398, 2.7807, 1.8482, 2.4030, 0.3216, 2.9416, 1.1638],\n",
       "         [2.6754, 3.0423, 2.6803, 2.9521, 1.6854, 3.1015, 0.6849, 1.6129]],\n",
       "\n",
       "        [[0.5564, 0.8394, 1.5205, 0.4636, 0.1713, 0.0155, 1.8310, 1.2497],\n",
       "         [0.1805, 1.9445, 1.9615, 2.4309, 1.6369, 0.0105, 2.9796, 0.4291],\n",
       "         [2.8315, 2.3415, 1.8569, 2.9154, 2.7609, 1.0953, 2.7711, 2.1400],\n",
       "         [3.6154, 1.4832, 1.4878, 1.5391, 1.6944, 0.1175, 3.7946, 0.8962]],\n",
       "\n",
       "        [[0.8346, 0.1697, 0.8027, 1.7401, 1.8749, 0.5969, 1.9093, 1.4253],\n",
       "         [2.6189, 1.4353, 0.2567, 2.2260, 1.5300, 2.2464, 1.1240, 2.0884],\n",
       "         [3.6472, 1.9605, 1.2084, 2.5971, 1.1405, 0.3287, 1.4647, 1.3308],\n",
       "         [0.7514, 1.0717, 0.0306, 3.0348, 3.0924, 2.9821, 2.2750, 1.2257]]])"
      ]
     },
     "execution_count": 30,
     "metadata": {},
     "output_type": "execute_result"
    }
   ],
   "source": [
    "torch.einsum(\"bhtn,t->bhtn\", testowy, vals)[0]"
   ]
  },
  {
   "cell_type": "code",
   "execution_count": 37,
   "id": "a07ed83b-7ce5-477b-946e-cfbd189daf19",
   "metadata": {},
   "outputs": [],
   "source": [
    "vec1 = torch.tensor([1,2,3,4,1,2,3,1,2,3,1,2,3,1,1,1,2,3,2,3,2,3,0,0,0,0,0,0,0,0,0,0])\n",
    "vec1 = vec1.numpy()"
   ]
  },
  {
   "cell_type": "code",
   "execution_count": 39,
   "id": "15ab369a-ce01-42f2-84df-4ea31349572a",
   "metadata": {},
   "outputs": [
    {
     "data": {
      "text/plain": [
       "array([22, 23, 24, 25, 26, 27, 28, 29, 30, 31], dtype=int64)"
      ]
     },
     "execution_count": 39,
     "metadata": {},
     "output_type": "execute_result"
    }
   ],
   "source": [
    "(vec1 == 0).nonzero()[0]"
   ]
  },
  {
   "cell_type": "code",
   "execution_count": null,
   "id": "17fc2d5f-d6f5-42fa-ad3b-d25f0de0db5c",
   "metadata": {},
   "outputs": [],
   "source": []
  },
  {
   "cell_type": "code",
   "execution_count": null,
   "id": "31b457e6-9737-496a-b1ad-ce09233c701f",
   "metadata": {},
   "outputs": [],
   "source": []
  },
  {
   "cell_type": "code",
   "execution_count": 115,
   "id": "1e318587-58a6-47cd-a7a0-78c317f50c6f",
   "metadata": {},
   "outputs": [],
   "source": [
    "import numpy as np"
   ]
  },
  {
   "cell_type": "code",
   "execution_count": 120,
   "id": "4355b116-c3f9-4cb6-980c-3f7b78e2c11d",
   "metadata": {},
   "outputs": [
    {
     "data": {
      "text/plain": [
       "array([[[0.31124128, 0.34310887, 0.28562586, 0.47814743, 0.50370822],\n",
       "        [0.68994959, 0.70208371, 0.74329198, 0.78511563, 0.76707755],\n",
       "        [0.9333849 , 0.45635022, 0.99833828, 0.90051213, 0.59909823]],\n",
       "\n",
       "       [[0.05777374, 0.73985772, 0.73686188, 0.53537419, 0.22164713],\n",
       "        [0.45543217, 0.44068094, 0.80276152, 0.86062666, 0.67965405],\n",
       "        [0.0381342 , 0.27658601, 0.50197739, 0.82796532, 0.30140164]]])"
      ]
     },
     "execution_count": 120,
     "metadata": {},
     "output_type": "execute_result"
    }
   ],
   "source": [
    "np.random.rand(2,3,5)"
   ]
  },
  {
   "cell_type": "code",
   "execution_count": 121,
   "id": "bffd1e94-fe01-4e4e-89ec-d24d1e7337e1",
   "metadata": {},
   "outputs": [
    {
     "ename": "SyntaxError",
     "evalue": "cannot assign to function call (495041170.py, line 1)",
     "output_type": "error",
     "traceback": [
      "\u001b[1;36m  Input \u001b[1;32mIn [121]\u001b[1;36m\u001b[0m\n\u001b[1;33m    np.random.rand(2,3,5) = 1\u001b[0m\n\u001b[1;37m    ^\u001b[0m\n\u001b[1;31mSyntaxError\u001b[0m\u001b[1;31m:\u001b[0m cannot assign to function call\n"
     ]
    }
   ],
   "source": [
    "np.random.rand(2,3,5) = 1"
   ]
  },
  {
   "cell_type": "code",
   "execution_count": 144,
   "id": "8ad34d75-9649-4ebf-af96-74bac163c513",
   "metadata": {},
   "outputs": [
    {
     "data": {
      "text/plain": [
       "array([[[0.33298779, 0.77652431, 0.29826832, ..., 0.96763502,\n",
       "         0.87304339, 0.90968174],\n",
       "        [0.18089855, 0.25466449, 0.99132498, ..., 0.25211939,\n",
       "         0.37819825, 0.93500394],\n",
       "        [0.01862249, 0.25025036, 0.81187196, ..., 0.30257725,\n",
       "         0.53053798, 0.14573129],\n",
       "        ...,\n",
       "        [0.62351566, 0.70245521, 0.37046336, ..., 0.38754314,\n",
       "         0.77624286, 0.37442213],\n",
       "        [0.50324061, 0.28702605, 0.65891774, ..., 0.15646065,\n",
       "         0.32651244, 0.38606108],\n",
       "        [0.31894594, 0.6278026 , 0.86797105, ..., 0.45973442,\n",
       "         0.5432769 , 0.02681728]],\n",
       "\n",
       "       [[0.10171109, 0.44864076, 0.56095867, ..., 0.34526678,\n",
       "         0.47908909, 0.51688614],\n",
       "        [0.12253233, 0.98787085, 0.61797511, ..., 0.30654231,\n",
       "         0.71992616, 0.03414792],\n",
       "        [0.23124644, 0.52087121, 0.80389731, ..., 0.7642841 ,\n",
       "         0.62584669, 0.23532098],\n",
       "        ...,\n",
       "        [0.90120208, 0.35254008, 0.06920103, ..., 0.94786825,\n",
       "         0.29009763, 0.09417951],\n",
       "        [0.75584371, 0.08345646, 0.90275536, ..., 0.07278613,\n",
       "         0.59916737, 0.22051061],\n",
       "        [0.7826545 , 0.03836642, 0.79216484, ..., 0.30191062,\n",
       "         0.95128393, 0.27882528]],\n",
       "\n",
       "       [[0.2557176 , 0.22895738, 0.28643902, ..., 0.8968061 ,\n",
       "         0.59458258, 0.02660805],\n",
       "        [0.1514202 , 0.16362104, 0.71889962, ..., 0.23792878,\n",
       "         0.68672052, 0.02520737],\n",
       "        [0.40927716, 0.61768486, 0.73144857, ..., 0.58136435,\n",
       "         0.71018408, 0.63370075],\n",
       "        ...,\n",
       "        [0.04189444, 0.76593251, 0.73255862, ..., 0.1458771 ,\n",
       "         0.55683437, 0.13009794],\n",
       "        [0.04352333, 0.99123196, 0.89270647, ..., 0.93999141,\n",
       "         0.74555481, 0.86003712],\n",
       "        [0.38271533, 0.48278956, 0.52756706, ..., 0.0683023 ,\n",
       "         0.20172352, 0.79548131]],\n",
       "\n",
       "       ...,\n",
       "\n",
       "       [[0.62274258, 0.86200919, 0.03140603, ..., 0.12603298,\n",
       "         0.14775411, 0.93146352],\n",
       "        [0.11636342, 0.30497982, 0.48153881, ..., 0.60966498,\n",
       "         0.27560047, 0.47729559],\n",
       "        [0.35430645, 0.76086678, 0.02160201, ..., 0.82082636,\n",
       "         0.95881177, 0.80117867],\n",
       "        ...,\n",
       "        [0.99979951, 0.46305504, 0.32937346, ..., 0.20904418,\n",
       "         0.64237376, 0.18319756],\n",
       "        [0.20042329, 0.41624218, 0.79475066, ..., 0.39903221,\n",
       "         0.38371071, 0.8291884 ],\n",
       "        [0.19753886, 0.37149477, 0.68739497, ..., 0.28640253,\n",
       "         0.67596977, 0.51650715]],\n",
       "\n",
       "       [[0.26843622, 0.15185282, 0.55727961, ..., 0.94220977,\n",
       "         0.14514127, 0.12172185],\n",
       "        [0.03329996, 0.93610112, 0.21633361, ..., 0.37860884,\n",
       "         0.09164071, 0.02534261],\n",
       "        [0.54438915, 0.90861353, 0.4236358 , ..., 0.43581356,\n",
       "         0.17980159, 0.34475896],\n",
       "        ...,\n",
       "        [0.1460454 , 0.98200777, 0.44435986, ..., 0.35472901,\n",
       "         0.23676998, 0.41861606],\n",
       "        [0.50398684, 0.15747382, 0.75613781, ..., 0.1300168 ,\n",
       "         0.35280573, 0.77976118],\n",
       "        [0.41469963, 0.23243898, 0.79710598, ..., 0.65401423,\n",
       "         0.95546054, 0.55291623]],\n",
       "\n",
       "       [[0.62055827, 0.0316333 , 0.89733677, ..., 0.39615642,\n",
       "         0.07958648, 0.92987685],\n",
       "        [0.5844837 , 0.59469808, 0.53395386, ..., 0.00346254,\n",
       "         0.06534735, 0.28222263],\n",
       "        [0.67134889, 0.46593146, 0.05771937, ..., 0.33985435,\n",
       "         0.34552288, 0.00717414],\n",
       "        ...,\n",
       "        [0.29530159, 0.76920553, 0.82566148, ..., 0.45971518,\n",
       "         0.29675251, 0.18387888],\n",
       "        [0.03567956, 0.74948902, 0.01978084, ..., 0.19625421,\n",
       "         0.88584468, 0.24872725],\n",
       "        [0.68935354, 0.42498252, 0.58665031, ..., 0.22325209,\n",
       "         0.72094405, 0.59985056]]])"
      ]
     },
     "execution_count": 144,
     "metadata": {},
     "output_type": "execute_result"
    }
   ],
   "source": [
    "np.random.rand(32, 512, 512)"
   ]
  },
  {
   "cell_type": "code",
   "execution_count": 71,
   "id": "71a16967-6905-4000-8a98-7eed14a2aa57",
   "metadata": {},
   "outputs": [],
   "source": [
    "import torch.nn.functional as F"
   ]
  },
  {
   "cell_type": "code",
   "execution_count": 6,
   "id": "2fb25e75-cc98-4bf0-a840-d912b91a0e28",
   "metadata": {},
   "outputs": [],
   "source": [
    "x = torch.rand((10, 10))"
   ]
  },
  {
   "cell_type": "code",
   "execution_count": 7,
   "id": "5a51ead7-097e-4a1e-b490-fc4e56485d39",
   "metadata": {},
   "outputs": [],
   "source": [
    "y = torch.tensor([   \n",
    "    [-100],\n",
    "    [   2],\n",
    "    [   3],\n",
    "    [-100],\n",
    "    [   5],\n",
    "    [-100],\n",
    "    [-100],\n",
    "    [   8],\n",
    "    [-100],\n",
    "    [-100]\n",
    "]).reshape(-1)"
   ]
  },
  {
   "cell_type": "code",
   "execution_count": 8,
   "id": "e1725a4d-3777-4a20-8394-5fc7829ce234",
   "metadata": {},
   "outputs": [
    {
     "data": {
      "text/plain": [
       "tensor(2.3977)"
      ]
     },
     "execution_count": 8,
     "metadata": {},
     "output_type": "execute_result"
    }
   ],
   "source": [
    "F.cross_entropy(x, y)"
   ]
  },
  {
   "cell_type": "code",
   "execution_count": 10,
   "id": "339ac766-c996-4973-bb5c-3b7f8e956e02",
   "metadata": {},
   "outputs": [],
   "source": [
    "import numpy as np"
   ]
  },
  {
   "cell_type": "code",
   "execution_count": 56,
   "id": "93a7b8a3-dc84-4b4b-99b0-7ebdb385c130",
   "metadata": {},
   "outputs": [],
   "source": [
    "nn1 = np.array([ 545, 5778,    0,  772,  965,  645, 1037, 1094,   15,   10,  102,   11,   25,    5,\n",
    "   10,  102,   11,    6,   10,  102,   11])"
   ]
  },
  {
   "cell_type": "code",
   "execution_count": 57,
   "id": "8a0f9efc-36e1-4762-b8b3-f6985a6348a4",
   "metadata": {},
   "outputs": [
    {
     "data": {
      "text/plain": [
       "array([ True,  True,  True,  True,  True,  True,  True,  True,  True,\n",
       "        True,  True,  True,  True,  True,  True,  True,  True,  True,\n",
       "        True,  True,  True])"
      ]
     },
     "execution_count": 57,
     "metadata": {},
     "output_type": "execute_result"
    }
   ],
   "source": [
    "mask = np.ones(nn1.shape,dtype=bool); mask"
   ]
  },
  {
   "cell_type": "code",
   "execution_count": 58,
   "id": "22c95b6d-740e-436e-bc46-79fe38d644d8",
   "metadata": {},
   "outputs": [
    {
     "data": {
      "text/plain": [
       "array([ True, False, False, False,  True,  True,  True,  True,  True,\n",
       "        True,  True,  True,  True,  True,  True,  True,  True,  True,\n",
       "        True,  True,  True])"
      ]
     },
     "execution_count": 58,
     "metadata": {},
     "output_type": "execute_result"
    }
   ],
   "source": [
    "mask[[1, 2, 3]] = False; mask"
   ]
  },
  {
   "cell_type": "code",
   "execution_count": 59,
   "id": "b26d28ec-d079-434d-8953-acace7ec898a",
   "metadata": {},
   "outputs": [
    {
     "data": {
      "text/plain": [
       "array([ -10, 5778,    0,  772,  -10,  -10,  -10,  -10,  -10,  -10,  -10,\n",
       "        -10,  -10,  -10,  -10,  -10,  -10,  -10,  -10,  -10,  -10])"
      ]
     },
     "execution_count": 59,
     "metadata": {},
     "output_type": "execute_result"
    }
   ],
   "source": [
    "nn1[mask] = -10; nn1"
   ]
  },
  {
   "cell_type": "code",
   "execution_count": 40,
   "id": "8535dd59-b461-44ad-9e15-c695da1b7ab6",
   "metadata": {},
   "outputs": [],
   "source": [
    "nn1[nn1 != np.array([20, 1, 4])] = -10"
   ]
  },
  {
   "cell_type": "code",
   "execution_count": 41,
   "id": "86f06b5d-17e5-49d3-9e2e-8483f59eb114",
   "metadata": {},
   "outputs": [
    {
     "data": {
      "text/plain": [
       "array([ -10, 5778,    0,  772,  965,  645, 1037, 1094,   15,   10,  102,\n",
       "         11,   25,    5,   10,  102,  -10,    6,   10,  -10,   11])"
      ]
     },
     "execution_count": 41,
     "metadata": {},
     "output_type": "execute_result"
    }
   ],
   "source": [
    "nn1"
   ]
  },
  {
   "cell_type": "code",
   "execution_count": 31,
   "id": "7cdce9bb-9334-404e-9a33-52423f5e60bb",
   "metadata": {},
   "outputs": [
    {
     "data": {
      "text/plain": [
       "array([False, False,  True, False, False, False, False, False, False,\n",
       "       False, False, False, False, False, False, False, False, False,\n",
       "       False, False, False])"
      ]
     },
     "execution_count": 31,
     "metadata": {},
     "output_type": "execute_result"
    }
   ],
   "source": [
    "np.isin(nn1, [0, 1])"
   ]
  },
  {
   "cell_type": "code",
   "execution_count": null,
   "id": "ff2b5554-010c-4ab9-aed9-3a12a72871b4",
   "metadata": {},
   "outputs": [],
   "source": []
  },
  {
   "cell_type": "code",
   "execution_count": null,
   "id": "0c5e024c-f5b6-45b1-b5fb-70aa8be69037",
   "metadata": {},
   "outputs": [],
   "source": []
  },
  {
   "cell_type": "code",
   "execution_count": null,
   "id": "22cd79a5-330d-42bd-a94e-c11c1202eef0",
   "metadata": {},
   "outputs": [],
   "source": []
  },
  {
   "cell_type": "code",
   "execution_count": 2,
   "id": "61a1af59-469d-45c4-95a1-9e7c7153260d",
   "metadata": {},
   "outputs": [
    {
     "name": "stdout",
     "output_type": "stream",
     "text": [
      "0 0\n",
      "1 0\n",
      "2 0\n",
      "3 0\n",
      "4 0\n",
      "5 0\n",
      "6 0\n",
      "7 0\n",
      "8 0\n",
      "9 0\n",
      "10 1\n",
      "11 1\n",
      "12 1\n",
      "13 1\n",
      "14 1\n",
      "15 1\n",
      "16 1\n",
      "17 1\n",
      "18 1\n",
      "19 1\n",
      "20 2\n",
      "21 2\n",
      "22 2\n",
      "23 2\n",
      "24 2\n",
      "25 2\n",
      "26 2\n",
      "27 2\n",
      "28 2\n",
      "29 2\n",
      "30 3\n",
      "31 3\n",
      "32 3\n",
      "33 3\n",
      "34 3\n",
      "35 3\n",
      "36 3\n",
      "37 3\n",
      "38 3\n",
      "39 3\n",
      "40 4\n",
      "41 4\n",
      "42 4\n",
      "43 4\n",
      "44 4\n",
      "45 4\n",
      "46 4\n",
      "47 4\n",
      "48 4\n",
      "49 4\n",
      "50 5\n",
      "51 5\n",
      "52 5\n",
      "53 5\n",
      "54 5\n",
      "55 5\n",
      "56 5\n",
      "57 5\n",
      "58 5\n",
      "59 5\n",
      "60 6\n",
      "61 6\n",
      "62 6\n",
      "63 6\n",
      "64 6\n",
      "65 6\n",
      "66 6\n",
      "67 6\n",
      "68 6\n",
      "69 6\n",
      "70 7\n",
      "71 7\n",
      "72 7\n",
      "73 7\n",
      "74 7\n",
      "75 7\n",
      "76 7\n",
      "77 7\n",
      "78 7\n",
      "79 7\n",
      "80 8\n",
      "81 8\n",
      "82 8\n",
      "83 8\n",
      "84 8\n",
      "85 8\n",
      "86 8\n",
      "87 8\n",
      "88 8\n",
      "89 8\n",
      "90 9\n",
      "91 9\n",
      "92 9\n",
      "93 9\n",
      "94 9\n",
      "95 9\n",
      "96 9\n",
      "97 9\n",
      "98 9\n",
      "99 9\n"
     ]
    }
   ],
   "source": [
    "for i in range(100):\n",
    "    print(i, int(i/10))"
   ]
  },
  {
   "cell_type": "code",
   "execution_count": null,
   "id": "e3147012-53ce-451c-8df3-1211080cae84",
   "metadata": {},
   "outputs": [],
   "source": []
  },
  {
   "cell_type": "code",
   "execution_count": 60,
   "id": "66c86024-00e3-4dbc-89cc-73aabdb7f03d",
   "metadata": {},
   "outputs": [],
   "source": [
    "import torch"
   ]
  },
  {
   "cell_type": "code",
   "execution_count": 91,
   "id": "68abdda0-7691-44fe-96fa-c8261dcee79e",
   "metadata": {},
   "outputs": [],
   "source": [
    "t_1 = torch.tensor([\n",
    "    [\n",
    "        [0.1, 0.2, 0.3, 0.2, 0.123],\n",
    "        [0.93, 0.1, 0.03, 0.22, 0.12],\n",
    "        [0.6, 0.55, 0.34, 0.23, 0.12]\n",
    "    ],\n",
    "    [\n",
    "        [0.345, 0.7, 0.9, 0.3, 0.4],\n",
    "        [0.3, 0.4, 0.1, 0.8, 0.4],\n",
    "        [0.4, 0.2, 0.7, 0.8, 0.2]\n",
    "    ]\n",
    "])"
   ]
  },
  {
   "cell_type": "code",
   "execution_count": 92,
   "id": "b9b3b72f-4a75-4157-bf50-d2e8944715ad",
   "metadata": {},
   "outputs": [
    {
     "data": {
      "text/plain": [
       "tensor([[[0.1000, 0.2000, 0.3000, 0.2000, 0.1230],\n",
       "         [0.9300, 0.1000, 0.0300, 0.2200, 0.1200],\n",
       "         [0.6000, 0.5500, 0.3400, 0.2300, 0.1200]],\n",
       "\n",
       "        [[0.3450, 0.7000, 0.9000, 0.3000, 0.4000],\n",
       "         [0.3000, 0.4000, 0.1000, 0.8000, 0.4000],\n",
       "         [0.4000, 0.2000, 0.7000, 0.8000, 0.2000]]])"
      ]
     },
     "execution_count": 92,
     "metadata": {},
     "output_type": "execute_result"
    }
   ],
   "source": [
    "t_1"
   ]
  },
  {
   "cell_type": "code",
   "execution_count": 93,
   "id": "8168ed6a-075e-4be0-9774-b433ab19044a",
   "metadata": {},
   "outputs": [],
   "source": [
    "out_t_1 = torch.tensor([\n",
    "    [, -100, 1],\n",
    "    [1, 2, -100],\n",
    "])"
   ]
  },
  {
   "cell_type": "code",
   "execution_count": 94,
   "id": "d1332b59-4c97-4efd-92ae-15546d88abfc",
   "metadata": {},
   "outputs": [
    {
     "data": {
      "text/plain": [
       "torch.Size([2, 3])"
      ]
     },
     "execution_count": 94,
     "metadata": {},
     "output_type": "execute_result"
    }
   ],
   "source": [
    "out_t_1.shape"
   ]
  },
  {
   "cell_type": "code",
   "execution_count": 95,
   "id": "fdcb718f-f871-4725-a558-73a375b57a19",
   "metadata": {},
   "outputs": [
    {
     "data": {
      "text/plain": [
       "tensor([[0.1000, 0.2000, 0.3000, 0.2000, 0.1230],\n",
       "        [0.9300, 0.1000, 0.0300, 0.2200, 0.1200],\n",
       "        [0.6000, 0.5500, 0.3400, 0.2300, 0.1200],\n",
       "        [0.3450, 0.7000, 0.9000, 0.3000, 0.4000],\n",
       "        [0.3000, 0.4000, 0.1000, 0.8000, 0.4000],\n",
       "        [0.4000, 0.2000, 0.7000, 0.8000, 0.2000]])"
      ]
     },
     "execution_count": 95,
     "metadata": {},
     "output_type": "execute_result"
    }
   ],
   "source": [
    "t_1.view(-1, 5)"
   ]
  },
  {
   "cell_type": "code",
   "execution_count": 96,
   "id": "8bf2f776-c88f-4563-92b1-18ec8975f66f",
   "metadata": {},
   "outputs": [
    {
     "data": {
      "text/plain": [
       "tensor([-100, -100,    1,    1,    2, -100])"
      ]
     },
     "execution_count": 96,
     "metadata": {},
     "output_type": "execute_result"
    }
   ],
   "source": [
    "out_t_1.view(-1)"
   ]
  },
  {
   "cell_type": "code",
   "execution_count": 97,
   "id": "cab97cb7-82f5-4aad-be14-094ab96f59a4",
   "metadata": {},
   "outputs": [
    {
     "data": {
      "text/plain": [
       "tensor(1.6157)"
      ]
     },
     "execution_count": 97,
     "metadata": {},
     "output_type": "execute_result"
    }
   ],
   "source": [
    "F.cross_entropy(t_1.view(-1, 5), out_t_1.view(-1), ignore_index=-100)"
   ]
  },
  {
   "cell_type": "code",
   "execution_count": 98,
   "id": "967e9dc2-3eef-4654-ae9f-1c32ddd04548",
   "metadata": {},
   "outputs": [],
   "source": [
    "softmax = torch.nn.LogSoftmax(dim=2)"
   ]
  },
  {
   "cell_type": "code",
   "execution_count": 99,
   "id": "4c23d544-88da-4d19-998b-26c08b39f85b",
   "metadata": {},
   "outputs": [
    {
     "data": {
      "text/plain": [
       "tensor([[[-1.6965, -1.5965, -1.4965, -1.5965, -1.6735],\n",
       "         [-1.0221, -1.8521, -1.9221, -1.7321, -1.8321],\n",
       "         [-1.3942, -1.4442, -1.6542, -1.7642, -1.8742]],\n",
       "\n",
       "        [[-1.8214, -1.4664, -1.2664, -1.8664, -1.7664],\n",
       "         [-1.7366, -1.6366, -1.9366, -1.2366, -1.6366],\n",
       "         [-1.7009, -1.9009, -1.4009, -1.3009, -1.9009]]])"
      ]
     },
     "execution_count": 99,
     "metadata": {},
     "output_type": "execute_result"
    }
   ],
   "source": [
    "softmax(t_1)"
   ]
  },
  {
   "cell_type": "code",
   "execution_count": 100,
   "id": "9dbea395-d594-4045-a31f-ab18656a6231",
   "metadata": {},
   "outputs": [],
   "source": [
    "nllloss = torch.nn.NLLLoss(ignore_index=-100)"
   ]
  },
  {
   "cell_type": "code",
   "execution_count": 101,
   "id": "48b21b83-5bde-48d8-a39d-9c45b5d96f2e",
   "metadata": {},
   "outputs": [
    {
     "data": {
      "text/plain": [
       "tensor(1.6157)"
      ]
     },
     "execution_count": 101,
     "metadata": {},
     "output_type": "execute_result"
    }
   ],
   "source": [
    "nllloss(softmax(t_1).view(-1, 5), out_t_1.view(-1))"
   ]
  },
  {
   "cell_type": "code",
   "execution_count": null,
   "id": "4504d1a1-83fd-44bc-931c-d4fe38e129bf",
   "metadata": {},
   "outputs": [],
   "source": []
  },
  {
   "cell_type": "code",
   "execution_count": null,
   "id": "a2549f2e-7d97-4236-a756-eb1c5c7ebdce",
   "metadata": {},
   "outputs": [],
   "source": []
  },
  {
   "cell_type": "code",
   "execution_count": null,
   "id": "e660bbd3-c885-417c-b0f9-89756348dfe9",
   "metadata": {},
   "outputs": [],
   "source": []
  },
  {
   "cell_type": "code",
   "execution_count": null,
   "id": "263393f7-8c5f-4427-870a-2a2958c52c8c",
   "metadata": {},
   "outputs": [],
   "source": []
  },
  {
   "cell_type": "code",
   "execution_count": 104,
   "id": "8ec454b1-4290-4756-a7f0-c9ce1496c96d",
   "metadata": {},
   "outputs": [
    {
     "data": {
      "text/plain": [
       "tensor([[0.1500, 0.0000, 0.0000, 0.0000, 0.0000, 0.0000, 0.0000, 0.0000, 0.1500,\n",
       "         0.1500]])"
      ]
     },
     "execution_count": 104,
     "metadata": {},
     "output_type": "execute_result"
    }
   ],
   "source": [
    "torch.full((1, 10), 0.15).masked_fill_(torch.tensor([0, 1, 1, 1, 1, 1, 1, 1, 0, 0]).bool(), value=0.0)"
   ]
  },
  {
   "cell_type": "code",
   "execution_count": 124,
   "id": "9d675bfb-2dd4-44fc-8435-dcf8d7b38dab",
   "metadata": {},
   "outputs": [
    {
     "data": {
      "text/plain": [
       "tensor([[ True, False, False, False, False, False, False, False, False, False]])"
      ]
     },
     "execution_count": 124,
     "metadata": {},
     "output_type": "execute_result"
    }
   ],
   "source": [
    "torch.bernoulli(torch.full((1, 10), 0.15).masked_fill_(torch.tensor([0, 1, 1, 1, 1, 1, 1, 1, 0, 0]).bool(), value=0.0)).bool()"
   ]
  },
  {
   "cell_type": "code",
   "execution_count": 125,
   "id": "862c45e9-ac32-4024-bb04-1eb52e728e7a",
   "metadata": {},
   "outputs": [],
   "source": [
    "from transformers import DataCollatorForLanguageModeling, BertTokenizer, AutoTokenizer"
   ]
  },
  {
   "cell_type": "code",
   "execution_count": 126,
   "id": "023f8c3d-1e0a-4236-814f-0c2ebb79d12c",
   "metadata": {},
   "outputs": [
    {
     "data": {
      "text/plain": [
       "0"
      ]
     },
     "execution_count": 126,
     "metadata": {},
     "output_type": "execute_result"
    }
   ],
   "source": [
    "0 % 30"
   ]
  },
  {
   "cell_type": "code",
   "execution_count": 130,
   "id": "6c96aec5-4373-4a91-9797-980e791543ff",
   "metadata": {},
   "outputs": [],
   "source": [
    "tt1 = torch.rand((2, 3, 5))"
   ]
  },
  {
   "cell_type": "code",
   "execution_count": 131,
   "id": "35d38142-aa2d-4ebb-9e02-dea253590f73",
   "metadata": {},
   "outputs": [
    {
     "data": {
      "text/plain": [
       "tensor([[[0.7282, 0.0338, 0.2245, 0.7134, 0.6104],\n",
       "         [0.2443, 0.5951, 0.4137, 0.3161, 0.7879],\n",
       "         [0.4338, 0.4290, 0.6777, 0.6390, 0.5175]],\n",
       "\n",
       "        [[0.9998, 0.6914, 0.8504, 0.7553, 0.5865],\n",
       "         [0.1807, 0.0459, 0.0962, 0.7748, 0.3091],\n",
       "         [0.6266, 0.4014, 0.9893, 0.0448, 0.3203]]])"
      ]
     },
     "execution_count": 131,
     "metadata": {},
     "output_type": "execute_result"
    }
   ],
   "source": [
    "tt1"
   ]
  },
  {
   "cell_type": "code",
   "execution_count": 132,
   "id": "e77f986e-1d6e-446c-953e-0405f39919f1",
   "metadata": {},
   "outputs": [
    {
     "data": {
      "text/plain": [
       "tensor([[[0.7282, 0.0338, 0.2245],\n",
       "         [0.2443, 0.5951, 0.4137],\n",
       "         [0.4338, 0.4290, 0.6777]],\n",
       "\n",
       "        [[0.9998, 0.6914, 0.8504],\n",
       "         [0.1807, 0.0459, 0.0962],\n",
       "         [0.6266, 0.4014, 0.9893]]])"
      ]
     },
     "execution_count": 132,
     "metadata": {},
     "output_type": "execute_result"
    }
   ],
   "source": [
    "tt1[:, :, :3]"
   ]
  },
  {
   "cell_type": "code",
   "execution_count": 133,
   "id": "79839fc3-e887-4f98-922d-2d2a564ff086",
   "metadata": {},
   "outputs": [],
   "source": [
    "memory = tt1[:, :, :3]"
   ]
  },
  {
   "cell_type": "code",
   "execution_count": 139,
   "id": "71ecdd60-2cb9-4e4e-ab5e-b95939423cd3",
   "metadata": {},
   "outputs": [
    {
     "data": {
      "text/plain": [
       "tensor([[[0.6360, 0.1410, 0.3296],\n",
       "         [0.5027, 0.5399, 0.5814],\n",
       "         [0.7147, 0.5607, 0.7341]],\n",
       "\n",
       "        [[1.6574, 1.0643, 1.7580],\n",
       "         [0.2493, 0.1657, 0.2533],\n",
       "         [1.3189, 0.8487, 1.5502]]])"
      ]
     },
     "execution_count": 139,
     "metadata": {},
     "output_type": "execute_result"
    }
   ],
   "source": [
    "torch.matmul(memory, tt1[:, :, :3])"
   ]
  },
  {
   "cell_type": "code",
   "execution_count": 140,
   "id": "f9e992a4-b7c7-4184-9103-575ab68ba549",
   "metadata": {},
   "outputs": [
    {
     "data": {
      "text/plain": [
       "tensor([[[0.6360, 0.1410, 0.3296, 0.7134, 0.6104],\n",
       "         [0.5027, 0.5399, 0.5814, 0.3161, 0.7879],\n",
       "         [0.7147, 0.5607, 0.7341, 0.6390, 0.5175]],\n",
       "\n",
       "        [[1.6574, 1.0643, 1.7580, 0.7553, 0.5865],\n",
       "         [0.2493, 0.1657, 0.2533, 0.7748, 0.3091],\n",
       "         [1.3189, 0.8487, 1.5502, 0.0448, 0.3203]]])"
      ]
     },
     "execution_count": 140,
     "metadata": {},
     "output_type": "execute_result"
    }
   ],
   "source": [
    "torch.cat((torch.matmul(memory, tt1[:, :, :3]), tt1[:, :, 3:]), dim=2)"
   ]
  },
  {
   "cell_type": "code",
   "execution_count": null,
   "id": "127a8b0c-2fdf-45e7-8a69-1b51f47f72fd",
   "metadata": {},
   "outputs": [],
   "source": []
  },
  {
   "cell_type": "code",
   "execution_count": 147,
   "id": "0950d111-1244-469f-8a4e-09eaac53c2e6",
   "metadata": {},
   "outputs": [
    {
     "data": {
      "text/plain": [
       "tensor(0.5819)"
      ]
     },
     "execution_count": 147,
     "metadata": {},
     "output_type": "execute_result"
    }
   ],
   "source": [
    "torch.mean(torch.rand((10, 1)))"
   ]
  },
  {
   "cell_type": "code",
   "execution_count": null,
   "id": "0bf910fd-3331-409b-970c-a84f3dffca50",
   "metadata": {},
   "outputs": [],
   "source": []
  },
  {
   "cell_type": "code",
   "execution_count": null,
   "id": "28a8fe03-a7dc-45b3-9063-58279574f24f",
   "metadata": {},
   "outputs": [],
   "source": []
  },
  {
   "cell_type": "code",
   "execution_count": 141,
   "id": "533a750e-bdc0-4807-bab6-548bdc1a7e1b",
   "metadata": {},
   "outputs": [],
   "source": [
    "ttt = torch.rand((16, 128, 512))"
   ]
  },
  {
   "cell_type": "code",
   "execution_count": 145,
   "id": "6f5938f6-8be1-4e19-aad4-c8de6bcf4c1c",
   "metadata": {},
   "outputs": [
    {
     "data": {
      "text/plain": [
       "tensor([[[3.5688e-01, 7.2803e-01, 1.7359e-01,  ..., 3.6997e-02,\n",
       "          5.0479e-01, 7.9671e-03],\n",
       "         [8.2249e-01, 4.4373e-02, 1.6547e-02,  ..., 4.1744e-01,\n",
       "          2.5280e-01, 2.3305e-01],\n",
       "         [6.3328e-01, 6.7964e-01, 4.8062e-01,  ..., 3.8940e-01,\n",
       "          5.5046e-01, 2.3765e-01],\n",
       "         ...,\n",
       "         [7.8912e-02, 7.9192e-02, 7.5412e-01,  ..., 4.1042e-02,\n",
       "          4.0783e-02, 2.7930e-02],\n",
       "         [3.9041e-01, 3.6567e-01, 1.5107e-01,  ..., 2.5132e-02,\n",
       "          1.8974e-01, 2.0088e-02],\n",
       "         [1.9019e-01, 1.3091e-05, 1.1075e-04,  ..., 9.4615e-03,\n",
       "          1.5770e-02, 5.8704e-02]],\n",
       "\n",
       "        [[1.7104e-01, 8.6616e-01, 1.1042e-01,  ..., 5.8231e-01,\n",
       "          1.2805e-01, 1.1548e-01],\n",
       "         [9.0803e-01, 9.4317e-03, 9.4071e-03,  ..., 4.3893e-01,\n",
       "          5.9543e-01, 2.5635e-01],\n",
       "         [2.4723e-01, 8.1586e-01, 8.3711e-03,  ..., 8.1309e-01,\n",
       "          1.0519e-01, 7.0097e-01],\n",
       "         ...,\n",
       "         [1.6199e-01, 2.9092e-02, 9.5671e-02,  ..., 4.8756e-01,\n",
       "          3.7015e-01, 3.8657e-02],\n",
       "         [2.2210e-01, 2.7263e-01, 4.3099e-02,  ..., 4.9992e-01,\n",
       "          1.9748e-02, 9.7843e-01],\n",
       "         [1.2061e-01, 5.7333e-01, 9.5019e-01,  ..., 1.8405e-01,\n",
       "          1.0533e-02, 8.1813e-01]],\n",
       "\n",
       "        [[4.2241e-01, 4.2056e-04, 4.2061e-03,  ..., 9.2921e-02,\n",
       "          8.0726e-01, 4.0853e-02],\n",
       "         [8.2534e-02, 7.2341e-01, 2.7210e-01,  ..., 2.3365e-01,\n",
       "          1.6552e-01, 5.5954e-02],\n",
       "         [4.2372e-04, 6.8470e-02, 7.9364e-01,  ..., 4.7241e-02,\n",
       "          7.1990e-02, 6.2527e-01],\n",
       "         ...,\n",
       "         [8.6228e-03, 7.5562e-04, 2.1244e-01,  ..., 2.2215e-01,\n",
       "          1.4776e-02, 2.4812e-02],\n",
       "         [7.6050e-01, 3.1732e-04, 7.8680e-04,  ..., 7.6492e-01,\n",
       "          8.7892e-01, 7.5219e-01],\n",
       "         [6.6827e-03, 8.2839e-03, 2.1590e-01,  ..., 1.2694e-01,\n",
       "          1.3256e-01, 5.1300e-01]],\n",
       "\n",
       "        ...,\n",
       "\n",
       "        [[1.3818e-01, 2.1319e-02, 6.4316e-02,  ..., 4.3749e-01,\n",
       "          1.6736e-02, 6.7481e-01],\n",
       "         [4.1047e-01, 5.3471e-03, 9.7483e-02,  ..., 9.9559e-01,\n",
       "          1.5396e-04, 2.5758e-01],\n",
       "         [4.2230e-01, 1.4048e-01, 1.4898e-01,  ..., 2.2686e-03,\n",
       "          8.4279e-01, 1.2221e-01],\n",
       "         ...,\n",
       "         [3.7897e-01, 1.4748e-03, 7.6832e-01,  ..., 6.0832e-01,\n",
       "          6.7542e-01, 2.6682e-01],\n",
       "         [1.0561e-02, 6.0046e-01, 5.7412e-01,  ..., 7.9628e-01,\n",
       "          2.0525e-01, 1.2871e-01],\n",
       "         [4.8704e-01, 8.7951e-01, 7.3021e-01,  ..., 3.0613e-03,\n",
       "          7.9331e-01, 2.1312e-01]],\n",
       "\n",
       "        [[8.9108e-02, 1.2660e-02, 7.2368e-02,  ..., 1.7896e-02,\n",
       "          2.9437e-01, 3.9344e-03],\n",
       "         [4.8411e-01, 7.4315e-01, 1.8878e-01,  ..., 5.7441e-01,\n",
       "          7.6658e-02, 1.1002e-01],\n",
       "         [1.2906e-02, 1.1889e-02, 3.4848e-05,  ..., 1.6582e-02,\n",
       "          1.6514e-02, 7.4580e-01],\n",
       "         ...,\n",
       "         [4.2486e-04, 9.3354e-02, 1.1997e-02,  ..., 4.2160e-01,\n",
       "          9.8819e-01, 4.7699e-01],\n",
       "         [7.5434e-02, 6.7569e-01, 1.2832e-02,  ..., 9.5036e-01,\n",
       "          3.4333e-01, 1.1277e-02],\n",
       "         [4.4771e-01, 6.8719e-01, 9.0064e-03,  ..., 1.0071e-02,\n",
       "          9.1094e-01, 6.5209e-01]],\n",
       "\n",
       "        [[5.3821e-02, 7.2004e-02, 1.2725e-01,  ..., 3.1539e-01,\n",
       "          1.9095e-03, 8.2402e-01],\n",
       "         [3.6121e-03, 7.5523e-02, 6.2432e-01,  ..., 3.0111e-01,\n",
       "          2.2890e-01, 1.0072e-02],\n",
       "         [3.0958e-01, 2.4806e-01, 1.1477e-01,  ..., 3.8773e-01,\n",
       "          9.0715e-02, 9.9800e-02],\n",
       "         ...,\n",
       "         [1.0728e-01, 2.7191e-02, 5.6255e-01,  ..., 5.0848e-02,\n",
       "          1.5454e-01, 7.2738e-01],\n",
       "         [2.8228e-03, 5.5973e-01, 1.5238e-01,  ..., 8.2840e-01,\n",
       "          6.9798e-01, 6.2957e-01],\n",
       "         [5.0434e-01, 8.5860e-01, 6.1413e-01,  ..., 8.4000e-01,\n",
       "          2.8138e-01, 4.2881e-01]]])"
      ]
     },
     "execution_count": 145,
     "metadata": {},
     "output_type": "execute_result"
    }
   ],
   "source": [
    "ttt * ttt"
   ]
  },
  {
   "cell_type": "code",
   "execution_count": 149,
   "id": "372283a4-712b-4fdb-85d0-a36aa587e188",
   "metadata": {},
   "outputs": [
    {
     "data": {
      "text/plain": [
       "['se', 'teet', 'siema']"
      ]
     },
     "execution_count": 149,
     "metadata": {},
     "output_type": "execute_result"
    }
   ],
   "source": [
    "test = [\"se\", \"siema\", \"teet\"]\n",
    "sorted(test, key=lambda x: len(x))"
   ]
  },
  {
   "cell_type": "code",
   "execution_count": 150,
   "id": "488c23d6-9400-41d7-9fa9-1593fcc44383",
   "metadata": {},
   "outputs": [
    {
     "name": "stdout",
     "output_type": "stream",
     "text": [
      "0 32\n",
      "32 64\n",
      "64 96\n",
      "96 128\n"
     ]
    }
   ],
   "source": [
    "bs = 32\n",
    "for i in range(0, 100, bs):\n",
    "    print(i, i+bs)"
   ]
  },
  {
   "cell_type": "code",
   "execution_count": 156,
   "id": "0d15c6d5-786e-4c65-809b-b70804b4edc7",
   "metadata": {},
   "outputs": [
    {
     "data": {
      "text/plain": [
       "3"
      ]
     },
     "execution_count": 156,
     "metadata": {},
     "output_type": "execute_result"
    }
   ],
   "source": [
    "int(513 / 256) + (513 % 256 > 0)"
   ]
  },
  {
   "cell_type": "code",
   "execution_count": 158,
   "id": "9784ceed-0d46-4228-a106-6d83f2683a25",
   "metadata": {},
   "outputs": [],
   "source": [
    "tttt = torch.rand((3, 4, 5))"
   ]
  },
  {
   "cell_type": "code",
   "execution_count": 159,
   "id": "4079229e-e687-4b73-95b2-960dfb7f2aa9",
   "metadata": {},
   "outputs": [
    {
     "data": {
      "text/plain": [
       "tensor([[[0.4543, 0.1886, 0.7150, 0.1984, 0.2268],\n",
       "         [0.0639, 0.8244, 0.5797, 0.0411, 0.7334],\n",
       "         [0.3235, 0.0458, 0.4692, 0.5834, 0.6336],\n",
       "         [0.8093, 0.2866, 0.4531, 0.6250, 0.5418]],\n",
       "\n",
       "        [[0.9294, 0.7732, 0.3967, 0.6398, 0.0712],\n",
       "         [0.2446, 0.6097, 0.9756, 0.7596, 0.1073],\n",
       "         [0.8985, 0.7612, 0.6161, 0.6261, 0.4998],\n",
       "         [0.2757, 0.6847, 0.4414, 0.7381, 0.0936]],\n",
       "\n",
       "        [[0.3126, 0.7501, 0.2112, 0.9292, 0.2059],\n",
       "         [0.2910, 0.9407, 0.6022, 0.5687, 0.9784],\n",
       "         [0.5493, 0.8104, 0.5967, 0.6127, 0.3635],\n",
       "         [0.5081, 0.4107, 0.9224, 0.3754, 0.6505]]])"
      ]
     },
     "execution_count": 159,
     "metadata": {},
     "output_type": "execute_result"
    }
   ],
   "source": [
    "tttt"
   ]
  },
  {
   "cell_type": "code",
   "execution_count": 162,
   "id": "c5f8a501-863e-4514-b32b-370d612cc381",
   "metadata": {},
   "outputs": [
    {
     "data": {
      "text/plain": [
       "tensor([[[0.3235, 0.0458, 0.4692, 0.5834, 0.6336],\n",
       "         [0.8093, 0.2866, 0.4531, 0.6250, 0.5418]],\n",
       "\n",
       "        [[0.8985, 0.7612, 0.6161, 0.6261, 0.4998],\n",
       "         [0.2757, 0.6847, 0.4414, 0.7381, 0.0936]],\n",
       "\n",
       "        [[0.5493, 0.8104, 0.5967, 0.6127, 0.3635],\n",
       "         [0.5081, 0.4107, 0.9224, 0.3754, 0.6505]]])"
      ]
     },
     "execution_count": 162,
     "metadata": {},
     "output_type": "execute_result"
    }
   ],
   "source": [
    "tttt[:, 2:10, :]"
   ]
  },
  {
   "cell_type": "code",
   "execution_count": 167,
   "id": "601db158-ed43-4818-ab2f-495a6d1b5fe8",
   "metadata": {},
   "outputs": [
    {
     "data": {
      "text/plain": [
       "tensor([[1., 1., 1., 1., 1., 1., 1., 1., 1., 1., 1., 1., 1., 1., 1., 1., 1., 1.,\n",
       "         1., 1., 1., 1., 1., 1., 1., 1., 1., 1., 1., 1., 1., 1., 1., 1., 1., 1.,\n",
       "         1., 1., 1., 1., 1., 1., 1., 1., 1., 1., 1., 1., 1., 1., 1., 1., 1., 1.,\n",
       "         1., 1., 1., 1., 1., 1., 1., 1., 1., 1., 1., 1., 1., 1., 1., 1., 1., 1.,\n",
       "         1., 1., 1., 1., 1., 1., 1., 1., 1., 1., 1., 1., 1., 1., 1., 1., 1., 1.,\n",
       "         1., 1., 1., 1., 1., 1., 1., 1., 1., 1., 1., 1., 1., 1., 1., 1., 1., 1.,\n",
       "         1., 1., 1., 1., 1., 1., 1., 1., 1., 1., 1., 1., 1., 1., 1., 1., 1., 1.,\n",
       "         1., 1., 1., 1., 1., 1., 1., 1., 1., 1., 1., 1., 1., 1., 1., 1., 0., 0.,\n",
       "         0., 0., 0., 0., 0., 0., 0., 0., 0., 0., 0., 0., 0., 0., 0., 0., 0., 0.,\n",
       "         0.],\n",
       "        [1., 1., 1., 1., 1., 1., 1., 1., 1., 1., 1., 1., 1., 1., 1., 1., 1., 1.,\n",
       "         1., 1., 1., 1., 1., 1., 1., 1., 1., 1., 1., 1., 1., 1., 1., 1., 1., 1.,\n",
       "         1., 1., 1., 1., 1., 1., 1., 1., 1., 1., 1., 1., 1., 1., 1., 1., 1., 1.,\n",
       "         1., 1., 1., 1., 1., 1., 1., 1., 1., 1., 1., 1., 1., 1., 1., 1., 1., 1.,\n",
       "         1., 1., 1., 1., 1., 1., 1., 1., 1., 1., 1., 1., 1., 1., 1., 1., 1., 1.,\n",
       "         1., 1., 1., 1., 1., 1., 1., 1., 1., 1., 1., 1., 1., 1., 1., 1., 1., 1.,\n",
       "         1., 1., 1., 1., 1., 1., 1., 1., 1., 1., 1., 1., 1., 1., 1., 1., 1., 1.,\n",
       "         1., 1., 1., 1., 1., 1., 1., 1., 1., 1., 1., 1., 1., 1., 1., 1., 1., 1.,\n",
       "         1., 1., 1., 1., 1., 1., 1., 1., 1., 1., 1., 1., 1., 1., 1., 1., 1., 1.,\n",
       "         1.]])"
      ]
     },
     "execution_count": 167,
     "metadata": {},
     "output_type": "execute_result"
    }
   ],
   "source": [
    "torch.nn.utils.rnn.pad_sequence([\n",
    "    torch.ones(142),\n",
    "    torch.ones(163)\n",
    "], batch_first=True)"
   ]
  },
  {
   "cell_type": "code",
   "execution_count": 174,
   "id": "e99beeab-c4ca-4a87-8a43-77515da446b9",
   "metadata": {},
   "outputs": [],
   "source": [
    "ts1 = torch.rand((10, 20))\n",
    "ts2 = torch.ones(10).long()"
   ]
  },
  {
   "cell_type": "code",
   "execution_count": 175,
   "id": "ebfd2c9f-f4e9-472e-b283-dc4e6b937f59",
   "metadata": {},
   "outputs": [
    {
     "data": {
      "text/plain": [
       "tensor(3.1131)"
      ]
     },
     "execution_count": 175,
     "metadata": {},
     "output_type": "execute_result"
    }
   ],
   "source": [
    "F.cross_entropy(ts1, ts2)"
   ]
  },
  {
   "cell_type": "code",
   "execution_count": 179,
   "id": "245d2af7-9146-48dc-af81-90876a3d8778",
   "metadata": {},
   "outputs": [
    {
     "data": {
      "text/plain": [
       "tensor(3.1131)"
      ]
     },
     "execution_count": 179,
     "metadata": {},
     "output_type": "execute_result"
    }
   ],
   "source": [
    "(F.cross_entropy(ts1[:5, :], ts2[:5]) + F.cross_entropy(ts1[5:, :], ts2[5:]))/2"
   ]
  },
  {
   "cell_type": "code",
   "execution_count": 177,
   "id": "4dedc3f9-a70a-425c-b666-c2d9f3448ca3",
   "metadata": {},
   "outputs": [
    {
     "data": {
      "text/plain": [
       "tensor(2.9944)"
      ]
     },
     "execution_count": 177,
     "metadata": {},
     "output_type": "execute_result"
    }
   ],
   "source": []
  },
  {
   "cell_type": "code",
   "execution_count": 181,
   "id": "3d26c40a-10ce-4a6d-97f7-beeab5965022",
   "metadata": {},
   "outputs": [],
   "source": [
    "m = torch.nn.LogSoftmax()"
   ]
  },
  {
   "cell_type": "code",
   "execution_count": 185,
   "id": "89318e5e-18e2-4dc1-956e-ceee1dc75c4a",
   "metadata": {},
   "outputs": [],
   "source": [
    "input2 = torch.randn(2, 3)"
   ]
  },
  {
   "cell_type": "code",
   "execution_count": 186,
   "id": "17f507d5-3626-4467-82c2-5785ef83f9b2",
   "metadata": {},
   "outputs": [
    {
     "data": {
      "text/plain": [
       "tensor([[ 0.0756, -0.8910, -1.6232],\n",
       "        [ 0.9356,  0.4254, -0.2720]])"
      ]
     },
     "execution_count": 186,
     "metadata": {},
     "output_type": "execute_result"
    }
   ],
   "source": [
    "input2"
   ]
  },
  {
   "cell_type": "code",
   "execution_count": 187,
   "id": "028b298f-05e5-4958-985e-16b481e56009",
   "metadata": {},
   "outputs": [
    {
     "name": "stderr",
     "output_type": "stream",
     "text": [
      "C:\\Users\\Marcin Borzymowski\\AppData\\Local\\Temp\\ipykernel_20568\\1106799298.py:1: UserWarning: Implicit dimension choice for log_softmax has been deprecated. Change the call to include dim=X as an argument.\n",
      "  m(input2)\n"
     ]
    },
    {
     "data": {
      "text/plain": [
       "tensor([[-0.4468, -1.4134, -2.1456],\n",
       "        [-0.6414, -1.1517, -1.8491]])"
      ]
     },
     "execution_count": 187,
     "metadata": {},
     "output_type": "execute_result"
    }
   ],
   "source": [
    "m(input2)"
   ]
  },
  {
   "cell_type": "code",
   "execution_count": 190,
   "id": "3d070e61-c4cc-4f11-a235-52f6a6c8d3b1",
   "metadata": {},
   "outputs": [
    {
     "data": {
      "text/plain": [
       "371"
      ]
     },
     "execution_count": 190,
     "metadata": {},
     "output_type": "execute_result"
    }
   ],
   "source": [
    "3955 % 512"
   ]
  },
  {
   "cell_type": "code",
   "execution_count": null,
   "id": "af53deb1-f196-4439-914d-bb891355227c",
   "metadata": {},
   "outputs": [],
   "source": []
  }
 ],
 "metadata": {
  "kernelspec": {
   "display_name": "Python 3 (ipykernel)",
   "language": "python",
   "name": "python3"
  },
  "language_info": {
   "codemirror_mode": {
    "name": "ipython",
    "version": 3
   },
   "file_extension": ".py",
   "mimetype": "text/x-python",
   "name": "python",
   "nbconvert_exporter": "python",
   "pygments_lexer": "ipython3",
   "version": "3.9.12"
  }
 },
 "nbformat": 4,
 "nbformat_minor": 5
}
