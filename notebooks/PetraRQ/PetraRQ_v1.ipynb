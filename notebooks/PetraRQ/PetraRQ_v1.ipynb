{
 "cells": [
  {
   "cell_type": "code",
   "execution_count": 1,
   "id": "03b40d02-8879-45d5-930c-ebfb260cc2ff",
   "metadata": {},
   "outputs": [],
   "source": [
    "import torch"
   ]
  },
  {
   "cell_type": "code",
   "execution_count": 25,
   "id": "f33e706f-75be-4e2e-9d36-d2b596fdafa6",
   "metadata": {},
   "outputs": [],
   "source": [
    "v1 = torch.tensor([[1,1], [2,2]])\n",
    "v2 = torch.tensor([[1,1], [7,8]])"
   ]
  },
  {
   "cell_type": "code",
   "execution_count": 27,
   "id": "f9948518-b7ab-4c8c-9c64-e96465e3891e",
   "metadata": {},
   "outputs": [
    {
     "data": {
      "text/plain": [
       "tensor([[[ 8,  9],\n",
       "         [ 8,  9]],\n",
       "\n",
       "        [[16, 18],\n",
       "         [16, 18]]])"
      ]
     },
     "execution_count": 27,
     "metadata": {},
     "output_type": "execute_result"
    }
   ],
   "source": [
    "torch.einsum(\"ai,bj->aij\", v1, v2)"
   ]
  },
  {
   "cell_type": "code",
   "execution_count": 58,
   "id": "9b04ab13-0ed0-482f-b90a-1cad980c2a77",
   "metadata": {},
   "outputs": [
    {
     "data": {
      "text/plain": [
       "tensor([[1., 1., 1.],\n",
       "        [1., 1., 1.],\n",
       "        [1., 1., 1.],\n",
       "        [1., 1., 1.],\n",
       "        [1., 1., 1.]])"
      ]
     },
     "execution_count": 58,
     "metadata": {},
     "output_type": "execute_result"
    }
   ],
   "source": [
    "torch.einsum(\"ij,ji\", torch.ones(5,3), torch.ones(3,5))"
   ]
  },
  {
   "cell_type": "code",
   "execution_count": 67,
   "id": "c8feadd1-535e-4696-80ab-b22824284ba6",
   "metadata": {},
   "outputs": [],
   "source": [
    "t1 = torch.tensor([1, 2])\n",
    "\n",
    "tok_emb = torch.nn.Embedding(4, 3)\n",
    "pos_emb = torch.nn.Embedding(4, 3)\n",
    "\n",
    "x = tok_emb(t1)"
   ]
  },
  {
   "cell_type": "code",
   "execution_count": 68,
   "id": "af580ea3-5734-4982-98a0-bd704f8c93dc",
   "metadata": {},
   "outputs": [
    {
     "data": {
      "text/plain": [
       "tensor([[-1.1631,  1.7612,  0.6772],\n",
       "        [ 0.6548, -0.2796, -0.7234]], grad_fn=<EmbeddingBackward0>)"
      ]
     },
     "execution_count": 68,
     "metadata": {},
     "output_type": "execute_result"
    }
   ],
   "source": [
    "x"
   ]
  },
  {
   "cell_type": "code",
   "execution_count": 72,
   "id": "3a48800e-8304-4883-8cf8-d8b21c9c0980",
   "metadata": {},
   "outputs": [
    {
     "data": {
      "text/plain": [
       "tensor([0, 1])"
      ]
     },
     "execution_count": 72,
     "metadata": {},
     "output_type": "execute_result"
    }
   ],
   "source": [
    "torch.arange(x.shape[0])"
   ]
  },
  {
   "cell_type": "code",
   "execution_count": 73,
   "id": "3d36a414-bde2-4dce-9af6-f28e9560aa18",
   "metadata": {},
   "outputs": [
    {
     "data": {
      "text/plain": [
       "tensor([[ 0.5055,  0.8334, -1.1761],\n",
       "        [ 1.3236, -0.3857, -0.9314]], grad_fn=<AddBackward0>)"
      ]
     },
     "execution_count": 73,
     "metadata": {},
     "output_type": "execute_result"
    }
   ],
   "source": [
    "pos_emb(torch.arange(x.shape[0])) + x"
   ]
  },
  {
   "cell_type": "code",
   "execution_count": 80,
   "id": "148928b4-c3db-4cfc-951c-fdc6659cdcb2",
   "metadata": {},
   "outputs": [
    {
     "data": {
      "text/plain": [
       "tensor([1, 2, 3, 4, 5, 6, 7])"
      ]
     },
     "execution_count": 80,
     "metadata": {},
     "output_type": "execute_result"
    }
   ],
   "source": [
    "torch.arange(1, 8)"
   ]
  },
  {
   "cell_type": "code",
   "execution_count": 82,
   "id": "59d89b4b-fbdb-4aca-802f-e81e89a62a47",
   "metadata": {},
   "outputs": [
    {
     "data": {
      "text/plain": [
       "tensor([[ 0,  1,  2,  3,  4],\n",
       "        [ 5,  6,  7,  8,  9],\n",
       "        [10, 11, 12, 13, 14]])"
      ]
     },
     "execution_count": 82,
     "metadata": {},
     "output_type": "execute_result"
    }
   ],
   "source": [
    "xx = torch.arange(15).reshape(3,-1); xx"
   ]
  },
  {
   "cell_type": "code",
   "execution_count": 85,
   "id": "24416195-233c-43bb-b6b8-00acf2450971",
   "metadata": {},
   "outputs": [
    {
     "data": {
      "text/plain": [
       "tensor([1, 2, 3])"
      ]
     },
     "execution_count": 85,
     "metadata": {},
     "output_type": "execute_result"
    }
   ],
   "source": [
    "idx = torch.tensor([1,2,3]); idx"
   ]
  },
  {
   "cell_type": "code",
   "execution_count": 86,
   "id": "61704e74-0bf0-476e-8a9a-973a927eca35",
   "metadata": {},
   "outputs": [
    {
     "data": {
      "text/plain": [
       "tensor([[1, 2],\n",
       "        [2, 3],\n",
       "        [3, 4]])"
      ]
     },
     "execution_count": 86,
     "metadata": {},
     "output_type": "execute_result"
    }
   ],
   "source": [
    "idx = torch.column_stack([idx, idx+1]); idx"
   ]
  },
  {
   "cell_type": "code",
   "execution_count": 88,
   "id": "ba1ea1f2-3d83-4e5c-aa9e-1b3bf34dd2f3",
   "metadata": {},
   "outputs": [
    {
     "data": {
      "text/plain": [
       "tensor([[ 1,  2],\n",
       "        [ 7,  8],\n",
       "        [13, 14]])"
      ]
     },
     "execution_count": 88,
     "metadata": {},
     "output_type": "execute_result"
    }
   ],
   "source": [
    "torch.gather(xx, 1, idx)"
   ]
  },
  {
   "cell_type": "code",
   "execution_count": null,
   "id": "e4eed849-4a42-44f3-879c-3be9389ba7ff",
   "metadata": {},
   "outputs": [],
   "source": []
  },
  {
   "cell_type": "code",
   "execution_count": 109,
   "id": "1374d68c-d798-461e-b9d8-7e4075eadcf7",
   "metadata": {},
   "outputs": [],
   "source": [
    "import math\n",
    "def tensor_std_initializer(tensor):\n",
    "    dim = tensor.shape[-1]\n",
    "    std = 1 / math.sqrt(dim)\n",
    "    tensor.uniform_(-std, std)\n",
    "    return tensor"
   ]
  },
  {
   "cell_type": "code",
   "execution_count": 116,
   "id": "8482e3d8-2af1-4f7e-bde8-21389ab8b67e",
   "metadata": {},
   "outputs": [],
   "source": [
    "param = torch.nn.Parameter(tensor_std_initializer(torch.zeros(8)))"
   ]
  },
  {
   "cell_type": "code",
   "execution_count": 117,
   "id": "e5230776-685d-4958-8f8b-148f85d93acc",
   "metadata": {},
   "outputs": [
    {
     "data": {
      "text/plain": [
       "Parameter containing:\n",
       "tensor([-0.0275, -0.1622,  0.0255, -0.2832, -0.0382,  0.2067, -0.2260, -0.2070],\n",
       "       requires_grad=True)"
      ]
     },
     "execution_count": 117,
     "metadata": {},
     "output_type": "execute_result"
    }
   ],
   "source": [
    "param"
   ]
  },
  {
   "cell_type": "code",
   "execution_count": 118,
   "id": "48733c87-b667-458c-8641-d5ea82ae14c5",
   "metadata": {},
   "outputs": [],
   "source": [
    "idx = torch.tensor([0, 2])"
   ]
  },
  {
   "cell_type": "code",
   "execution_count": 119,
   "id": "0e0c0f10-5fa4-4719-8a17-f4ad4e1fbeda",
   "metadata": {},
   "outputs": [],
   "source": [
    "inputs = torch.tensor([\n",
    "    [1, 2, 3, 4],\n",
    "    [3, 4, 5, 6]\n",
    "])"
   ]
  },
  {
   "cell_type": "code",
   "execution_count": 121,
   "id": "f9c4441d-605f-49db-8ea4-64db3112b8bf",
   "metadata": {},
   "outputs": [
    {
     "data": {
      "text/plain": [
       "tensor([4, 6])"
      ]
     },
     "execution_count": 121,
     "metadata": {},
     "output_type": "execute_result"
    }
   ],
   "source": [
    "fullfiled_tensor = idx + inputs.shape[1]; fullfiled_tensor"
   ]
  },
  {
   "cell_type": "code",
   "execution_count": 124,
   "id": "8d05dba5-eeef-4e5d-a6d8-da7a538aa57c",
   "metadata": {},
   "outputs": [
    {
     "data": {
      "text/plain": [
       "tensor([[0, 4],\n",
       "        [2, 6]])"
      ]
     },
     "execution_count": 124,
     "metadata": {},
     "output_type": "execute_result"
    }
   ],
   "source": [
    "stacked = torch.column_stack((idx, fullfiled_tensor)); stacked"
   ]
  },
  {
   "cell_type": "code",
   "execution_count": 145,
   "id": "9c0d60db-1f92-47c8-ab3f-ec90bc8b5d87",
   "metadata": {},
   "outputs": [
    {
     "data": {
      "text/plain": [
       "(tensor([[0, 0, 0, 0],\n",
       "         [1, 1, 1, 1],\n",
       "         [2, 2, 2, 2],\n",
       "         [3, 3, 3, 3]]),\n",
       " tensor([[0, 1, 2, 3],\n",
       "         [0, 1, 2, 3],\n",
       "         [0, 1, 2, 3],\n",
       "         [0, 1, 2, 3]]))"
      ]
     },
     "execution_count": 145,
     "metadata": {},
     "output_type": "execute_result"
    }
   ],
   "source": [
    "torch.meshgrid(torch.arange(4), torch.arange(4))"
   ]
  },
  {
   "cell_type": "code",
   "execution_count": 147,
   "id": "ddeb65eb-c622-49c0-8ac9-f21418a23d9f",
   "metadata": {},
   "outputs": [
    {
     "data": {
      "text/plain": [
       "tensor([[0, 1, 2, 3],\n",
       "        [0, 1, 2, 3]])"
      ]
     },
     "execution_count": 147,
     "metadata": {},
     "output_type": "execute_result"
    }
   ],
   "source": [
    "torch.tensor([[0, 1, 2, 3], [2, 3, 4, 5]]) - torch.tensor([[0], [2]])"
   ]
  },
  {
   "cell_type": "code",
   "execution_count": 3,
   "id": "50b235bb-8323-49c6-b8e7-3454bd9f3f4a",
   "metadata": {},
   "outputs": [],
   "source": [
    "x = torch.randint(0, 20000, (1, 4096))"
   ]
  },
  {
   "cell_type": "code",
   "execution_count": 4,
   "id": "710eea29-d10e-4606-8c4d-c902caa63c9e",
   "metadata": {},
   "outputs": [
    {
     "data": {
      "text/plain": [
       "torch.Size([1, 4096])"
      ]
     },
     "execution_count": 4,
     "metadata": {},
     "output_type": "execute_result"
    }
   ],
   "source": [
    "x.shape"
   ]
  },
  {
   "cell_type": "code",
   "execution_count": 6,
   "id": "572716b6-461e-4827-9438-a5c2ea492cb8",
   "metadata": {},
   "outputs": [],
   "source": [
    "t1 = torch.rand((64, 128, 16000))"
   ]
  },
  {
   "cell_type": "code",
   "execution_count": 35,
   "id": "dcf8bbf5-5201-49c8-8200-b74ce5717496",
   "metadata": {},
   "outputs": [
    {
     "data": {
      "text/plain": [
       "torch.Size([64, 2, 16000])"
      ]
     },
     "execution_count": 35,
     "metadata": {},
     "output_type": "execute_result"
    }
   ],
   "source": [
    "t1[:, [0, 1]].shape"
   ]
  },
  {
   "cell_type": "code",
   "execution_count": 9,
   "id": "a6b78a30-c57a-4ab9-b79a-de0cbd99ebb3",
   "metadata": {},
   "outputs": [],
   "source": [
    "tt = torch.rand((3, 2, 5))"
   ]
  },
  {
   "cell_type": "code",
   "execution_count": 10,
   "id": "406370a5-7e84-4a32-b46c-0e18ed90e8e4",
   "metadata": {},
   "outputs": [
    {
     "data": {
      "text/plain": [
       "tensor([[[0.2696, 0.4510, 0.2574, 0.1332, 0.0965],\n",
       "         [0.3771, 0.9173, 0.6418, 0.6519, 0.8817]],\n",
       "\n",
       "        [[0.7849, 0.4282, 0.5545, 0.1289, 0.4479],\n",
       "         [0.8653, 0.2863, 0.2721, 0.0128, 0.7464]],\n",
       "\n",
       "        [[0.8676, 0.7976, 0.5319, 0.6706, 0.0284],\n",
       "         [0.9098, 0.3983, 0.4752, 0.3327, 0.7943]]])"
      ]
     },
     "execution_count": 10,
     "metadata": {},
     "output_type": "execute_result"
    }
   ],
   "source": [
    "tt"
   ]
  },
  {
   "cell_type": "code",
   "execution_count": 57,
   "id": "756df33a-5145-4884-860b-cc6e5c006bc6",
   "metadata": {},
   "outputs": [
    {
     "data": {
      "text/plain": [
       "[0, 1, 2]"
      ]
     },
     "execution_count": 57,
     "metadata": {},
     "output_type": "execute_result"
    }
   ],
   "source": [
    "list(range(3))"
   ]
  },
  {
   "cell_type": "code",
   "execution_count": 58,
   "id": "684049c0-6cec-4ded-8c7c-7099b50bb5f0",
   "metadata": {},
   "outputs": [
    {
     "data": {
      "text/plain": [
       "tensor([[0.2696, 0.4510, 0.2574, 0.1332, 0.0965],\n",
       "        [0.8653, 0.2863, 0.2721, 0.0128, 0.7464],\n",
       "        [0.8676, 0.7976, 0.5319, 0.6706, 0.0284]])"
      ]
     },
     "execution_count": 58,
     "metadata": {},
     "output_type": "execute_result"
    }
   ],
   "source": [
    "tt[range(3), [0, 1, 0], :]"
   ]
  },
  {
   "cell_type": "code",
   "execution_count": null,
   "id": "edb0c5c7-64fc-4a97-a2fe-ff649c7f27f1",
   "metadata": {},
   "outputs": [],
   "source": []
  },
  {
   "cell_type": "code",
   "execution_count": null,
   "id": "f5003cb8-fae7-4681-ab9a-3e9587bc5fd1",
   "metadata": {},
   "outputs": [],
   "source": []
  },
  {
   "cell_type": "code",
   "execution_count": null,
   "id": "daf45d2f-0c50-484c-9353-94fe8e901b91",
   "metadata": {},
   "outputs": [],
   "source": []
  },
  {
   "cell_type": "code",
   "execution_count": 22,
   "id": "dd874ecf-6152-45e4-8751-1a4b1e132596",
   "metadata": {},
   "outputs": [],
   "source": [
    "testowy = torch.rand((2, 3, 4, 8))"
   ]
  },
  {
   "cell_type": "code",
   "execution_count": 26,
   "id": "fb742e2d-221a-47ac-9a76-6bf8d6002d63",
   "metadata": {},
   "outputs": [],
   "source": [
    "vals = torch.tensor([2, 3, 4, 4])"
   ]
  },
  {
   "cell_type": "code",
   "execution_count": 27,
   "id": "2459a350-cf28-49e1-83b9-fdac7a44e5b5",
   "metadata": {},
   "outputs": [
    {
     "data": {
      "text/plain": [
       "tensor([[[0.0314, 0.4292, 0.3018, 0.4525, 0.7511, 0.2335, 0.3730, 0.9406],\n",
       "         [0.2074, 0.3084, 0.0860, 0.8985, 0.3136, 0.3661, 0.8801, 0.9172],\n",
       "         [0.6727, 0.7599, 0.6952, 0.4621, 0.6008, 0.0804, 0.7354, 0.2909],\n",
       "         [0.6689, 0.7606, 0.6701, 0.7380, 0.4213, 0.7754, 0.1712, 0.4032]],\n",
       "\n",
       "        [[0.2782, 0.4197, 0.7602, 0.2318, 0.0856, 0.0077, 0.9155, 0.6249],\n",
       "         [0.0602, 0.6482, 0.6538, 0.8103, 0.5456, 0.0035, 0.9932, 0.1430],\n",
       "         [0.7079, 0.5854, 0.4642, 0.7289, 0.6902, 0.2738, 0.6928, 0.5350],\n",
       "         [0.9038, 0.3708, 0.3720, 0.3848, 0.4236, 0.0294, 0.9486, 0.2240]],\n",
       "\n",
       "        [[0.4173, 0.0849, 0.4014, 0.8701, 0.9374, 0.2984, 0.9546, 0.7127],\n",
       "         [0.8730, 0.4784, 0.0856, 0.7420, 0.5100, 0.7488, 0.3747, 0.6961],\n",
       "         [0.9118, 0.4901, 0.3021, 0.6493, 0.2851, 0.0822, 0.3662, 0.3327],\n",
       "         [0.1878, 0.2679, 0.0076, 0.7587, 0.7731, 0.7455, 0.5688, 0.3064]]])"
      ]
     },
     "execution_count": 27,
     "metadata": {},
     "output_type": "execute_result"
    }
   ],
   "source": [
    "testowy[0]"
   ]
  },
  {
   "cell_type": "code",
   "execution_count": 30,
   "id": "2d474e62-a9d7-4408-a3a2-e12b144365f8",
   "metadata": {},
   "outputs": [
    {
     "data": {
      "text/plain": [
       "tensor([[[0.0627, 0.8585, 0.6036, 0.9050, 1.5021, 0.4670, 0.7461, 1.8811],\n",
       "         [0.6222, 0.9253, 0.2580, 2.6956, 0.9409, 1.0983, 2.6404, 2.7515],\n",
       "         [2.6908, 3.0398, 2.7807, 1.8482, 2.4030, 0.3216, 2.9416, 1.1638],\n",
       "         [2.6754, 3.0423, 2.6803, 2.9521, 1.6854, 3.1015, 0.6849, 1.6129]],\n",
       "\n",
       "        [[0.5564, 0.8394, 1.5205, 0.4636, 0.1713, 0.0155, 1.8310, 1.2497],\n",
       "         [0.1805, 1.9445, 1.9615, 2.4309, 1.6369, 0.0105, 2.9796, 0.4291],\n",
       "         [2.8315, 2.3415, 1.8569, 2.9154, 2.7609, 1.0953, 2.7711, 2.1400],\n",
       "         [3.6154, 1.4832, 1.4878, 1.5391, 1.6944, 0.1175, 3.7946, 0.8962]],\n",
       "\n",
       "        [[0.8346, 0.1697, 0.8027, 1.7401, 1.8749, 0.5969, 1.9093, 1.4253],\n",
       "         [2.6189, 1.4353, 0.2567, 2.2260, 1.5300, 2.2464, 1.1240, 2.0884],\n",
       "         [3.6472, 1.9605, 1.2084, 2.5971, 1.1405, 0.3287, 1.4647, 1.3308],\n",
       "         [0.7514, 1.0717, 0.0306, 3.0348, 3.0924, 2.9821, 2.2750, 1.2257]]])"
      ]
     },
     "execution_count": 30,
     "metadata": {},
     "output_type": "execute_result"
    }
   ],
   "source": [
    "torch.einsum(\"bhtn,t->bhtn\", testowy, vals)[0]"
   ]
  },
  {
   "cell_type": "code",
   "execution_count": 37,
   "id": "a07ed83b-7ce5-477b-946e-cfbd189daf19",
   "metadata": {},
   "outputs": [],
   "source": [
    "vec1 = torch.tensor([1,2,3,4,1,2,3,1,2,3,1,2,3,1,1,1,2,3,2,3,2,3,0,0,0,0,0,0,0,0,0,0])\n",
    "vec1 = vec1.numpy()"
   ]
  },
  {
   "cell_type": "code",
   "execution_count": 39,
   "id": "15ab369a-ce01-42f2-84df-4ea31349572a",
   "metadata": {},
   "outputs": [
    {
     "data": {
      "text/plain": [
       "array([22, 23, 24, 25, 26, 27, 28, 29, 30, 31], dtype=int64)"
      ]
     },
     "execution_count": 39,
     "metadata": {},
     "output_type": "execute_result"
    }
   ],
   "source": [
    "(vec1 == 0).nonzero()[0]"
   ]
  },
  {
   "cell_type": "code",
   "execution_count": null,
   "id": "17fc2d5f-d6f5-42fa-ad3b-d25f0de0db5c",
   "metadata": {},
   "outputs": [],
   "source": []
  }
 ],
 "metadata": {
  "kernelspec": {
   "display_name": "Python 3 (ipykernel)",
   "language": "python",
   "name": "python3"
  },
  "language_info": {
   "codemirror_mode": {
    "name": "ipython",
    "version": 3
   },
   "file_extension": ".py",
   "mimetype": "text/x-python",
   "name": "python",
   "nbconvert_exporter": "python",
   "pygments_lexer": "ipython3",
   "version": "3.9.12"
  }
 },
 "nbformat": 4,
 "nbformat_minor": 5
}
