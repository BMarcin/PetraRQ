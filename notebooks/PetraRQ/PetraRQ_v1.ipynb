{
 "cells": [
  {
   "cell_type": "code",
   "execution_count": 4,
   "id": "03b40d02-8879-45d5-930c-ebfb260cc2ff",
   "metadata": {},
   "outputs": [],
   "source": [
    "import torch"
   ]
  },
  {
   "cell_type": "code",
   "execution_count": 25,
   "id": "f33e706f-75be-4e2e-9d36-d2b596fdafa6",
   "metadata": {},
   "outputs": [],
   "source": [
    "v1 = torch.tensor([[1,1], [2,2]])\n",
    "v2 = torch.tensor([[1,1], [7,8]])"
   ]
  },
  {
   "cell_type": "code",
   "execution_count": 27,
   "id": "f9948518-b7ab-4c8c-9c64-e96465e3891e",
   "metadata": {},
   "outputs": [
    {
     "data": {
      "text/plain": [
       "tensor([[[ 8,  9],\n",
       "         [ 8,  9]],\n",
       "\n",
       "        [[16, 18],\n",
       "         [16, 18]]])"
      ]
     },
     "execution_count": 27,
     "metadata": {},
     "output_type": "execute_result"
    }
   ],
   "source": [
    "torch.einsum(\"ai,bj->aij\", v1, v2)"
   ]
  },
  {
   "cell_type": "code",
   "execution_count": 58,
   "id": "9b04ab13-0ed0-482f-b90a-1cad980c2a77",
   "metadata": {},
   "outputs": [
    {
     "data": {
      "text/plain": [
       "tensor([[1., 1., 1.],\n",
       "        [1., 1., 1.],\n",
       "        [1., 1., 1.],\n",
       "        [1., 1., 1.],\n",
       "        [1., 1., 1.]])"
      ]
     },
     "execution_count": 58,
     "metadata": {},
     "output_type": "execute_result"
    }
   ],
   "source": [
    "torch.einsum(\"ij,ji\", torch.ones(5,3), torch.ones(3,5))"
   ]
  },
  {
   "cell_type": "code",
   "execution_count": 67,
   "id": "c8feadd1-535e-4696-80ab-b22824284ba6",
   "metadata": {},
   "outputs": [],
   "source": [
    "t1 = torch.tensor([1, 2])\n",
    "\n",
    "tok_emb = torch.nn.Embedding(4, 3)\n",
    "pos_emb = torch.nn.Embedding(4, 3)\n",
    "\n",
    "x = tok_emb(t1)"
   ]
  },
  {
   "cell_type": "code",
   "execution_count": 68,
   "id": "af580ea3-5734-4982-98a0-bd704f8c93dc",
   "metadata": {},
   "outputs": [
    {
     "data": {
      "text/plain": [
       "tensor([[-1.1631,  1.7612,  0.6772],\n",
       "        [ 0.6548, -0.2796, -0.7234]], grad_fn=<EmbeddingBackward0>)"
      ]
     },
     "execution_count": 68,
     "metadata": {},
     "output_type": "execute_result"
    }
   ],
   "source": [
    "x"
   ]
  },
  {
   "cell_type": "code",
   "execution_count": 72,
   "id": "3a48800e-8304-4883-8cf8-d8b21c9c0980",
   "metadata": {},
   "outputs": [
    {
     "data": {
      "text/plain": [
       "tensor([0, 1])"
      ]
     },
     "execution_count": 72,
     "metadata": {},
     "output_type": "execute_result"
    }
   ],
   "source": [
    "torch.arange(x.shape[0])"
   ]
  },
  {
   "cell_type": "code",
   "execution_count": 73,
   "id": "3d36a414-bde2-4dce-9af6-f28e9560aa18",
   "metadata": {},
   "outputs": [
    {
     "data": {
      "text/plain": [
       "tensor([[ 0.5055,  0.8334, -1.1761],\n",
       "        [ 1.3236, -0.3857, -0.9314]], grad_fn=<AddBackward0>)"
      ]
     },
     "execution_count": 73,
     "metadata": {},
     "output_type": "execute_result"
    }
   ],
   "source": [
    "pos_emb(torch.arange(x.shape[0])) + x"
   ]
  },
  {
   "cell_type": "code",
   "execution_count": 80,
   "id": "148928b4-c3db-4cfc-951c-fdc6659cdcb2",
   "metadata": {},
   "outputs": [
    {
     "data": {
      "text/plain": [
       "tensor([1, 2, 3, 4, 5, 6, 7])"
      ]
     },
     "execution_count": 80,
     "metadata": {},
     "output_type": "execute_result"
    }
   ],
   "source": [
    "torch.arange(1, 8)"
   ]
  },
  {
   "cell_type": "code",
   "execution_count": 82,
   "id": "59d89b4b-fbdb-4aca-802f-e81e89a62a47",
   "metadata": {},
   "outputs": [
    {
     "data": {
      "text/plain": [
       "tensor([[ 0,  1,  2,  3,  4],\n",
       "        [ 5,  6,  7,  8,  9],\n",
       "        [10, 11, 12, 13, 14]])"
      ]
     },
     "execution_count": 82,
     "metadata": {},
     "output_type": "execute_result"
    }
   ],
   "source": [
    "xx = torch.arange(15).reshape(3,-1); xx"
   ]
  },
  {
   "cell_type": "code",
   "execution_count": 85,
   "id": "24416195-233c-43bb-b6b8-00acf2450971",
   "metadata": {},
   "outputs": [
    {
     "data": {
      "text/plain": [
       "tensor([1, 2, 3])"
      ]
     },
     "execution_count": 85,
     "metadata": {},
     "output_type": "execute_result"
    }
   ],
   "source": [
    "idx = torch.tensor([1,2,3]); idx"
   ]
  },
  {
   "cell_type": "code",
   "execution_count": 86,
   "id": "61704e74-0bf0-476e-8a9a-973a927eca35",
   "metadata": {},
   "outputs": [
    {
     "data": {
      "text/plain": [
       "tensor([[1, 2],\n",
       "        [2, 3],\n",
       "        [3, 4]])"
      ]
     },
     "execution_count": 86,
     "metadata": {},
     "output_type": "execute_result"
    }
   ],
   "source": [
    "idx = torch.column_stack([idx, idx+1]); idx"
   ]
  },
  {
   "cell_type": "code",
   "execution_count": 88,
   "id": "ba1ea1f2-3d83-4e5c-aa9e-1b3bf34dd2f3",
   "metadata": {},
   "outputs": [
    {
     "data": {
      "text/plain": [
       "tensor([[ 1,  2],\n",
       "        [ 7,  8],\n",
       "        [13, 14]])"
      ]
     },
     "execution_count": 88,
     "metadata": {},
     "output_type": "execute_result"
    }
   ],
   "source": [
    "torch.gather(xx, 1, idx)"
   ]
  },
  {
   "cell_type": "code",
   "execution_count": null,
   "id": "e4eed849-4a42-44f3-879c-3be9389ba7ff",
   "metadata": {},
   "outputs": [],
   "source": []
  },
  {
   "cell_type": "code",
   "execution_count": 2,
   "id": "1374d68c-d798-461e-b9d8-7e4075eadcf7",
   "metadata": {},
   "outputs": [],
   "source": [
    "import math\n",
    "def tensor_std_initializer(tensor):\n",
    "    dim = tensor.shape[-1]\n",
    "    std = 1 / math.sqrt(dim)\n",
    "    tensor.uniform_(-std, std)\n",
    "    return tensor"
   ]
  },
  {
   "cell_type": "code",
   "execution_count": 116,
   "id": "8482e3d8-2af1-4f7e-bde8-21389ab8b67e",
   "metadata": {},
   "outputs": [],
   "source": [
    "param = torch.nn.Parameter(tensor_std_initializer(torch.zeros(8)))"
   ]
  },
  {
   "cell_type": "code",
   "execution_count": 117,
   "id": "e5230776-685d-4958-8f8b-148f85d93acc",
   "metadata": {},
   "outputs": [
    {
     "data": {
      "text/plain": [
       "Parameter containing:\n",
       "tensor([-0.0275, -0.1622,  0.0255, -0.2832, -0.0382,  0.2067, -0.2260, -0.2070],\n",
       "       requires_grad=True)"
      ]
     },
     "execution_count": 117,
     "metadata": {},
     "output_type": "execute_result"
    }
   ],
   "source": [
    "param"
   ]
  },
  {
   "cell_type": "code",
   "execution_count": 118,
   "id": "48733c87-b667-458c-8641-d5ea82ae14c5",
   "metadata": {},
   "outputs": [],
   "source": [
    "idx = torch.tensor([0, 2])"
   ]
  },
  {
   "cell_type": "code",
   "execution_count": 119,
   "id": "0e0c0f10-5fa4-4719-8a17-f4ad4e1fbeda",
   "metadata": {},
   "outputs": [],
   "source": [
    "inputs = torch.tensor([\n",
    "    [1, 2, 3, 4],\n",
    "    [3, 4, 5, 6]\n",
    "])"
   ]
  },
  {
   "cell_type": "code",
   "execution_count": 121,
   "id": "f9c4441d-605f-49db-8ea4-64db3112b8bf",
   "metadata": {},
   "outputs": [
    {
     "data": {
      "text/plain": [
       "tensor([4, 6])"
      ]
     },
     "execution_count": 121,
     "metadata": {},
     "output_type": "execute_result"
    }
   ],
   "source": [
    "fullfiled_tensor = idx + inputs.shape[1]; fullfiled_tensor"
   ]
  },
  {
   "cell_type": "code",
   "execution_count": 124,
   "id": "8d05dba5-eeef-4e5d-a6d8-da7a538aa57c",
   "metadata": {},
   "outputs": [
    {
     "data": {
      "text/plain": [
       "tensor([[0, 4],\n",
       "        [2, 6]])"
      ]
     },
     "execution_count": 124,
     "metadata": {},
     "output_type": "execute_result"
    }
   ],
   "source": [
    "stacked = torch.column_stack((idx, fullfiled_tensor)); stacked"
   ]
  },
  {
   "cell_type": "code",
   "execution_count": 145,
   "id": "9c0d60db-1f92-47c8-ab3f-ec90bc8b5d87",
   "metadata": {},
   "outputs": [
    {
     "data": {
      "text/plain": [
       "(tensor([[0, 0, 0, 0],\n",
       "         [1, 1, 1, 1],\n",
       "         [2, 2, 2, 2],\n",
       "         [3, 3, 3, 3]]),\n",
       " tensor([[0, 1, 2, 3],\n",
       "         [0, 1, 2, 3],\n",
       "         [0, 1, 2, 3],\n",
       "         [0, 1, 2, 3]]))"
      ]
     },
     "execution_count": 145,
     "metadata": {},
     "output_type": "execute_result"
    }
   ],
   "source": [
    "torch.meshgrid(torch.arange(4), torch.arange(4))"
   ]
  },
  {
   "cell_type": "code",
   "execution_count": 147,
   "id": "ddeb65eb-c622-49c0-8ac9-f21418a23d9f",
   "metadata": {},
   "outputs": [
    {
     "data": {
      "text/plain": [
       "tensor([[0, 1, 2, 3],\n",
       "        [0, 1, 2, 3]])"
      ]
     },
     "execution_count": 147,
     "metadata": {},
     "output_type": "execute_result"
    }
   ],
   "source": [
    "torch.tensor([[0, 1, 2, 3], [2, 3, 4, 5]]) - torch.tensor([[0], [2]])"
   ]
  },
  {
   "cell_type": "code",
   "execution_count": 3,
   "id": "50b235bb-8323-49c6-b8e7-3454bd9f3f4a",
   "metadata": {},
   "outputs": [],
   "source": [
    "x = torch.randint(0, 20000, (1, 4096))"
   ]
  },
  {
   "cell_type": "code",
   "execution_count": 4,
   "id": "710eea29-d10e-4606-8c4d-c902caa63c9e",
   "metadata": {},
   "outputs": [
    {
     "data": {
      "text/plain": [
       "torch.Size([1, 4096])"
      ]
     },
     "execution_count": 4,
     "metadata": {},
     "output_type": "execute_result"
    }
   ],
   "source": [
    "x.shape"
   ]
  },
  {
   "cell_type": "code",
   "execution_count": 6,
   "id": "572716b6-461e-4827-9438-a5c2ea492cb8",
   "metadata": {},
   "outputs": [],
   "source": [
    "t1 = torch.rand((64, 128, 16000))"
   ]
  },
  {
   "cell_type": "code",
   "execution_count": 35,
   "id": "dcf8bbf5-5201-49c8-8200-b74ce5717496",
   "metadata": {},
   "outputs": [
    {
     "data": {
      "text/plain": [
       "torch.Size([64, 2, 16000])"
      ]
     },
     "execution_count": 35,
     "metadata": {},
     "output_type": "execute_result"
    }
   ],
   "source": [
    "t1[:, [0, 1]].shape"
   ]
  },
  {
   "cell_type": "code",
   "execution_count": 93,
   "id": "a6b78a30-c57a-4ab9-b79a-de0cbd99ebb3",
   "metadata": {},
   "outputs": [],
   "source": [
    "tt = torch.rand((3, 10, 5))"
   ]
  },
  {
   "cell_type": "code",
   "execution_count": 105,
   "id": "406370a5-7e84-4a32-b46c-0e18ed90e8e4",
   "metadata": {},
   "outputs": [
    {
     "data": {
      "text/plain": [
       "tensor([[[0.2181, 0.3376, 0.6219, 0.1264, 0.4071],\n",
       "         [0.2398, 0.0297, 0.2066, 0.8164, 0.7588],\n",
       "         [0.6755, 0.7354, 0.1052, 0.4080, 0.2711],\n",
       "         [0.0194, 0.3017, 0.9820, 0.2460, 0.9478],\n",
       "         [0.2271, 0.0133, 0.2926, 0.6449, 0.9037],\n",
       "         [0.1984, 0.0303, 0.9473, 0.8658, 0.2887],\n",
       "         [0.1719, 0.6540, 0.9580, 0.7246, 0.0206],\n",
       "         [0.1976, 0.8516, 0.1744, 0.1311, 0.8105],\n",
       "         [0.3270, 0.3667, 0.1138, 0.4204, 0.0257],\n",
       "         [0.2108, 0.0624, 0.0423, 0.3055, 0.0166]],\n",
       "\n",
       "        [[0.4053, 0.5178, 0.3697, 0.3693, 0.4647],\n",
       "         [0.9675, 0.9931, 0.6052, 0.4798, 0.0804],\n",
       "         [0.3981, 0.9178, 0.9082, 0.3196, 0.5936],\n",
       "         [0.6091, 0.8199, 0.2036, 0.0519, 0.3734],\n",
       "         [0.2035, 0.8440, 0.1679, 0.6288, 0.0857],\n",
       "         [0.1903, 0.0849, 0.3841, 0.3666, 0.6707],\n",
       "         [0.4992, 0.7932, 0.4743, 0.7007, 0.1502],\n",
       "         [0.0126, 0.2148, 0.1293, 0.1901, 0.9462],\n",
       "         [0.8544, 0.5140, 0.3393, 0.8512, 0.6036],\n",
       "         [0.9553, 0.7192, 0.3478, 0.1000, 0.8169]],\n",
       "\n",
       "        [[0.9381, 0.0308, 0.4366, 0.4243, 0.3921],\n",
       "         [0.4451, 0.0137, 0.4617, 0.8696, 0.5015],\n",
       "         [0.2984, 0.8129, 0.9393, 0.6295, 0.1002],\n",
       "         [0.7334, 0.1176, 0.4807, 0.8407, 0.1158],\n",
       "         [0.0260, 0.7961, 0.6516, 0.5755, 0.9695],\n",
       "         [0.7736, 0.6477, 0.9156, 0.6546, 0.9337],\n",
       "         [0.9256, 0.5208, 0.9765, 0.7541, 0.2222],\n",
       "         [0.1078, 0.2899, 0.3907, 0.2389, 0.4122],\n",
       "         [0.0877, 0.4726, 0.9573, 0.3235, 0.8733],\n",
       "         [0.4617, 0.1375, 0.6575, 0.8408, 0.7328]]])"
      ]
     },
     "execution_count": 105,
     "metadata": {},
     "output_type": "execute_result"
    }
   ],
   "source": [
    "tt"
   ]
  },
  {
   "cell_type": "code",
   "execution_count": 106,
   "id": "756df33a-5145-4884-860b-cc6e5c006bc6",
   "metadata": {},
   "outputs": [
    {
     "data": {
      "text/plain": [
       "[0, 1, 2]"
      ]
     },
     "execution_count": 106,
     "metadata": {},
     "output_type": "execute_result"
    }
   ],
   "source": [
    "list(range(3))"
   ]
  },
  {
   "cell_type": "code",
   "execution_count": 107,
   "id": "684049c0-6cec-4ded-8c7c-7099b50bb5f0",
   "metadata": {},
   "outputs": [
    {
     "data": {
      "text/plain": [
       "tensor([[0.2181, 0.3376, 0.6219, 0.1264, 0.4071],\n",
       "        [0.9675, 0.9931, 0.6052, 0.4798, 0.0804],\n",
       "        [0.9381, 0.0308, 0.4366, 0.4243, 0.3921]])"
      ]
     },
     "execution_count": 107,
     "metadata": {},
     "output_type": "execute_result"
    }
   ],
   "source": [
    "tt[range(3), [0, 1, 0], :]"
   ]
  },
  {
   "cell_type": "code",
   "execution_count": 108,
   "id": "00574d81-480b-4429-8584-2b2668493592",
   "metadata": {},
   "outputs": [],
   "source": [
    "ttt = torch.full((3, 10, 5), -100).float()"
   ]
  },
  {
   "cell_type": "code",
   "execution_count": 109,
   "id": "4dcfb53a-214d-4b49-a069-15542e3a2232",
   "metadata": {},
   "outputs": [
    {
     "data": {
      "text/plain": [
       "tensor([[[-100., -100., -100., -100., -100.],\n",
       "         [-100., -100., -100., -100., -100.],\n",
       "         [-100., -100., -100., -100., -100.],\n",
       "         [-100., -100., -100., -100., -100.],\n",
       "         [-100., -100., -100., -100., -100.],\n",
       "         [-100., -100., -100., -100., -100.],\n",
       "         [-100., -100., -100., -100., -100.],\n",
       "         [-100., -100., -100., -100., -100.],\n",
       "         [-100., -100., -100., -100., -100.],\n",
       "         [-100., -100., -100., -100., -100.]],\n",
       "\n",
       "        [[-100., -100., -100., -100., -100.],\n",
       "         [-100., -100., -100., -100., -100.],\n",
       "         [-100., -100., -100., -100., -100.],\n",
       "         [-100., -100., -100., -100., -100.],\n",
       "         [-100., -100., -100., -100., -100.],\n",
       "         [-100., -100., -100., -100., -100.],\n",
       "         [-100., -100., -100., -100., -100.],\n",
       "         [-100., -100., -100., -100., -100.],\n",
       "         [-100., -100., -100., -100., -100.],\n",
       "         [-100., -100., -100., -100., -100.]],\n",
       "\n",
       "        [[-100., -100., -100., -100., -100.],\n",
       "         [-100., -100., -100., -100., -100.],\n",
       "         [-100., -100., -100., -100., -100.],\n",
       "         [-100., -100., -100., -100., -100.],\n",
       "         [-100., -100., -100., -100., -100.],\n",
       "         [-100., -100., -100., -100., -100.],\n",
       "         [-100., -100., -100., -100., -100.],\n",
       "         [-100., -100., -100., -100., -100.],\n",
       "         [-100., -100., -100., -100., -100.],\n",
       "         [-100., -100., -100., -100., -100.]]])"
      ]
     },
     "execution_count": 109,
     "metadata": {},
     "output_type": "execute_result"
    }
   ],
   "source": [
    "ttt"
   ]
  },
  {
   "cell_type": "code",
   "execution_count": 114,
   "id": "edb0c5c7-64fc-4a97-a2fe-ff649c7f27f1",
   "metadata": {},
   "outputs": [
    {
     "data": {
      "text/plain": [
       "tensor([[[ 2.1082e-01,  6.2428e-02,  4.2283e-02,  3.0552e-01,  1.6618e-02],\n",
       "         [-1.0000e+02, -1.0000e+02, -1.0000e+02, -1.0000e+02, -1.0000e+02],\n",
       "         [-1.0000e+02, -1.0000e+02, -1.0000e+02, -1.0000e+02, -1.0000e+02],\n",
       "         [-1.0000e+02, -1.0000e+02, -1.0000e+02, -1.0000e+02, -1.0000e+02],\n",
       "         [-1.0000e+02, -1.0000e+02, -1.0000e+02, -1.0000e+02, -1.0000e+02],\n",
       "         [-1.0000e+02, -1.0000e+02, -1.0000e+02, -1.0000e+02, -1.0000e+02],\n",
       "         [-1.0000e+02, -1.0000e+02, -1.0000e+02, -1.0000e+02, -1.0000e+02],\n",
       "         [-1.0000e+02, -1.0000e+02, -1.0000e+02, -1.0000e+02, -1.0000e+02],\n",
       "         [-1.0000e+02, -1.0000e+02, -1.0000e+02, -1.0000e+02, -1.0000e+02],\n",
       "         [-1.0000e+02, -1.0000e+02, -1.0000e+02, -1.0000e+02, -1.0000e+02]],\n",
       "\n",
       "        [[ 9.5530e-01,  7.1922e-01,  3.4777e-01,  9.9972e-02,  8.1694e-01],\n",
       "         [-1.0000e+02, -1.0000e+02, -1.0000e+02, -1.0000e+02, -1.0000e+02],\n",
       "         [-1.0000e+02, -1.0000e+02, -1.0000e+02, -1.0000e+02, -1.0000e+02],\n",
       "         [-1.0000e+02, -1.0000e+02, -1.0000e+02, -1.0000e+02, -1.0000e+02],\n",
       "         [-1.0000e+02, -1.0000e+02, -1.0000e+02, -1.0000e+02, -1.0000e+02],\n",
       "         [-1.0000e+02, -1.0000e+02, -1.0000e+02, -1.0000e+02, -1.0000e+02],\n",
       "         [-1.0000e+02, -1.0000e+02, -1.0000e+02, -1.0000e+02, -1.0000e+02],\n",
       "         [-1.0000e+02, -1.0000e+02, -1.0000e+02, -1.0000e+02, -1.0000e+02],\n",
       "         [-1.0000e+02, -1.0000e+02, -1.0000e+02, -1.0000e+02, -1.0000e+02],\n",
       "         [-1.0000e+02, -1.0000e+02, -1.0000e+02, -1.0000e+02, -1.0000e+02]],\n",
       "\n",
       "        [[ 4.6167e-01,  1.3746e-01,  6.5747e-01,  8.4084e-01,  7.3280e-01],\n",
       "         [-1.0000e+02, -1.0000e+02, -1.0000e+02, -1.0000e+02, -1.0000e+02],\n",
       "         [-1.0000e+02, -1.0000e+02, -1.0000e+02, -1.0000e+02, -1.0000e+02],\n",
       "         [-1.0000e+02, -1.0000e+02, -1.0000e+02, -1.0000e+02, -1.0000e+02],\n",
       "         [-1.0000e+02, -1.0000e+02, -1.0000e+02, -1.0000e+02, -1.0000e+02],\n",
       "         [-1.0000e+02, -1.0000e+02, -1.0000e+02, -1.0000e+02, -1.0000e+02],\n",
       "         [-1.0000e+02, -1.0000e+02, -1.0000e+02, -1.0000e+02, -1.0000e+02],\n",
       "         [-1.0000e+02, -1.0000e+02, -1.0000e+02, -1.0000e+02, -1.0000e+02],\n",
       "         [-1.0000e+02, -1.0000e+02, -1.0000e+02, -1.0000e+02, -1.0000e+02],\n",
       "         [-1.0000e+02, -1.0000e+02, -1.0000e+02, -1.0000e+02, -1.0000e+02]]])"
      ]
     },
     "execution_count": 114,
     "metadata": {},
     "output_type": "execute_result"
    }
   ],
   "source": [
    "ttt.index_copy(1, torch.tensor([0, 0, 0, 0, 0, 0, 0, 0, 0, 0,]), tt)"
   ]
  },
  {
   "cell_type": "code",
   "execution_count": null,
   "id": "f5003cb8-fae7-4681-ab9a-3e9587bc5fd1",
   "metadata": {},
   "outputs": [],
   "source": []
  },
  {
   "cell_type": "code",
   "execution_count": null,
   "id": "daf45d2f-0c50-484c-9353-94fe8e901b91",
   "metadata": {},
   "outputs": [],
   "source": []
  },
  {
   "cell_type": "code",
   "execution_count": 22,
   "id": "dd874ecf-6152-45e4-8751-1a4b1e132596",
   "metadata": {},
   "outputs": [],
   "source": [
    "testowy = torch.rand((2, 3, 4, 8))"
   ]
  },
  {
   "cell_type": "code",
   "execution_count": 26,
   "id": "fb742e2d-221a-47ac-9a76-6bf8d6002d63",
   "metadata": {},
   "outputs": [],
   "source": [
    "vals = torch.tensor([2, 3, 4, 4])"
   ]
  },
  {
   "cell_type": "code",
   "execution_count": 27,
   "id": "2459a350-cf28-49e1-83b9-fdac7a44e5b5",
   "metadata": {},
   "outputs": [
    {
     "data": {
      "text/plain": [
       "tensor([[[0.0314, 0.4292, 0.3018, 0.4525, 0.7511, 0.2335, 0.3730, 0.9406],\n",
       "         [0.2074, 0.3084, 0.0860, 0.8985, 0.3136, 0.3661, 0.8801, 0.9172],\n",
       "         [0.6727, 0.7599, 0.6952, 0.4621, 0.6008, 0.0804, 0.7354, 0.2909],\n",
       "         [0.6689, 0.7606, 0.6701, 0.7380, 0.4213, 0.7754, 0.1712, 0.4032]],\n",
       "\n",
       "        [[0.2782, 0.4197, 0.7602, 0.2318, 0.0856, 0.0077, 0.9155, 0.6249],\n",
       "         [0.0602, 0.6482, 0.6538, 0.8103, 0.5456, 0.0035, 0.9932, 0.1430],\n",
       "         [0.7079, 0.5854, 0.4642, 0.7289, 0.6902, 0.2738, 0.6928, 0.5350],\n",
       "         [0.9038, 0.3708, 0.3720, 0.3848, 0.4236, 0.0294, 0.9486, 0.2240]],\n",
       "\n",
       "        [[0.4173, 0.0849, 0.4014, 0.8701, 0.9374, 0.2984, 0.9546, 0.7127],\n",
       "         [0.8730, 0.4784, 0.0856, 0.7420, 0.5100, 0.7488, 0.3747, 0.6961],\n",
       "         [0.9118, 0.4901, 0.3021, 0.6493, 0.2851, 0.0822, 0.3662, 0.3327],\n",
       "         [0.1878, 0.2679, 0.0076, 0.7587, 0.7731, 0.7455, 0.5688, 0.3064]]])"
      ]
     },
     "execution_count": 27,
     "metadata": {},
     "output_type": "execute_result"
    }
   ],
   "source": [
    "testowy[0]"
   ]
  },
  {
   "cell_type": "code",
   "execution_count": 30,
   "id": "2d474e62-a9d7-4408-a3a2-e12b144365f8",
   "metadata": {},
   "outputs": [
    {
     "data": {
      "text/plain": [
       "tensor([[[0.0627, 0.8585, 0.6036, 0.9050, 1.5021, 0.4670, 0.7461, 1.8811],\n",
       "         [0.6222, 0.9253, 0.2580, 2.6956, 0.9409, 1.0983, 2.6404, 2.7515],\n",
       "         [2.6908, 3.0398, 2.7807, 1.8482, 2.4030, 0.3216, 2.9416, 1.1638],\n",
       "         [2.6754, 3.0423, 2.6803, 2.9521, 1.6854, 3.1015, 0.6849, 1.6129]],\n",
       "\n",
       "        [[0.5564, 0.8394, 1.5205, 0.4636, 0.1713, 0.0155, 1.8310, 1.2497],\n",
       "         [0.1805, 1.9445, 1.9615, 2.4309, 1.6369, 0.0105, 2.9796, 0.4291],\n",
       "         [2.8315, 2.3415, 1.8569, 2.9154, 2.7609, 1.0953, 2.7711, 2.1400],\n",
       "         [3.6154, 1.4832, 1.4878, 1.5391, 1.6944, 0.1175, 3.7946, 0.8962]],\n",
       "\n",
       "        [[0.8346, 0.1697, 0.8027, 1.7401, 1.8749, 0.5969, 1.9093, 1.4253],\n",
       "         [2.6189, 1.4353, 0.2567, 2.2260, 1.5300, 2.2464, 1.1240, 2.0884],\n",
       "         [3.6472, 1.9605, 1.2084, 2.5971, 1.1405, 0.3287, 1.4647, 1.3308],\n",
       "         [0.7514, 1.0717, 0.0306, 3.0348, 3.0924, 2.9821, 2.2750, 1.2257]]])"
      ]
     },
     "execution_count": 30,
     "metadata": {},
     "output_type": "execute_result"
    }
   ],
   "source": [
    "torch.einsum(\"bhtn,t->bhtn\", testowy, vals)[0]"
   ]
  },
  {
   "cell_type": "code",
   "execution_count": 37,
   "id": "a07ed83b-7ce5-477b-946e-cfbd189daf19",
   "metadata": {},
   "outputs": [],
   "source": [
    "vec1 = torch.tensor([1,2,3,4,1,2,3,1,2,3,1,2,3,1,1,1,2,3,2,3,2,3,0,0,0,0,0,0,0,0,0,0])\n",
    "vec1 = vec1.numpy()"
   ]
  },
  {
   "cell_type": "code",
   "execution_count": 39,
   "id": "15ab369a-ce01-42f2-84df-4ea31349572a",
   "metadata": {},
   "outputs": [
    {
     "data": {
      "text/plain": [
       "array([22, 23, 24, 25, 26, 27, 28, 29, 30, 31], dtype=int64)"
      ]
     },
     "execution_count": 39,
     "metadata": {},
     "output_type": "execute_result"
    }
   ],
   "source": [
    "(vec1 == 0).nonzero()[0]"
   ]
  },
  {
   "cell_type": "code",
   "execution_count": null,
   "id": "17fc2d5f-d6f5-42fa-ad3b-d25f0de0db5c",
   "metadata": {},
   "outputs": [],
   "source": []
  },
  {
   "cell_type": "code",
   "execution_count": null,
   "id": "31b457e6-9737-496a-b1ad-ce09233c701f",
   "metadata": {},
   "outputs": [],
   "source": []
  },
  {
   "cell_type": "code",
   "execution_count": 115,
   "id": "1e318587-58a6-47cd-a7a0-78c317f50c6f",
   "metadata": {},
   "outputs": [],
   "source": [
    "import numpy as np"
   ]
  },
  {
   "cell_type": "code",
   "execution_count": 120,
   "id": "4355b116-c3f9-4cb6-980c-3f7b78e2c11d",
   "metadata": {},
   "outputs": [
    {
     "data": {
      "text/plain": [
       "array([[[0.31124128, 0.34310887, 0.28562586, 0.47814743, 0.50370822],\n",
       "        [0.68994959, 0.70208371, 0.74329198, 0.78511563, 0.76707755],\n",
       "        [0.9333849 , 0.45635022, 0.99833828, 0.90051213, 0.59909823]],\n",
       "\n",
       "       [[0.05777374, 0.73985772, 0.73686188, 0.53537419, 0.22164713],\n",
       "        [0.45543217, 0.44068094, 0.80276152, 0.86062666, 0.67965405],\n",
       "        [0.0381342 , 0.27658601, 0.50197739, 0.82796532, 0.30140164]]])"
      ]
     },
     "execution_count": 120,
     "metadata": {},
     "output_type": "execute_result"
    }
   ],
   "source": [
    "np.random.rand(2,3,5)"
   ]
  },
  {
   "cell_type": "code",
   "execution_count": 121,
   "id": "bffd1e94-fe01-4e4e-89ec-d24d1e7337e1",
   "metadata": {},
   "outputs": [
    {
     "ename": "SyntaxError",
     "evalue": "cannot assign to function call (495041170.py, line 1)",
     "output_type": "error",
     "traceback": [
      "\u001b[1;36m  Input \u001b[1;32mIn [121]\u001b[1;36m\u001b[0m\n\u001b[1;33m    np.random.rand(2,3,5) = 1\u001b[0m\n\u001b[1;37m    ^\u001b[0m\n\u001b[1;31mSyntaxError\u001b[0m\u001b[1;31m:\u001b[0m cannot assign to function call\n"
     ]
    }
   ],
   "source": [
    "np.random.rand(2,3,5) = 1"
   ]
  },
  {
   "cell_type": "code",
   "execution_count": 144,
   "id": "8ad34d75-9649-4ebf-af96-74bac163c513",
   "metadata": {},
   "outputs": [
    {
     "data": {
      "text/plain": [
       "array([[[0.33298779, 0.77652431, 0.29826832, ..., 0.96763502,\n",
       "         0.87304339, 0.90968174],\n",
       "        [0.18089855, 0.25466449, 0.99132498, ..., 0.25211939,\n",
       "         0.37819825, 0.93500394],\n",
       "        [0.01862249, 0.25025036, 0.81187196, ..., 0.30257725,\n",
       "         0.53053798, 0.14573129],\n",
       "        ...,\n",
       "        [0.62351566, 0.70245521, 0.37046336, ..., 0.38754314,\n",
       "         0.77624286, 0.37442213],\n",
       "        [0.50324061, 0.28702605, 0.65891774, ..., 0.15646065,\n",
       "         0.32651244, 0.38606108],\n",
       "        [0.31894594, 0.6278026 , 0.86797105, ..., 0.45973442,\n",
       "         0.5432769 , 0.02681728]],\n",
       "\n",
       "       [[0.10171109, 0.44864076, 0.56095867, ..., 0.34526678,\n",
       "         0.47908909, 0.51688614],\n",
       "        [0.12253233, 0.98787085, 0.61797511, ..., 0.30654231,\n",
       "         0.71992616, 0.03414792],\n",
       "        [0.23124644, 0.52087121, 0.80389731, ..., 0.7642841 ,\n",
       "         0.62584669, 0.23532098],\n",
       "        ...,\n",
       "        [0.90120208, 0.35254008, 0.06920103, ..., 0.94786825,\n",
       "         0.29009763, 0.09417951],\n",
       "        [0.75584371, 0.08345646, 0.90275536, ..., 0.07278613,\n",
       "         0.59916737, 0.22051061],\n",
       "        [0.7826545 , 0.03836642, 0.79216484, ..., 0.30191062,\n",
       "         0.95128393, 0.27882528]],\n",
       "\n",
       "       [[0.2557176 , 0.22895738, 0.28643902, ..., 0.8968061 ,\n",
       "         0.59458258, 0.02660805],\n",
       "        [0.1514202 , 0.16362104, 0.71889962, ..., 0.23792878,\n",
       "         0.68672052, 0.02520737],\n",
       "        [0.40927716, 0.61768486, 0.73144857, ..., 0.58136435,\n",
       "         0.71018408, 0.63370075],\n",
       "        ...,\n",
       "        [0.04189444, 0.76593251, 0.73255862, ..., 0.1458771 ,\n",
       "         0.55683437, 0.13009794],\n",
       "        [0.04352333, 0.99123196, 0.89270647, ..., 0.93999141,\n",
       "         0.74555481, 0.86003712],\n",
       "        [0.38271533, 0.48278956, 0.52756706, ..., 0.0683023 ,\n",
       "         0.20172352, 0.79548131]],\n",
       "\n",
       "       ...,\n",
       "\n",
       "       [[0.62274258, 0.86200919, 0.03140603, ..., 0.12603298,\n",
       "         0.14775411, 0.93146352],\n",
       "        [0.11636342, 0.30497982, 0.48153881, ..., 0.60966498,\n",
       "         0.27560047, 0.47729559],\n",
       "        [0.35430645, 0.76086678, 0.02160201, ..., 0.82082636,\n",
       "         0.95881177, 0.80117867],\n",
       "        ...,\n",
       "        [0.99979951, 0.46305504, 0.32937346, ..., 0.20904418,\n",
       "         0.64237376, 0.18319756],\n",
       "        [0.20042329, 0.41624218, 0.79475066, ..., 0.39903221,\n",
       "         0.38371071, 0.8291884 ],\n",
       "        [0.19753886, 0.37149477, 0.68739497, ..., 0.28640253,\n",
       "         0.67596977, 0.51650715]],\n",
       "\n",
       "       [[0.26843622, 0.15185282, 0.55727961, ..., 0.94220977,\n",
       "         0.14514127, 0.12172185],\n",
       "        [0.03329996, 0.93610112, 0.21633361, ..., 0.37860884,\n",
       "         0.09164071, 0.02534261],\n",
       "        [0.54438915, 0.90861353, 0.4236358 , ..., 0.43581356,\n",
       "         0.17980159, 0.34475896],\n",
       "        ...,\n",
       "        [0.1460454 , 0.98200777, 0.44435986, ..., 0.35472901,\n",
       "         0.23676998, 0.41861606],\n",
       "        [0.50398684, 0.15747382, 0.75613781, ..., 0.1300168 ,\n",
       "         0.35280573, 0.77976118],\n",
       "        [0.41469963, 0.23243898, 0.79710598, ..., 0.65401423,\n",
       "         0.95546054, 0.55291623]],\n",
       "\n",
       "       [[0.62055827, 0.0316333 , 0.89733677, ..., 0.39615642,\n",
       "         0.07958648, 0.92987685],\n",
       "        [0.5844837 , 0.59469808, 0.53395386, ..., 0.00346254,\n",
       "         0.06534735, 0.28222263],\n",
       "        [0.67134889, 0.46593146, 0.05771937, ..., 0.33985435,\n",
       "         0.34552288, 0.00717414],\n",
       "        ...,\n",
       "        [0.29530159, 0.76920553, 0.82566148, ..., 0.45971518,\n",
       "         0.29675251, 0.18387888],\n",
       "        [0.03567956, 0.74948902, 0.01978084, ..., 0.19625421,\n",
       "         0.88584468, 0.24872725],\n",
       "        [0.68935354, 0.42498252, 0.58665031, ..., 0.22325209,\n",
       "         0.72094405, 0.59985056]]])"
      ]
     },
     "execution_count": 144,
     "metadata": {},
     "output_type": "execute_result"
    }
   ],
   "source": [
    "np.random.rand(32, 512, 512)"
   ]
  },
  {
   "cell_type": "code",
   "execution_count": 5,
   "id": "71a16967-6905-4000-8a98-7eed14a2aa57",
   "metadata": {},
   "outputs": [],
   "source": [
    "import torch.nn.functional as F"
   ]
  },
  {
   "cell_type": "code",
   "execution_count": 6,
   "id": "2fb25e75-cc98-4bf0-a840-d912b91a0e28",
   "metadata": {},
   "outputs": [],
   "source": [
    "x = torch.rand((10, 10))"
   ]
  },
  {
   "cell_type": "code",
   "execution_count": 7,
   "id": "5a51ead7-097e-4a1e-b490-fc4e56485d39",
   "metadata": {},
   "outputs": [],
   "source": [
    "y = torch.tensor([   \n",
    "    [-100],\n",
    "    [   2],\n",
    "    [   3],\n",
    "    [-100],\n",
    "    [   5],\n",
    "    [-100],\n",
    "    [-100],\n",
    "    [   8],\n",
    "    [-100],\n",
    "    [-100]\n",
    "]).reshape(-1)"
   ]
  },
  {
   "cell_type": "code",
   "execution_count": 8,
   "id": "e1725a4d-3777-4a20-8394-5fc7829ce234",
   "metadata": {},
   "outputs": [
    {
     "data": {
      "text/plain": [
       "tensor(2.3977)"
      ]
     },
     "execution_count": 8,
     "metadata": {},
     "output_type": "execute_result"
    }
   ],
   "source": [
    "F.cross_entropy(x, y)"
   ]
  },
  {
   "cell_type": "code",
   "execution_count": 10,
   "id": "339ac766-c996-4973-bb5c-3b7f8e956e02",
   "metadata": {},
   "outputs": [],
   "source": [
    "import numpy as np"
   ]
  },
  {
   "cell_type": "code",
   "execution_count": 56,
   "id": "93a7b8a3-dc84-4b4b-99b0-7ebdb385c130",
   "metadata": {},
   "outputs": [],
   "source": [
    "nn1 = np.array([ 545, 5778,    0,  772,  965,  645, 1037, 1094,   15,   10,  102,   11,   25,    5,\n",
    "   10,  102,   11,    6,   10,  102,   11])"
   ]
  },
  {
   "cell_type": "code",
   "execution_count": 57,
   "id": "8a0f9efc-36e1-4762-b8b3-f6985a6348a4",
   "metadata": {},
   "outputs": [
    {
     "data": {
      "text/plain": [
       "array([ True,  True,  True,  True,  True,  True,  True,  True,  True,\n",
       "        True,  True,  True,  True,  True,  True,  True,  True,  True,\n",
       "        True,  True,  True])"
      ]
     },
     "execution_count": 57,
     "metadata": {},
     "output_type": "execute_result"
    }
   ],
   "source": [
    "mask = np.ones(nn1.shape,dtype=bool); mask"
   ]
  },
  {
   "cell_type": "code",
   "execution_count": 58,
   "id": "22c95b6d-740e-436e-bc46-79fe38d644d8",
   "metadata": {},
   "outputs": [
    {
     "data": {
      "text/plain": [
       "array([ True, False, False, False,  True,  True,  True,  True,  True,\n",
       "        True,  True,  True,  True,  True,  True,  True,  True,  True,\n",
       "        True,  True,  True])"
      ]
     },
     "execution_count": 58,
     "metadata": {},
     "output_type": "execute_result"
    }
   ],
   "source": [
    "mask[[1, 2, 3]] = False; mask"
   ]
  },
  {
   "cell_type": "code",
   "execution_count": 59,
   "id": "b26d28ec-d079-434d-8953-acace7ec898a",
   "metadata": {},
   "outputs": [
    {
     "data": {
      "text/plain": [
       "array([ -10, 5778,    0,  772,  -10,  -10,  -10,  -10,  -10,  -10,  -10,\n",
       "        -10,  -10,  -10,  -10,  -10,  -10,  -10,  -10,  -10,  -10])"
      ]
     },
     "execution_count": 59,
     "metadata": {},
     "output_type": "execute_result"
    }
   ],
   "source": [
    "nn1[mask] = -10; nn1"
   ]
  },
  {
   "cell_type": "code",
   "execution_count": 40,
   "id": "8535dd59-b461-44ad-9e15-c695da1b7ab6",
   "metadata": {},
   "outputs": [],
   "source": [
    "nn1[nn1 != np.array([20, 1, 4])] = -10"
   ]
  },
  {
   "cell_type": "code",
   "execution_count": 41,
   "id": "86f06b5d-17e5-49d3-9e2e-8483f59eb114",
   "metadata": {},
   "outputs": [
    {
     "data": {
      "text/plain": [
       "array([ -10, 5778,    0,  772,  965,  645, 1037, 1094,   15,   10,  102,\n",
       "         11,   25,    5,   10,  102,  -10,    6,   10,  -10,   11])"
      ]
     },
     "execution_count": 41,
     "metadata": {},
     "output_type": "execute_result"
    }
   ],
   "source": [
    "nn1"
   ]
  },
  {
   "cell_type": "code",
   "execution_count": 31,
   "id": "7cdce9bb-9334-404e-9a33-52423f5e60bb",
   "metadata": {},
   "outputs": [
    {
     "data": {
      "text/plain": [
       "array([False, False,  True, False, False, False, False, False, False,\n",
       "       False, False, False, False, False, False, False, False, False,\n",
       "       False, False, False])"
      ]
     },
     "execution_count": 31,
     "metadata": {},
     "output_type": "execute_result"
    }
   ],
   "source": [
    "np.isin(nn1, [0, 1])"
   ]
  },
  {
   "cell_type": "code",
   "execution_count": null,
   "id": "ff2b5554-010c-4ab9-aed9-3a12a72871b4",
   "metadata": {},
   "outputs": [],
   "source": []
  },
  {
   "cell_type": "code",
   "execution_count": null,
   "id": "0c5e024c-f5b6-45b1-b5fb-70aa8be69037",
   "metadata": {},
   "outputs": [],
   "source": []
  },
  {
   "cell_type": "code",
   "execution_count": null,
   "id": "22cd79a5-330d-42bd-a94e-c11c1202eef0",
   "metadata": {},
   "outputs": [],
   "source": []
  },
  {
   "cell_type": "code",
   "execution_count": 2,
   "id": "61a1af59-469d-45c4-95a1-9e7c7153260d",
   "metadata": {},
   "outputs": [
    {
     "name": "stdout",
     "output_type": "stream",
     "text": [
      "0 0\n",
      "1 0\n",
      "2 0\n",
      "3 0\n",
      "4 0\n",
      "5 0\n",
      "6 0\n",
      "7 0\n",
      "8 0\n",
      "9 0\n",
      "10 1\n",
      "11 1\n",
      "12 1\n",
      "13 1\n",
      "14 1\n",
      "15 1\n",
      "16 1\n",
      "17 1\n",
      "18 1\n",
      "19 1\n",
      "20 2\n",
      "21 2\n",
      "22 2\n",
      "23 2\n",
      "24 2\n",
      "25 2\n",
      "26 2\n",
      "27 2\n",
      "28 2\n",
      "29 2\n",
      "30 3\n",
      "31 3\n",
      "32 3\n",
      "33 3\n",
      "34 3\n",
      "35 3\n",
      "36 3\n",
      "37 3\n",
      "38 3\n",
      "39 3\n",
      "40 4\n",
      "41 4\n",
      "42 4\n",
      "43 4\n",
      "44 4\n",
      "45 4\n",
      "46 4\n",
      "47 4\n",
      "48 4\n",
      "49 4\n",
      "50 5\n",
      "51 5\n",
      "52 5\n",
      "53 5\n",
      "54 5\n",
      "55 5\n",
      "56 5\n",
      "57 5\n",
      "58 5\n",
      "59 5\n",
      "60 6\n",
      "61 6\n",
      "62 6\n",
      "63 6\n",
      "64 6\n",
      "65 6\n",
      "66 6\n",
      "67 6\n",
      "68 6\n",
      "69 6\n",
      "70 7\n",
      "71 7\n",
      "72 7\n",
      "73 7\n",
      "74 7\n",
      "75 7\n",
      "76 7\n",
      "77 7\n",
      "78 7\n",
      "79 7\n",
      "80 8\n",
      "81 8\n",
      "82 8\n",
      "83 8\n",
      "84 8\n",
      "85 8\n",
      "86 8\n",
      "87 8\n",
      "88 8\n",
      "89 8\n",
      "90 9\n",
      "91 9\n",
      "92 9\n",
      "93 9\n",
      "94 9\n",
      "95 9\n",
      "96 9\n",
      "97 9\n",
      "98 9\n",
      "99 9\n"
     ]
    }
   ],
   "source": [
    "for i in range(100):\n",
    "    print(i, int(i/10))"
   ]
  },
  {
   "cell_type": "code",
   "execution_count": null,
   "id": "e3147012-53ce-451c-8df3-1211080cae84",
   "metadata": {},
   "outputs": [],
   "source": []
  },
  {
   "cell_type": "code",
   "execution_count": null,
   "id": "66c86024-00e3-4dbc-89cc-73aabdb7f03d",
   "metadata": {},
   "outputs": [],
   "source": []
  }
 ],
 "metadata": {
  "kernelspec": {
   "display_name": "Python 3 (ipykernel)",
   "language": "python",
   "name": "python3"
  },
  "language_info": {
   "codemirror_mode": {
    "name": "ipython",
    "version": 3
   },
   "file_extension": ".py",
   "mimetype": "text/x-python",
   "name": "python",
   "nbconvert_exporter": "python",
   "pygments_lexer": "ipython3",
   "version": "3.9.12"
  }
 },
 "nbformat": 4,
 "nbformat_minor": 5
}
